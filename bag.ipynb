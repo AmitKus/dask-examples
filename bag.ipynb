{
 "cells": [
  {
   "cell_type": "markdown",
   "metadata": {},
   "source": [
    "# Dask Bags\n",
    "\n",
    "\n",
    "Dask Bag implements operations like `map`, `filter`, `groupby` and aggregations on collections of Python objects. It does this in parallel and in small memory using Python iterators. It is similar to a parallel version of itertools or a Pythonic version of the PySpark RDD.\n",
    "\n",
    "Dask Bags are often used to do simple preprocessing on log files, JSON records, or other user defined Python objects.\n",
    "\n",
    "Full API documentation is available here: http://docs.dask.org/en/latest/bag-api.html"
   ]
  },
  {
   "cell_type": "markdown",
   "metadata": {},
   "source": [
    "## Start Dask Client for Dashboard\n",
    "\n",
    "Starting the Dask Client is optional.  It will provide a dashboard which \n",
    "is useful to gain insight on the computation.  \n",
    "\n",
    "The link to the dashboard will become visible when you create the client below.  We recommend having it open on one side of your screen while using your notebook on the other side.  This can take some effort to arrange your windows, but seeing them both at the same is very useful when learning."
   ]
  },
  {
   "cell_type": "code",
   "execution_count": 1,
   "metadata": {},
   "outputs": [
    {
     "data": {
      "text/html": [
       "<table style=\"border: 2px solid white;\">\n",
       "<tr>\n",
       "<td style=\"vertical-align: top; border: 0px solid white\">\n",
       "<h3 style=\"text-align: left;\">Client</h3>\n",
       "<ul style=\"text-align: left; list-style: none; margin: 0; padding: 0;\">\n",
       "  <li><b>Scheduler: </b>tcp://127.0.0.1:35515</li>\n",
       "  <li><b>Dashboard: </b><a href='http://127.0.0.1:8787/status' target='_blank'>http://127.0.0.1:8787/status</a>\n",
       "</ul>\n",
       "</td>\n",
       "<td style=\"vertical-align: top; border: 0px solid white\">\n",
       "<h3 style=\"text-align: left;\">Cluster</h3>\n",
       "<ul style=\"text-align: left; list-style:none; margin: 0; padding: 0;\">\n",
       "  <li><b>Workers: </b>4</li>\n",
       "  <li><b>Cores: </b>4</li>\n",
       "  <li><b>Memory: </b>8.36 GB</li>\n",
       "</ul>\n",
       "</td>\n",
       "</tr>\n",
       "</table>"
      ],
      "text/plain": [
       "<Client: 'tcp://127.0.0.1:35515' processes=4 threads=4, memory=8.36 GB>"
      ]
     },
     "execution_count": 1,
     "metadata": {},
     "output_type": "execute_result"
    }
   ],
   "source": [
    "from dask.distributed import Client, progress\n",
    "client = Client(n_workers=4, threads_per_worker=1)\n",
    "client"
   ]
  },
  {
   "cell_type": "markdown",
   "metadata": {},
   "source": [
    "## Create Random Data\n",
    "\n",
    "We create a random set of record data and store it to disk as many JSON files.  This will serve as our data for this notebook."
   ]
  },
  {
   "cell_type": "code",
   "execution_count": 2,
   "metadata": {},
   "outputs": [
    {
     "data": {
      "text/plain": [
       "['/home/travis/build/dask/dask-examples/data/0.json',\n",
       " '/home/travis/build/dask/dask-examples/data/1.json',\n",
       " '/home/travis/build/dask/dask-examples/data/2.json',\n",
       " '/home/travis/build/dask/dask-examples/data/3.json',\n",
       " '/home/travis/build/dask/dask-examples/data/4.json',\n",
       " '/home/travis/build/dask/dask-examples/data/5.json',\n",
       " '/home/travis/build/dask/dask-examples/data/6.json',\n",
       " '/home/travis/build/dask/dask-examples/data/7.json',\n",
       " '/home/travis/build/dask/dask-examples/data/8.json',\n",
       " '/home/travis/build/dask/dask-examples/data/9.json']"
      ]
     },
     "execution_count": 2,
     "metadata": {},
     "output_type": "execute_result"
    }
   ],
   "source": [
    "import dask\n",
    "import json\n",
    "import os\n",
    "\n",
    "os.makedirs('data', exist_ok=True)              # Create data/ directory\n",
    "\n",
    "b = dask.datasets.make_people()                 # Make records of people\n",
    "b.map(json.dumps).to_textfiles('data/*.json')   # Encode as JSON, write to disk"
   ]
  },
  {
   "cell_type": "markdown",
   "metadata": {},
   "source": [
    "## Read JSON data\n",
    "\n",
    "Now that we have some JSON data in a file lets take a look at it with Dask Bag and Python JSON module."
   ]
  },
  {
   "cell_type": "code",
   "execution_count": 3,
   "metadata": {},
   "outputs": [
    {
     "name": "stdout",
     "output_type": "stream",
     "text": [
      "{\"age\": 25, \"name\": [\"Lisbeth\", \"Holden\"], \"occupation\": \"Milklady\", \"telephone\": \"(523) 694-7315\", \"address\": {\"address\": \"305 Ellington Nene\", \"city\": \"Loma Linda\"}, \"credit-card\": {\"number\": \"5502 6481 8351 9568\", \"expiration-date\": \"10/21\"}}\r\n",
      "{\"age\": 18, \"name\": [\"Fredericka\", \"Harper\"], \"occupation\": \"Tree Surgeon\", \"telephone\": \"546-621-9103\", \"address\": {\"address\": \"564 Theresa Drive\", \"city\": \"New Lenox\"}, \"credit-card\": {\"number\": \"4828 1380 0268 7093\", \"expiration-date\": \"01/23\"}}\r\n"
     ]
    }
   ],
   "source": [
    "!head -n 2 data/0.json"
   ]
  },
  {
   "cell_type": "code",
   "execution_count": 4,
   "metadata": {},
   "outputs": [
    {
     "data": {
      "text/plain": [
       "dask.bag<loads, npartitions=10>"
      ]
     },
     "execution_count": 4,
     "metadata": {},
     "output_type": "execute_result"
    }
   ],
   "source": [
    "import dask.bag as db\n",
    "import json\n",
    "\n",
    "b = db.read_text('data/*.json').map(json.loads)\n",
    "b"
   ]
  },
  {
   "cell_type": "code",
   "execution_count": 5,
   "metadata": {},
   "outputs": [
    {
     "data": {
      "text/plain": [
       "({'age': 25,\n",
       "  'name': ['Lisbeth', 'Holden'],\n",
       "  'occupation': 'Milklady',\n",
       "  'telephone': '(523) 694-7315',\n",
       "  'address': {'address': '305 Ellington Nene', 'city': 'Loma Linda'},\n",
       "  'credit-card': {'number': '5502 6481 8351 9568',\n",
       "   'expiration-date': '10/21'}},\n",
       " {'age': 18,\n",
       "  'name': ['Fredericka', 'Harper'],\n",
       "  'occupation': 'Tree Surgeon',\n",
       "  'telephone': '546-621-9103',\n",
       "  'address': {'address': '564 Theresa Drive', 'city': 'New Lenox'},\n",
       "  'credit-card': {'number': '4828 1380 0268 7093',\n",
       "   'expiration-date': '01/23'}})"
      ]
     },
     "execution_count": 5,
     "metadata": {},
     "output_type": "execute_result"
    }
   ],
   "source": [
    "b.take(2)"
   ]
  },
  {
   "cell_type": "markdown",
   "metadata": {},
   "source": [
    "## Map, Filter, Aggregate\n",
    "\n",
    "We can process this data by filtering out only certain records of interest, mapping functions over it to process our data, and aggregating those results to a total value."
   ]
  },
  {
   "cell_type": "code",
   "execution_count": 6,
   "metadata": {},
   "outputs": [
    {
     "data": {
      "text/plain": [
       "({'age': 66,\n",
       "  'name': ['Janita', 'Nicholson'],\n",
       "  'occupation': 'Tyre Technician',\n",
       "  'telephone': '1-043-028-8840',\n",
       "  'address': {'address': '492 Lyell Crescent', 'city': 'Scarsdale'},\n",
       "  'credit-card': {'number': '5355 4312 3501 6083',\n",
       "   'expiration-date': '10/18'}},\n",
       " {'age': 31,\n",
       "  'name': ['Blake', 'Bass'],\n",
       "  'occupation': 'Riding Instructor',\n",
       "  'telephone': '873.597.3407',\n",
       "  'address': {'address': '1277 Medical Center Route', 'city': 'Parker'},\n",
       "  'credit-card': {'number': '2554 6177 5416 3787',\n",
       "   'expiration-date': '06/20'}})"
      ]
     },
     "execution_count": 6,
     "metadata": {},
     "output_type": "execute_result"
    }
   ],
   "source": [
    "b.filter(lambda record: record['age'] > 30).take(2)  # Select only people over 30"
   ]
  },
  {
   "cell_type": "code",
   "execution_count": 7,
   "metadata": {},
   "outputs": [
    {
     "data": {
      "text/plain": [
       "('Milklady', 'Tree Surgeon')"
      ]
     },
     "execution_count": 7,
     "metadata": {},
     "output_type": "execute_result"
    }
   ],
   "source": [
    "b.map(lambda record: record['occupation']).take(2)  # Select the occupation field"
   ]
  },
  {
   "cell_type": "code",
   "execution_count": 8,
   "metadata": {},
   "outputs": [
    {
     "data": {
      "text/plain": [
       "10000"
      ]
     },
     "execution_count": 8,
     "metadata": {},
     "output_type": "execute_result"
    }
   ],
   "source": [
    "b.count().compute()  # Count total number of records"
   ]
  },
  {
   "cell_type": "markdown",
   "metadata": {},
   "source": [
    "## Chain computations\n",
    "\n",
    "It is common to do many of these steps in one pipeline, only calling `compute` or `take` at the end."
   ]
  },
  {
   "cell_type": "code",
   "execution_count": 9,
   "metadata": {},
   "outputs": [
    {
     "data": {
      "text/plain": [
       "dask.bag<topk-aggregate, npartitions=1>"
      ]
     },
     "execution_count": 9,
     "metadata": {},
     "output_type": "execute_result"
    }
   ],
   "source": [
    "result = (b.filter(lambda record: record['age'] > 30)\n",
    "           .map(lambda record: record['occupation'])\n",
    "           .frequencies(sort=True)\n",
    "           .topk(10, key=1))\n",
    "result"
   ]
  },
  {
   "cell_type": "markdown",
   "metadata": {},
   "source": [
    "As with all lazy Dask collections, we need to call `compute` to actually evaluate our result.  The `take` method used in earlier examples is also like `compute` and will also trigger computation."
   ]
  },
  {
   "cell_type": "code",
   "execution_count": 10,
   "metadata": {},
   "outputs": [
    {
     "data": {
      "text/plain": [
       "[('Purchasing Manager', 15),\n",
       " ('Law Clerk', 15),\n",
       " ('Chauffeur', 15),\n",
       " ('Plumber', 14),\n",
       " ('Physiologist', 13),\n",
       " ('Shepherd', 13),\n",
       " ('Restaurateur', 13),\n",
       " ('Lawn Mower', 13),\n",
       " ('Packaging', 13),\n",
       " ('Television Producer', 13)]"
      ]
     },
     "execution_count": 10,
     "metadata": {},
     "output_type": "execute_result"
    }
   ],
   "source": [
    "result.compute()"
   ]
  },
  {
   "cell_type": "markdown",
   "metadata": {},
   "source": [
    "## Transform and Store\n",
    "\n",
    "Sometimes we want to compute aggregations as above, but sometimes we want to store results to disk for future analyses.  For that we can use methods like `to_textfiles` and `json.dumps`, or we can convert to Dask Dataframes and use their storage systems, which we'll see more of in the next section."
   ]
  },
  {
   "cell_type": "code",
   "execution_count": 11,
   "metadata": {},
   "outputs": [
    {
     "data": {
      "text/plain": [
       "['/home/travis/build/dask/dask-examples/data/processed.0.json',\n",
       " '/home/travis/build/dask/dask-examples/data/processed.1.json',\n",
       " '/home/travis/build/dask/dask-examples/data/processed.2.json',\n",
       " '/home/travis/build/dask/dask-examples/data/processed.3.json',\n",
       " '/home/travis/build/dask/dask-examples/data/processed.4.json',\n",
       " '/home/travis/build/dask/dask-examples/data/processed.5.json',\n",
       " '/home/travis/build/dask/dask-examples/data/processed.6.json',\n",
       " '/home/travis/build/dask/dask-examples/data/processed.7.json',\n",
       " '/home/travis/build/dask/dask-examples/data/processed.8.json',\n",
       " '/home/travis/build/dask/dask-examples/data/processed.9.json']"
      ]
     },
     "execution_count": 11,
     "metadata": {},
     "output_type": "execute_result"
    }
   ],
   "source": [
    "(b.filter(lambda record: record['age'] > 30)  # Select records of interest\n",
    "  .map(json.dumps)                            # Convert Python objects to text\n",
    "  .to_textfiles('data/processed.*.json'))     # Write to local disk"
   ]
  },
  {
   "cell_type": "markdown",
   "metadata": {},
   "source": [
    "## Convert to Dask Dataframes\n",
    "\n",
    "Dask Bags are good for reading in initial data, doing a bit of pre-processing, and then handing off to some other more efficient form like Dask Dataframes.  Dask Dataframes use Pandas internally, and so can be much faster on numeric data and also have more complex algorithms.  \n",
    "\n",
    "However, Dask Dataframes also expect data that is organized as flat columns.  It does not support nested JSON data very well (Bag is better for this).\n",
    "\n",
    "Here we make a function to flatten down our nested data structure, map that across our records, and then convert that to a Dask Dataframe."
   ]
  },
  {
   "cell_type": "code",
   "execution_count": 12,
   "metadata": {},
   "outputs": [
    {
     "data": {
      "text/plain": [
       "({'age': 25,\n",
       "  'name': ['Lisbeth', 'Holden'],\n",
       "  'occupation': 'Milklady',\n",
       "  'telephone': '(523) 694-7315',\n",
       "  'address': {'address': '305 Ellington Nene', 'city': 'Loma Linda'},\n",
       "  'credit-card': {'number': '5502 6481 8351 9568',\n",
       "   'expiration-date': '10/21'}},)"
      ]
     },
     "execution_count": 12,
     "metadata": {},
     "output_type": "execute_result"
    }
   ],
   "source": [
    "b.take(1)"
   ]
  },
  {
   "cell_type": "code",
   "execution_count": 13,
   "metadata": {},
   "outputs": [
    {
     "data": {
      "text/plain": [
       "({'age': 25,\n",
       "  'occupation': 'Milklady',\n",
       "  'telephone': '(523) 694-7315',\n",
       "  'credit-card-number': '5502 6481 8351 9568',\n",
       "  'credit-card-expiration': '10/21',\n",
       "  'name': 'Lisbeth Holden',\n",
       "  'street-address': '305 Ellington Nene',\n",
       "  'city': 'Loma Linda'},)"
      ]
     },
     "execution_count": 13,
     "metadata": {},
     "output_type": "execute_result"
    }
   ],
   "source": [
    "def flatten(record):\n",
    "    return {\n",
    "        'age': record['age'],\n",
    "        'occupation': record['occupation'],\n",
    "        'telephone': record['telephone'],\n",
    "        'credit-card-number': record['credit-card']['number'],\n",
    "        'credit-card-expiration': record['credit-card']['expiration-date'],\n",
    "        'name': ' '.join(record['name']),\n",
    "        'street-address': record['address']['address'],\n",
    "        'city': record['address']['city']   \n",
    "    }\n",
    "\n",
    "b.map(flatten).take(1)"
   ]
  },
  {
   "cell_type": "code",
   "execution_count": 14,
   "metadata": {},
   "outputs": [
    {
     "data": {
      "text/html": [
       "<div>\n",
       "<style scoped>\n",
       "    .dataframe tbody tr th:only-of-type {\n",
       "        vertical-align: middle;\n",
       "    }\n",
       "\n",
       "    .dataframe tbody tr th {\n",
       "        vertical-align: top;\n",
       "    }\n",
       "\n",
       "    .dataframe thead th {\n",
       "        text-align: right;\n",
       "    }\n",
       "</style>\n",
       "<table border=\"1\" class=\"dataframe\">\n",
       "  <thead>\n",
       "    <tr style=\"text-align: right;\">\n",
       "      <th></th>\n",
       "      <th>age</th>\n",
       "      <th>occupation</th>\n",
       "      <th>telephone</th>\n",
       "      <th>credit-card-number</th>\n",
       "      <th>credit-card-expiration</th>\n",
       "      <th>name</th>\n",
       "      <th>street-address</th>\n",
       "      <th>city</th>\n",
       "    </tr>\n",
       "  </thead>\n",
       "  <tbody>\n",
       "    <tr>\n",
       "      <th>0</th>\n",
       "      <td>25</td>\n",
       "      <td>Milklady</td>\n",
       "      <td>(523) 694-7315</td>\n",
       "      <td>5502 6481 8351 9568</td>\n",
       "      <td>10/21</td>\n",
       "      <td>Lisbeth Holden</td>\n",
       "      <td>305 Ellington Nene</td>\n",
       "      <td>Loma Linda</td>\n",
       "    </tr>\n",
       "    <tr>\n",
       "      <th>1</th>\n",
       "      <td>18</td>\n",
       "      <td>Tree Surgeon</td>\n",
       "      <td>546-621-9103</td>\n",
       "      <td>4828 1380 0268 7093</td>\n",
       "      <td>01/23</td>\n",
       "      <td>Fredericka Harper</td>\n",
       "      <td>564 Theresa Drive</td>\n",
       "      <td>New Lenox</td>\n",
       "    </tr>\n",
       "    <tr>\n",
       "      <th>2</th>\n",
       "      <td>66</td>\n",
       "      <td>Tyre Technician</td>\n",
       "      <td>1-043-028-8840</td>\n",
       "      <td>5355 4312 3501 6083</td>\n",
       "      <td>10/18</td>\n",
       "      <td>Janita Nicholson</td>\n",
       "      <td>492 Lyell Crescent</td>\n",
       "      <td>Scarsdale</td>\n",
       "    </tr>\n",
       "    <tr>\n",
       "      <th>3</th>\n",
       "      <td>31</td>\n",
       "      <td>Riding Instructor</td>\n",
       "      <td>873.597.3407</td>\n",
       "      <td>2554 6177 5416 3787</td>\n",
       "      <td>06/20</td>\n",
       "      <td>Blake Bass</td>\n",
       "      <td>1277 Medical Center Route</td>\n",
       "      <td>Parker</td>\n",
       "    </tr>\n",
       "    <tr>\n",
       "      <th>4</th>\n",
       "      <td>51</td>\n",
       "      <td>Calibration Manager</td>\n",
       "      <td>620-475-3628</td>\n",
       "      <td>4901 1036 0061 7256</td>\n",
       "      <td>09/19</td>\n",
       "      <td>Jeromy Sears</td>\n",
       "      <td>740 Moreland Drive</td>\n",
       "      <td>Farmington</td>\n",
       "    </tr>\n",
       "  </tbody>\n",
       "</table>\n",
       "</div>"
      ],
      "text/plain": [
       "   age           occupation       telephone   credit-card-number  \\\n",
       "0   25             Milklady  (523) 694-7315  5502 6481 8351 9568   \n",
       "1   18         Tree Surgeon    546-621-9103  4828 1380 0268 7093   \n",
       "2   66      Tyre Technician  1-043-028-8840  5355 4312 3501 6083   \n",
       "3   31    Riding Instructor    873.597.3407  2554 6177 5416 3787   \n",
       "4   51  Calibration Manager    620-475-3628  4901 1036 0061 7256   \n",
       "\n",
       "  credit-card-expiration               name             street-address  \\\n",
       "0                  10/21     Lisbeth Holden         305 Ellington Nene   \n",
       "1                  01/23  Fredericka Harper          564 Theresa Drive   \n",
       "2                  10/18   Janita Nicholson         492 Lyell Crescent   \n",
       "3                  06/20         Blake Bass  1277 Medical Center Route   \n",
       "4                  09/19       Jeromy Sears         740 Moreland Drive   \n",
       "\n",
       "         city  \n",
       "0  Loma Linda  \n",
       "1   New Lenox  \n",
       "2   Scarsdale  \n",
       "3      Parker  \n",
       "4  Farmington  "
      ]
     },
     "execution_count": 14,
     "metadata": {},
     "output_type": "execute_result"
    }
   ],
   "source": [
    "df = b.map(flatten).to_dataframe()\n",
    "df.head()"
   ]
  },
  {
   "cell_type": "markdown",
   "metadata": {},
   "source": [
    "We can now perform the same computation as before, but now using Pandas and Dask dataframe."
   ]
  },
  {
   "cell_type": "code",
   "execution_count": 15,
   "metadata": {},
   "outputs": [
    {
     "data": {
      "text/plain": [
       "Purchasing Manager     15\n",
       "Chauffeur              15\n",
       "Law Clerk              15\n",
       "Plumber                14\n",
       "Television Producer    13\n",
       "Shepherd               13\n",
       "Physiologist           13\n",
       "Lawn Mower             13\n",
       "Restaurateur           13\n",
       "Blinds Installer       13\n",
       "Name: occupation, dtype: int64"
      ]
     },
     "execution_count": 15,
     "metadata": {},
     "output_type": "execute_result"
    }
   ],
   "source": [
    "df[df.age > 30].occupation.value_counts().nlargest(10).compute()"
   ]
  },
  {
   "cell_type": "markdown",
   "metadata": {},
   "source": [
    "## Learn More\n",
    "\n",
    "You may be interested in the following links:\n",
    "\n",
    "-  [Dask Bag Documentation](http://docs.dask.org/en/latest/bag-overview.html)\n",
    "-  [API Documentation](http://docs.dask.org/en/latest/bag-api.html)\n",
    "-  [dask tutorial](https://github.com/dask/dask-tutorial), notebook 02, for a more in-depth introduction."
   ]
  }
 ],
 "metadata": {
  "kernelspec": {
   "display_name": "Python 3",
   "language": "python",
   "name": "python3"
  },
  "language_info": {
   "codemirror_mode": {
    "name": "ipython",
    "version": 3
   },
   "file_extension": ".py",
   "mimetype": "text/x-python",
   "name": "python",
   "nbconvert_exporter": "python",
   "pygments_lexer": "ipython3",
   "version": "3.7.6"
  }
 },
 "nbformat": 4,
 "nbformat_minor": 2
}
