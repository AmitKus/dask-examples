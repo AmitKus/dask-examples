{
 "cells": [
  {
   "cell_type": "markdown",
   "metadata": {},
   "source": [
    "# Dask Bags\n",
    "\n",
    "\n",
    "Dask Bag implements operations like `map`, `filter`, `groupby` and aggregations on collections of Python objects. It does this in parallel and in small memory using Python iterators. It is similar to a parallel version of itertools or a Pythonic version of the PySpark RDD.\n",
    "\n",
    "Dask Bags are often used to do simple preprocessing on log files, JSON records, or other user defined Python objects.\n",
    "\n",
    "Full API documentation is available here: http://docs.dask.org/en/latest/bag-api.html"
   ]
  },
  {
   "cell_type": "markdown",
   "metadata": {},
   "source": [
    "## Start Dask Client for Dashboard\n",
    "\n",
    "Starting the Dask Client is optional.  It will provide a dashboard which \n",
    "is useful to gain insight on the computation.  \n",
    "\n",
    "The link to the dashboard will become visible when you create the client below.  We recommend having it open on one side of your screen while using your notebook on the other side.  This can take some effort to arrange your windows, but seeing them both at the same is very useful when learning."
   ]
  },
  {
   "cell_type": "code",
   "execution_count": 1,
   "metadata": {},
   "outputs": [
    {
     "data": {
      "text/html": [
       "<table style=\"border: 2px solid white;\">\n",
       "<tr>\n",
       "<td style=\"vertical-align: top; border: 0px solid white\">\n",
       "<h3 style=\"text-align: left;\">Client</h3>\n",
       "<ul style=\"text-align: left; list-style: none; margin: 0; padding: 0;\">\n",
       "  <li><b>Scheduler: </b>tcp://127.0.0.1:39825</li>\n",
       "  <li><b>Dashboard: </b><a href='http://127.0.0.1:8787/status' target='_blank'>http://127.0.0.1:8787/status</a>\n",
       "</ul>\n",
       "</td>\n",
       "<td style=\"vertical-align: top; border: 0px solid white\">\n",
       "<h3 style=\"text-align: left;\">Cluster</h3>\n",
       "<ul style=\"text-align: left; list-style:none; margin: 0; padding: 0;\">\n",
       "  <li><b>Workers: </b>4</li>\n",
       "  <li><b>Cores: </b>4</li>\n",
       "  <li><b>Memory: </b>8.36 GB</li>\n",
       "</ul>\n",
       "</td>\n",
       "</tr>\n",
       "</table>"
      ],
      "text/plain": [
       "<Client: 'tcp://127.0.0.1:39825' processes=4 threads=4, memory=8.36 GB>"
      ]
     },
     "execution_count": 1,
     "metadata": {},
     "output_type": "execute_result"
    }
   ],
   "source": [
    "from dask.distributed import Client, progress\n",
    "client = Client(n_workers=4, threads_per_worker=1)\n",
    "client"
   ]
  },
  {
   "cell_type": "markdown",
   "metadata": {},
   "source": [
    "## Create Random Data\n",
    "\n",
    "We create a random set of record data and store it to disk as many JSON files.  This will serve as our data for this notebook."
   ]
  },
  {
   "cell_type": "code",
   "execution_count": 2,
   "metadata": {},
   "outputs": [
    {
     "name": "stderr",
     "output_type": "stream",
     "text": [
      "/home/travis/miniconda/envs/test/lib/python3.7/site-packages/fsspec/implementations/local.py:33: FutureWarning: The default value of auto_mkdir=True has been deprecated and will be changed to auto_mkdir=False by default in a future release.\n",
      "  FutureWarning,\n"
     ]
    },
    {
     "data": {
      "text/plain": [
       "['/home/travis/build/dask/dask-examples/data/0.json',\n",
       " '/home/travis/build/dask/dask-examples/data/1.json',\n",
       " '/home/travis/build/dask/dask-examples/data/2.json',\n",
       " '/home/travis/build/dask/dask-examples/data/3.json',\n",
       " '/home/travis/build/dask/dask-examples/data/4.json',\n",
       " '/home/travis/build/dask/dask-examples/data/5.json',\n",
       " '/home/travis/build/dask/dask-examples/data/6.json',\n",
       " '/home/travis/build/dask/dask-examples/data/7.json',\n",
       " '/home/travis/build/dask/dask-examples/data/8.json',\n",
       " '/home/travis/build/dask/dask-examples/data/9.json']"
      ]
     },
     "execution_count": 2,
     "metadata": {},
     "output_type": "execute_result"
    }
   ],
   "source": [
    "import dask\n",
    "import json\n",
    "import os\n",
    "\n",
    "os.makedirs('data', exist_ok=True)              # Create data/ directory\n",
    "\n",
    "b = dask.datasets.make_people()                 # Make records of people\n",
    "b.map(json.dumps).to_textfiles('data/*.json')   # Encode as JSON, write to disk"
   ]
  },
  {
   "cell_type": "markdown",
   "metadata": {},
   "source": [
    "## Read JSON data\n",
    "\n",
    "Now that we have some JSON data in a file lets take a look at it with Dask Bag and Python JSON module."
   ]
  },
  {
   "cell_type": "code",
   "execution_count": 3,
   "metadata": {},
   "outputs": [
    {
     "name": "stdout",
     "output_type": "stream",
     "text": [
      "{\"age\": 28, \"name\": [\"Reginald\", \"Rocha\"], \"occupation\": \"Amusement Arcade Worker\", \"telephone\": \"+1-(975)-805-0646\", \"address\": {\"address\": \"412 Pollock Stravenue\", \"city\": \"Temple\"}, \"credit-card\": {\"number\": \"5447 7039 8783 0808\", \"expiration-date\": \"11/23\"}}\r\n",
      "{\"age\": 58, \"name\": [\"Emelda\", \"Cash\"], \"occupation\": \"Shoe Maker\", \"telephone\": \"1-930-868-1341\", \"address\": {\"address\": \"40 Guy Wynd\", \"city\": \"Tinley Park\"}, \"credit-card\": {\"number\": \"2565 2262 6349 1676\", \"expiration-date\": \"11/16\"}}\r\n"
     ]
    }
   ],
   "source": [
    "!head -n 2 data/0.json"
   ]
  },
  {
   "cell_type": "code",
   "execution_count": 4,
   "metadata": {},
   "outputs": [
    {
     "data": {
      "text/plain": [
       "dask.bag<loads, npartitions=10>"
      ]
     },
     "execution_count": 4,
     "metadata": {},
     "output_type": "execute_result"
    }
   ],
   "source": [
    "import dask.bag as db\n",
    "import json\n",
    "\n",
    "b = db.read_text('data/*.json').map(json.loads)\n",
    "b"
   ]
  },
  {
   "cell_type": "code",
   "execution_count": 5,
   "metadata": {},
   "outputs": [
    {
     "data": {
      "text/plain": [
       "({'age': 28,\n",
       "  'name': ['Reginald', 'Rocha'],\n",
       "  'occupation': 'Amusement Arcade Worker',\n",
       "  'telephone': '+1-(975)-805-0646',\n",
       "  'address': {'address': '412 Pollock Stravenue', 'city': 'Temple'},\n",
       "  'credit-card': {'number': '5447 7039 8783 0808',\n",
       "   'expiration-date': '11/23'}},\n",
       " {'age': 58,\n",
       "  'name': ['Emelda', 'Cash'],\n",
       "  'occupation': 'Shoe Maker',\n",
       "  'telephone': '1-930-868-1341',\n",
       "  'address': {'address': '40 Guy Wynd', 'city': 'Tinley Park'},\n",
       "  'credit-card': {'number': '2565 2262 6349 1676',\n",
       "   'expiration-date': '11/16'}})"
      ]
     },
     "execution_count": 5,
     "metadata": {},
     "output_type": "execute_result"
    }
   ],
   "source": [
    "b.take(2)"
   ]
  },
  {
   "cell_type": "markdown",
   "metadata": {},
   "source": [
    "## Map, Filter, Aggregate\n",
    "\n",
    "We can process this data by filtering out only certain records of interest, mapping functions over it to process our data, and aggregating those results to a total value."
   ]
  },
  {
   "cell_type": "code",
   "execution_count": 6,
   "metadata": {},
   "outputs": [
    {
     "data": {
      "text/plain": [
       "({'age': 58,\n",
       "  'name': ['Emelda', 'Cash'],\n",
       "  'occupation': 'Shoe Maker',\n",
       "  'telephone': '1-930-868-1341',\n",
       "  'address': {'address': '40 Guy Wynd', 'city': 'Tinley Park'},\n",
       "  'credit-card': {'number': '2565 2262 6349 1676',\n",
       "   'expiration-date': '11/16'}},\n",
       " {'age': 47,\n",
       "  'name': ['Porsche', 'Cervantes'],\n",
       "  'occupation': 'Producer',\n",
       "  'telephone': '822.066.4939',\n",
       "  'address': {'address': '1150 Albion Street', 'city': 'Cicero'},\n",
       "  'credit-card': {'number': '3735 849041 73624', 'expiration-date': '12/21'}})"
      ]
     },
     "execution_count": 6,
     "metadata": {},
     "output_type": "execute_result"
    }
   ],
   "source": [
    "b.filter(lambda record: record['age'] > 30).take(2)  # Select only people over 30"
   ]
  },
  {
   "cell_type": "code",
   "execution_count": 7,
   "metadata": {},
   "outputs": [
    {
     "data": {
      "text/plain": [
       "('Amusement Arcade Worker', 'Shoe Maker')"
      ]
     },
     "execution_count": 7,
     "metadata": {},
     "output_type": "execute_result"
    }
   ],
   "source": [
    "b.map(lambda record: record['occupation']).take(2)  # Select the occupation field"
   ]
  },
  {
   "cell_type": "code",
   "execution_count": 8,
   "metadata": {},
   "outputs": [
    {
     "data": {
      "text/plain": [
       "10000"
      ]
     },
     "execution_count": 8,
     "metadata": {},
     "output_type": "execute_result"
    }
   ],
   "source": [
    "b.count().compute()  # Count total number of records"
   ]
  },
  {
   "cell_type": "markdown",
   "metadata": {},
   "source": [
    "## Chain computations\n",
    "\n",
    "It is common to do many of these steps in one pipeline, only calling `compute` or `take` at the end."
   ]
  },
  {
   "cell_type": "code",
   "execution_count": 9,
   "metadata": {},
   "outputs": [
    {
     "data": {
      "text/plain": [
       "dask.bag<topk-aggregate, npartitions=1>"
      ]
     },
     "execution_count": 9,
     "metadata": {},
     "output_type": "execute_result"
    }
   ],
   "source": [
    "result = (b.filter(lambda record: record['age'] > 30)\n",
    "           .map(lambda record: record['occupation'])\n",
    "           .frequencies(sort=True)\n",
    "           .topk(10, key=1))\n",
    "result"
   ]
  },
  {
   "cell_type": "markdown",
   "metadata": {},
   "source": [
    "As with all lazy Dask collections, we need to call `compute` to actually evaluate our result.  The `take` method used in earlier examples is also like `compute` and will also trigger computation."
   ]
  },
  {
   "cell_type": "code",
   "execution_count": 10,
   "metadata": {},
   "outputs": [
    {
     "data": {
      "text/plain": [
       "[('Royal Marine', 16),\n",
       " ('Gardener', 15),\n",
       " ('Sound Engineer', 15),\n",
       " ('Radiologist', 14),\n",
       " ('Cabinet Maker', 13),\n",
       " ('Florist', 13),\n",
       " ('Tennis Coach', 13),\n",
       " ('Payroll Clerk', 13),\n",
       " ('Patent Attorney', 13),\n",
       " ('Playgroup Leader', 13)]"
      ]
     },
     "execution_count": 10,
     "metadata": {},
     "output_type": "execute_result"
    }
   ],
   "source": [
    "result.compute()"
   ]
  },
  {
   "cell_type": "markdown",
   "metadata": {},
   "source": [
    "## Transform and Store\n",
    "\n",
    "Sometimes we want to compute aggregations as above, but sometimes we want to store results to disk for future analyses.  For that we can use methods like `to_textfiles` and `json.dumps`, or we can convert to Dask Dataframes and use their storage systems, which we'll see more of in the next section."
   ]
  },
  {
   "cell_type": "code",
   "execution_count": 11,
   "metadata": {},
   "outputs": [
    {
     "data": {
      "text/plain": [
       "['/home/travis/build/dask/dask-examples/data/processed.0.json',\n",
       " '/home/travis/build/dask/dask-examples/data/processed.1.json',\n",
       " '/home/travis/build/dask/dask-examples/data/processed.2.json',\n",
       " '/home/travis/build/dask/dask-examples/data/processed.3.json',\n",
       " '/home/travis/build/dask/dask-examples/data/processed.4.json',\n",
       " '/home/travis/build/dask/dask-examples/data/processed.5.json',\n",
       " '/home/travis/build/dask/dask-examples/data/processed.6.json',\n",
       " '/home/travis/build/dask/dask-examples/data/processed.7.json',\n",
       " '/home/travis/build/dask/dask-examples/data/processed.8.json',\n",
       " '/home/travis/build/dask/dask-examples/data/processed.9.json']"
      ]
     },
     "execution_count": 11,
     "metadata": {},
     "output_type": "execute_result"
    }
   ],
   "source": [
    "(b.filter(lambda record: record['age'] > 30)  # Select records of interest\n",
    "  .map(json.dumps)                            # Convert Python objects to text\n",
    "  .to_textfiles('data/processed.*.json'))     # Write to local disk"
   ]
  },
  {
   "cell_type": "markdown",
   "metadata": {},
   "source": [
    "## Convert to Dask Dataframes\n",
    "\n",
    "Dask Bags are good for reading in initial data, doing a bit of pre-processing, and then handing off to some other more efficient form like Dask Dataframes.  Dask Dataframes use Pandas internally, and so can be much faster on numeric data and also have more complex algorithms.  \n",
    "\n",
    "However, Dask Dataframes also expect data that is organized as flat columns.  It does not support nested JSON data very well (Bag is better for this).\n",
    "\n",
    "Here we make a function to flatten down our nested data structure, map that across our records, and then convert that to a Dask Dataframe."
   ]
  },
  {
   "cell_type": "code",
   "execution_count": 12,
   "metadata": {},
   "outputs": [
    {
     "data": {
      "text/plain": [
       "({'age': 28,\n",
       "  'name': ['Reginald', 'Rocha'],\n",
       "  'occupation': 'Amusement Arcade Worker',\n",
       "  'telephone': '+1-(975)-805-0646',\n",
       "  'address': {'address': '412 Pollock Stravenue', 'city': 'Temple'},\n",
       "  'credit-card': {'number': '5447 7039 8783 0808',\n",
       "   'expiration-date': '11/23'}},)"
      ]
     },
     "execution_count": 12,
     "metadata": {},
     "output_type": "execute_result"
    }
   ],
   "source": [
    "b.take(1)"
   ]
  },
  {
   "cell_type": "code",
   "execution_count": 13,
   "metadata": {},
   "outputs": [
    {
     "data": {
      "text/plain": [
       "({'age': 28,\n",
       "  'occupation': 'Amusement Arcade Worker',\n",
       "  'telephone': '+1-(975)-805-0646',\n",
       "  'credit-card-number': '5447 7039 8783 0808',\n",
       "  'credit-card-expiration': '11/23',\n",
       "  'name': 'Reginald Rocha',\n",
       "  'street-address': '412 Pollock Stravenue',\n",
       "  'city': 'Temple'},)"
      ]
     },
     "execution_count": 13,
     "metadata": {},
     "output_type": "execute_result"
    }
   ],
   "source": [
    "def flatten(record):\n",
    "    return {\n",
    "        'age': record['age'],\n",
    "        'occupation': record['occupation'],\n",
    "        'telephone': record['telephone'],\n",
    "        'credit-card-number': record['credit-card']['number'],\n",
    "        'credit-card-expiration': record['credit-card']['expiration-date'],\n",
    "        'name': ' '.join(record['name']),\n",
    "        'street-address': record['address']['address'],\n",
    "        'city': record['address']['city']   \n",
    "    }\n",
    "\n",
    "b.map(flatten).take(1)"
   ]
  },
  {
   "cell_type": "code",
   "execution_count": 14,
   "metadata": {},
   "outputs": [
    {
     "data": {
      "text/html": [
       "<div>\n",
       "<style scoped>\n",
       "    .dataframe tbody tr th:only-of-type {\n",
       "        vertical-align: middle;\n",
       "    }\n",
       "\n",
       "    .dataframe tbody tr th {\n",
       "        vertical-align: top;\n",
       "    }\n",
       "\n",
       "    .dataframe thead th {\n",
       "        text-align: right;\n",
       "    }\n",
       "</style>\n",
       "<table border=\"1\" class=\"dataframe\">\n",
       "  <thead>\n",
       "    <tr style=\"text-align: right;\">\n",
       "      <th></th>\n",
       "      <th>age</th>\n",
       "      <th>occupation</th>\n",
       "      <th>telephone</th>\n",
       "      <th>credit-card-number</th>\n",
       "      <th>credit-card-expiration</th>\n",
       "      <th>name</th>\n",
       "      <th>street-address</th>\n",
       "      <th>city</th>\n",
       "    </tr>\n",
       "  </thead>\n",
       "  <tbody>\n",
       "    <tr>\n",
       "      <th>0</th>\n",
       "      <td>28</td>\n",
       "      <td>Amusement Arcade Worker</td>\n",
       "      <td>+1-(975)-805-0646</td>\n",
       "      <td>5447 7039 8783 0808</td>\n",
       "      <td>11/23</td>\n",
       "      <td>Reginald Rocha</td>\n",
       "      <td>412 Pollock Stravenue</td>\n",
       "      <td>Temple</td>\n",
       "    </tr>\n",
       "    <tr>\n",
       "      <th>1</th>\n",
       "      <td>58</td>\n",
       "      <td>Shoe Maker</td>\n",
       "      <td>1-930-868-1341</td>\n",
       "      <td>2565 2262 6349 1676</td>\n",
       "      <td>11/16</td>\n",
       "      <td>Emelda Cash</td>\n",
       "      <td>40 Guy Wynd</td>\n",
       "      <td>Tinley Park</td>\n",
       "    </tr>\n",
       "    <tr>\n",
       "      <th>2</th>\n",
       "      <td>25</td>\n",
       "      <td>Trade Mark Agent</td>\n",
       "      <td>(848) 933-7527</td>\n",
       "      <td>5274 2728 6258 8194</td>\n",
       "      <td>07/19</td>\n",
       "      <td>Edwin Guerrero</td>\n",
       "      <td>920 Sunnydale Green</td>\n",
       "      <td>Ansonia</td>\n",
       "    </tr>\n",
       "    <tr>\n",
       "      <th>3</th>\n",
       "      <td>47</td>\n",
       "      <td>Producer</td>\n",
       "      <td>822.066.4939</td>\n",
       "      <td>3735 849041 73624</td>\n",
       "      <td>12/21</td>\n",
       "      <td>Porsche Cervantes</td>\n",
       "      <td>1150 Albion Street</td>\n",
       "      <td>Cicero</td>\n",
       "    </tr>\n",
       "    <tr>\n",
       "      <th>4</th>\n",
       "      <td>53</td>\n",
       "      <td>Show Jumper</td>\n",
       "      <td>(370) 876-1903</td>\n",
       "      <td>5528 3301 5970 5790</td>\n",
       "      <td>08/16</td>\n",
       "      <td>Alonzo Owen</td>\n",
       "      <td>1379 Bowling Green Extension</td>\n",
       "      <td>Collinsville</td>\n",
       "    </tr>\n",
       "  </tbody>\n",
       "</table>\n",
       "</div>"
      ],
      "text/plain": [
       "   age               occupation          telephone   credit-card-number  \\\n",
       "0   28  Amusement Arcade Worker  +1-(975)-805-0646  5447 7039 8783 0808   \n",
       "1   58               Shoe Maker     1-930-868-1341  2565 2262 6349 1676   \n",
       "2   25         Trade Mark Agent     (848) 933-7527  5274 2728 6258 8194   \n",
       "3   47                 Producer       822.066.4939    3735 849041 73624   \n",
       "4   53              Show Jumper     (370) 876-1903  5528 3301 5970 5790   \n",
       "\n",
       "  credit-card-expiration               name                street-address  \\\n",
       "0                  11/23     Reginald Rocha         412 Pollock Stravenue   \n",
       "1                  11/16        Emelda Cash                   40 Guy Wynd   \n",
       "2                  07/19     Edwin Guerrero           920 Sunnydale Green   \n",
       "3                  12/21  Porsche Cervantes            1150 Albion Street   \n",
       "4                  08/16        Alonzo Owen  1379 Bowling Green Extension   \n",
       "\n",
       "           city  \n",
       "0        Temple  \n",
       "1   Tinley Park  \n",
       "2       Ansonia  \n",
       "3        Cicero  \n",
       "4  Collinsville  "
      ]
     },
     "execution_count": 14,
     "metadata": {},
     "output_type": "execute_result"
    }
   ],
   "source": [
    "df = b.map(flatten).to_dataframe()\n",
    "df.head()"
   ]
  },
  {
   "cell_type": "markdown",
   "metadata": {},
   "source": [
    "We can now perform the same computation as before, but now using Pandas and Dask dataframe."
   ]
  },
  {
   "cell_type": "code",
   "execution_count": 15,
   "metadata": {},
   "outputs": [
    {
     "data": {
      "text/plain": [
       "Royal Marine                     16\n",
       "Gardener                         15\n",
       "Sound Engineer                   15\n",
       "Radiologist                      14\n",
       "Florist                          13\n",
       "Cabinet Maker                    13\n",
       "Payroll Clerk                    13\n",
       "Playgroup Leader                 13\n",
       "Patent Attorney                  13\n",
       "Aircraft Maintenance Engineer    13\n",
       "Name: occupation, dtype: int64"
      ]
     },
     "execution_count": 15,
     "metadata": {},
     "output_type": "execute_result"
    }
   ],
   "source": [
    "df[df.age > 30].occupation.value_counts().nlargest(10).compute()"
   ]
  },
  {
   "cell_type": "markdown",
   "metadata": {},
   "source": [
    "## Learn More\n",
    "\n",
    "You may be interested in the following links:\n",
    "\n",
    "-  [Dask Bag Documentation](http://docs.dask.org/en/latest/bag-overview.html)\n",
    "-  [API Documentation](http://docs.dask.org/en/latest/bag-api.html)\n",
    "-  [dask tutorial](https://github.com/dask/dask-tutorial), notebook 02, for a more in-depth introduction."
   ]
  }
 ],
 "metadata": {
  "kernelspec": {
   "display_name": "Python 3",
   "language": "python",
   "name": "python3"
  },
  "language_info": {
   "codemirror_mode": {
    "name": "ipython",
    "version": 3
   },
   "file_extension": ".py",
   "mimetype": "text/x-python",
   "name": "python",
   "nbconvert_exporter": "python",
   "pygments_lexer": "ipython3",
   "version": "3.7.6"
  }
 },
 "nbformat": 4,
 "nbformat_minor": 2
}
