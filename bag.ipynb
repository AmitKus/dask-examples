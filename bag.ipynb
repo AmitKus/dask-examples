{
 "cells": [
  {
   "cell_type": "markdown",
   "metadata": {},
   "source": [
    "# Dask Bags\n",
    "\n",
    "\n",
    "Dask Bag implements operations like `map`, `filter`, `groupby` and aggregations on collections of Python objects. It does this in parallel and in small memory using Python iterators. It is similar to a parallel version of itertools or a Pythonic version of the PySpark RDD.\n",
    "\n",
    "Dask Bags are often used to do simple preprocessing on log files, JSON records, or other user defined Python objects.\n",
    "\n",
    "Full API documentation is available here: http://docs.dask.org/en/latest/bag-api.html"
   ]
  },
  {
   "cell_type": "markdown",
   "metadata": {},
   "source": [
    "## Start Dask Client for Dashboard\n",
    "\n",
    "Starting the Dask Client is optional.  It will provide a dashboard which \n",
    "is useful to gain insight on the computation.  \n",
    "\n",
    "The link to the dashboard will become visible when you create the client below.  We recommend having it open on one side of your screen while using your notebook on the other side.  This can take some effort to arrange your windows, but seeing them both at the same is very useful when learning."
   ]
  },
  {
   "cell_type": "code",
   "execution_count": 1,
   "metadata": {},
   "outputs": [
    {
     "data": {
      "text/html": [
       "<table style=\"border: 2px solid white;\">\n",
       "<tr>\n",
       "<td style=\"vertical-align: top; border: 0px solid white\">\n",
       "<h3 style=\"text-align: left;\">Client</h3>\n",
       "<ul style=\"text-align: left; list-style: none; margin: 0; padding: 0;\">\n",
       "  <li><b>Scheduler: </b>tcp://127.0.0.1:43543</li>\n",
       "  <li><b>Dashboard: </b><a href='http://127.0.0.1:8787/status' target='_blank'>http://127.0.0.1:8787/status</a></li>\n",
       "</ul>\n",
       "</td>\n",
       "<td style=\"vertical-align: top; border: 0px solid white\">\n",
       "<h3 style=\"text-align: left;\">Cluster</h3>\n",
       "<ul style=\"text-align: left; list-style:none; margin: 0; padding: 0;\">\n",
       "  <li><b>Workers: </b>4</li>\n",
       "  <li><b>Cores: </b>4</li>\n",
       "  <li><b>Memory: </b>8.36 GB</li>\n",
       "</ul>\n",
       "</td>\n",
       "</tr>\n",
       "</table>"
      ],
      "text/plain": [
       "<Client: 'tcp://127.0.0.1:43543' processes=4 threads=4, memory=8.36 GB>"
      ]
     },
     "execution_count": 1,
     "metadata": {},
     "output_type": "execute_result"
    }
   ],
   "source": [
    "from dask.distributed import Client, progress\n",
    "client = Client(n_workers=4, threads_per_worker=1)\n",
    "client"
   ]
  },
  {
   "cell_type": "markdown",
   "metadata": {},
   "source": [
    "## Create Random Data\n",
    "\n",
    "We create a random set of record data and store it to disk as many JSON files.  This will serve as our data for this notebook."
   ]
  },
  {
   "cell_type": "code",
   "execution_count": 2,
   "metadata": {},
   "outputs": [
    {
     "data": {
      "text/plain": [
       "['/home/travis/build/dask/dask-examples/data/0.json',\n",
       " '/home/travis/build/dask/dask-examples/data/1.json',\n",
       " '/home/travis/build/dask/dask-examples/data/2.json',\n",
       " '/home/travis/build/dask/dask-examples/data/3.json',\n",
       " '/home/travis/build/dask/dask-examples/data/4.json',\n",
       " '/home/travis/build/dask/dask-examples/data/5.json',\n",
       " '/home/travis/build/dask/dask-examples/data/6.json',\n",
       " '/home/travis/build/dask/dask-examples/data/7.json',\n",
       " '/home/travis/build/dask/dask-examples/data/8.json',\n",
       " '/home/travis/build/dask/dask-examples/data/9.json']"
      ]
     },
     "execution_count": 2,
     "metadata": {},
     "output_type": "execute_result"
    }
   ],
   "source": [
    "import dask\n",
    "import json\n",
    "import os\n",
    "\n",
    "os.makedirs('data', exist_ok=True)              # Create data/ directory\n",
    "\n",
    "b = dask.datasets.make_people()                 # Make records of people\n",
    "b.map(json.dumps).to_textfiles('data/*.json')   # Encode as JSON, write to disk"
   ]
  },
  {
   "cell_type": "markdown",
   "metadata": {},
   "source": [
    "## Read JSON data\n",
    "\n",
    "Now that we have some JSON data in a file lets take a look at it with Dask Bag and Python JSON module."
   ]
  },
  {
   "cell_type": "code",
   "execution_count": 3,
   "metadata": {},
   "outputs": [
    {
     "name": "stdout",
     "output_type": "stream",
     "text": [
      "{\"age\": 54, \"name\": [\"Virgil\", \"Hamilton\"], \"occupation\": \"Airport Manager\", \"telephone\": \"1-070-166-2642\", \"address\": {\"address\": \"1242 Hunt Plaza\", \"city\": \"Alvin\"}, \"credit-card\": {\"number\": \"3795 002023 11496\", \"expiration-date\": \"04/25\"}}\r\n",
      "{\"age\": 25, \"name\": [\"Rubie\", \"Erickson\"], \"occupation\": \"Boat Builder\", \"telephone\": \"+1-(999)-558-3761\", \"address\": {\"address\": \"81 Cunningham Annex\", \"city\": \"Danbury\"}, \"credit-card\": {\"number\": \"5100 4623 6405 8016\", \"expiration-date\": \"10/21\"}}\r\n"
     ]
    }
   ],
   "source": [
    "!head -n 2 data/0.json"
   ]
  },
  {
   "cell_type": "code",
   "execution_count": 4,
   "metadata": {},
   "outputs": [
    {
     "data": {
      "text/plain": [
       "dask.bag<loads, npartitions=10>"
      ]
     },
     "execution_count": 4,
     "metadata": {},
     "output_type": "execute_result"
    }
   ],
   "source": [
    "import dask.bag as db\n",
    "import json\n",
    "\n",
    "b = db.read_text('data/*.json').map(json.loads)\n",
    "b"
   ]
  },
  {
   "cell_type": "code",
   "execution_count": 5,
   "metadata": {},
   "outputs": [
    {
     "data": {
      "text/plain": [
       "({'age': 54,\n",
       "  'name': ['Virgil', 'Hamilton'],\n",
       "  'occupation': 'Airport Manager',\n",
       "  'telephone': '1-070-166-2642',\n",
       "  'address': {'address': '1242 Hunt Plaza', 'city': 'Alvin'},\n",
       "  'credit-card': {'number': '3795 002023 11496', 'expiration-date': '04/25'}},\n",
       " {'age': 25,\n",
       "  'name': ['Rubie', 'Erickson'],\n",
       "  'occupation': 'Boat Builder',\n",
       "  'telephone': '+1-(999)-558-3761',\n",
       "  'address': {'address': '81 Cunningham Annex', 'city': 'Danbury'},\n",
       "  'credit-card': {'number': '5100 4623 6405 8016',\n",
       "   'expiration-date': '10/21'}})"
      ]
     },
     "execution_count": 5,
     "metadata": {},
     "output_type": "execute_result"
    }
   ],
   "source": [
    "b.take(2)"
   ]
  },
  {
   "cell_type": "markdown",
   "metadata": {},
   "source": [
    "## Map, Filter, Aggregate\n",
    "\n",
    "We can process this data by filtering out only certain records of interest, mapping functions over it to process our data, and aggregating those results to a total value."
   ]
  },
  {
   "cell_type": "code",
   "execution_count": 6,
   "metadata": {},
   "outputs": [
    {
     "data": {
      "text/plain": [
       "({'age': 54,\n",
       "  'name': ['Virgil', 'Hamilton'],\n",
       "  'occupation': 'Airport Manager',\n",
       "  'telephone': '1-070-166-2642',\n",
       "  'address': {'address': '1242 Hunt Plaza', 'city': 'Alvin'},\n",
       "  'credit-card': {'number': '3795 002023 11496', 'expiration-date': '04/25'}},\n",
       " {'age': 54,\n",
       "  'name': ['Willia', 'Browning'],\n",
       "  'occupation': 'Mortician',\n",
       "  'telephone': '985-393-8586',\n",
       "  'address': {'address': '1249 Glendale Bay', 'city': 'Encinitas'},\n",
       "  'credit-card': {'number': '4519 9921 1466 9389',\n",
       "   'expiration-date': '02/20'}})"
      ]
     },
     "execution_count": 6,
     "metadata": {},
     "output_type": "execute_result"
    }
   ],
   "source": [
    "b.filter(lambda record: record['age'] > 30).take(2)  # Select only people over 30"
   ]
  },
  {
   "cell_type": "code",
   "execution_count": 7,
   "metadata": {},
   "outputs": [
    {
     "data": {
      "text/plain": [
       "('Airport Manager', 'Boat Builder')"
      ]
     },
     "execution_count": 7,
     "metadata": {},
     "output_type": "execute_result"
    }
   ],
   "source": [
    "b.map(lambda record: record['occupation']).take(2)  # Select the occupation field"
   ]
  },
  {
   "cell_type": "code",
   "execution_count": 8,
   "metadata": {},
   "outputs": [
    {
     "data": {
      "text/plain": [
       "10000"
      ]
     },
     "execution_count": 8,
     "metadata": {},
     "output_type": "execute_result"
    }
   ],
   "source": [
    "b.count().compute()  # Count total number of records"
   ]
  },
  {
   "cell_type": "markdown",
   "metadata": {},
   "source": [
    "## Chain computations\n",
    "\n",
    "It is common to do many of these steps in one pipeline, only calling `compute` or `take` at the end."
   ]
  },
  {
   "cell_type": "code",
   "execution_count": 9,
   "metadata": {},
   "outputs": [
    {
     "data": {
      "text/plain": [
       "dask.bag<topk-aggregate, npartitions=1>"
      ]
     },
     "execution_count": 9,
     "metadata": {},
     "output_type": "execute_result"
    }
   ],
   "source": [
    "result = (b.filter(lambda record: record['age'] > 30)\n",
    "           .map(lambda record: record['occupation'])\n",
    "           .frequencies(sort=True)\n",
    "           .topk(10, key=1))\n",
    "result"
   ]
  },
  {
   "cell_type": "markdown",
   "metadata": {},
   "source": [
    "As with all lazy Dask collections, we need to call `compute` to actually evaluate our result.  The `take` method used in earlier examples is also like `compute` and will also trigger computation."
   ]
  },
  {
   "cell_type": "code",
   "execution_count": 10,
   "metadata": {},
   "outputs": [
    {
     "data": {
      "text/plain": [
       "[('Plater', 15),\n",
       " ('Optometrist', 15),\n",
       " ('Seaman', 15),\n",
       " ('Pools Collector', 14),\n",
       " ('Book Seller', 14),\n",
       " ('Sheriff Principal', 14),\n",
       " ('Hospital Manager', 14),\n",
       " ('Building Control', 13),\n",
       " ('Planning Officer', 13),\n",
       " ('Hypnotherapist', 13)]"
      ]
     },
     "execution_count": 10,
     "metadata": {},
     "output_type": "execute_result"
    }
   ],
   "source": [
    "result.compute()"
   ]
  },
  {
   "cell_type": "markdown",
   "metadata": {},
   "source": [
    "## Transform and Store\n",
    "\n",
    "Sometimes we want to compute aggregations as above, but sometimes we want to store results to disk for future analyses.  For that we can use methods like `to_textfiles` and `json.dumps`, or we can convert to Dask Dataframes and use their storage systems, which we'll see more of in the next section."
   ]
  },
  {
   "cell_type": "code",
   "execution_count": 11,
   "metadata": {},
   "outputs": [
    {
     "data": {
      "text/plain": [
       "['/home/travis/build/dask/dask-examples/data/processed.0.json',\n",
       " '/home/travis/build/dask/dask-examples/data/processed.1.json',\n",
       " '/home/travis/build/dask/dask-examples/data/processed.2.json',\n",
       " '/home/travis/build/dask/dask-examples/data/processed.3.json',\n",
       " '/home/travis/build/dask/dask-examples/data/processed.4.json',\n",
       " '/home/travis/build/dask/dask-examples/data/processed.5.json',\n",
       " '/home/travis/build/dask/dask-examples/data/processed.6.json',\n",
       " '/home/travis/build/dask/dask-examples/data/processed.7.json',\n",
       " '/home/travis/build/dask/dask-examples/data/processed.8.json',\n",
       " '/home/travis/build/dask/dask-examples/data/processed.9.json']"
      ]
     },
     "execution_count": 11,
     "metadata": {},
     "output_type": "execute_result"
    }
   ],
   "source": [
    "(b.filter(lambda record: record['age'] > 30)  # Select records of interest\n",
    "  .map(json.dumps)                            # Convert Python objects to text\n",
    "  .to_textfiles('data/processed.*.json'))     # Write to local disk"
   ]
  },
  {
   "cell_type": "markdown",
   "metadata": {},
   "source": [
    "## Convert to Dask Dataframes\n",
    "\n",
    "Dask Bags are good for reading in initial data, doing a bit of pre-processing, and then handing off to some other more efficient form like Dask Dataframes.  Dask Dataframes use Pandas internally, and so can be much faster on numeric data and also have more complex algorithms.  \n",
    "\n",
    "However, Dask Dataframes also expect data that is organized as flat columns.  It does not support nested JSON data very well (Bag is better for this).\n",
    "\n",
    "Here we make a function to flatten down our nested data structure, map that across our records, and then convert that to a Dask Dataframe."
   ]
  },
  {
   "cell_type": "code",
   "execution_count": 12,
   "metadata": {},
   "outputs": [
    {
     "data": {
      "text/plain": [
       "({'age': 54,\n",
       "  'name': ['Virgil', 'Hamilton'],\n",
       "  'occupation': 'Airport Manager',\n",
       "  'telephone': '1-070-166-2642',\n",
       "  'address': {'address': '1242 Hunt Plaza', 'city': 'Alvin'},\n",
       "  'credit-card': {'number': '3795 002023 11496', 'expiration-date': '04/25'}},)"
      ]
     },
     "execution_count": 12,
     "metadata": {},
     "output_type": "execute_result"
    }
   ],
   "source": [
    "b.take(1)"
   ]
  },
  {
   "cell_type": "code",
   "execution_count": 13,
   "metadata": {},
   "outputs": [
    {
     "data": {
      "text/plain": [
       "({'age': 54,\n",
       "  'occupation': 'Airport Manager',\n",
       "  'telephone': '1-070-166-2642',\n",
       "  'credit-card-number': '3795 002023 11496',\n",
       "  'credit-card-expiration': '04/25',\n",
       "  'name': 'Virgil Hamilton',\n",
       "  'street-address': '1242 Hunt Plaza',\n",
       "  'city': 'Alvin'},)"
      ]
     },
     "execution_count": 13,
     "metadata": {},
     "output_type": "execute_result"
    }
   ],
   "source": [
    "def flatten(record):\n",
    "    return {\n",
    "        'age': record['age'],\n",
    "        'occupation': record['occupation'],\n",
    "        'telephone': record['telephone'],\n",
    "        'credit-card-number': record['credit-card']['number'],\n",
    "        'credit-card-expiration': record['credit-card']['expiration-date'],\n",
    "        'name': ' '.join(record['name']),\n",
    "        'street-address': record['address']['address'],\n",
    "        'city': record['address']['city']   \n",
    "    }\n",
    "\n",
    "b.map(flatten).take(1)"
   ]
  },
  {
   "cell_type": "code",
   "execution_count": 14,
   "metadata": {},
   "outputs": [
    {
     "data": {
      "text/html": [
       "<div>\n",
       "<style scoped>\n",
       "    .dataframe tbody tr th:only-of-type {\n",
       "        vertical-align: middle;\n",
       "    }\n",
       "\n",
       "    .dataframe tbody tr th {\n",
       "        vertical-align: top;\n",
       "    }\n",
       "\n",
       "    .dataframe thead th {\n",
       "        text-align: right;\n",
       "    }\n",
       "</style>\n",
       "<table border=\"1\" class=\"dataframe\">\n",
       "  <thead>\n",
       "    <tr style=\"text-align: right;\">\n",
       "      <th></th>\n",
       "      <th>age</th>\n",
       "      <th>occupation</th>\n",
       "      <th>telephone</th>\n",
       "      <th>credit-card-number</th>\n",
       "      <th>credit-card-expiration</th>\n",
       "      <th>name</th>\n",
       "      <th>street-address</th>\n",
       "      <th>city</th>\n",
       "    </tr>\n",
       "  </thead>\n",
       "  <tbody>\n",
       "    <tr>\n",
       "      <th>0</th>\n",
       "      <td>54</td>\n",
       "      <td>Airport Manager</td>\n",
       "      <td>1-070-166-2642</td>\n",
       "      <td>3795 002023 11496</td>\n",
       "      <td>04/25</td>\n",
       "      <td>Virgil Hamilton</td>\n",
       "      <td>1242 Hunt Plaza</td>\n",
       "      <td>Alvin</td>\n",
       "    </tr>\n",
       "    <tr>\n",
       "      <th>1</th>\n",
       "      <td>25</td>\n",
       "      <td>Boat Builder</td>\n",
       "      <td>+1-(999)-558-3761</td>\n",
       "      <td>5100 4623 6405 8016</td>\n",
       "      <td>10/21</td>\n",
       "      <td>Rubie Erickson</td>\n",
       "      <td>81 Cunningham Annex</td>\n",
       "      <td>Danbury</td>\n",
       "    </tr>\n",
       "    <tr>\n",
       "      <th>2</th>\n",
       "      <td>25</td>\n",
       "      <td>Signwriter</td>\n",
       "      <td>378.258.1094</td>\n",
       "      <td>3751 128826 97238</td>\n",
       "      <td>06/25</td>\n",
       "      <td>Pamella Webster</td>\n",
       "      <td>507 Cashmere Crescent</td>\n",
       "      <td>Flower Mound</td>\n",
       "    </tr>\n",
       "    <tr>\n",
       "      <th>3</th>\n",
       "      <td>54</td>\n",
       "      <td>Mortician</td>\n",
       "      <td>985-393-8586</td>\n",
       "      <td>4519 9921 1466 9389</td>\n",
       "      <td>02/20</td>\n",
       "      <td>Willia Browning</td>\n",
       "      <td>1249 Glendale Bay</td>\n",
       "      <td>Encinitas</td>\n",
       "    </tr>\n",
       "    <tr>\n",
       "      <th>4</th>\n",
       "      <td>33</td>\n",
       "      <td>Salesman</td>\n",
       "      <td>731.492.5782</td>\n",
       "      <td>3406 286395 98470</td>\n",
       "      <td>11/21</td>\n",
       "      <td>Kiana English</td>\n",
       "      <td>3 Randolph Hill</td>\n",
       "      <td>Lawton</td>\n",
       "    </tr>\n",
       "  </tbody>\n",
       "</table>\n",
       "</div>"
      ],
      "text/plain": [
       "   age       occupation          telephone   credit-card-number  \\\n",
       "0   54  Airport Manager     1-070-166-2642    3795 002023 11496   \n",
       "1   25     Boat Builder  +1-(999)-558-3761  5100 4623 6405 8016   \n",
       "2   25       Signwriter       378.258.1094    3751 128826 97238   \n",
       "3   54        Mortician       985-393-8586  4519 9921 1466 9389   \n",
       "4   33         Salesman       731.492.5782    3406 286395 98470   \n",
       "\n",
       "  credit-card-expiration             name         street-address          city  \n",
       "0                  04/25  Virgil Hamilton        1242 Hunt Plaza         Alvin  \n",
       "1                  10/21   Rubie Erickson    81 Cunningham Annex       Danbury  \n",
       "2                  06/25  Pamella Webster  507 Cashmere Crescent  Flower Mound  \n",
       "3                  02/20  Willia Browning      1249 Glendale Bay     Encinitas  \n",
       "4                  11/21    Kiana English        3 Randolph Hill        Lawton  "
      ]
     },
     "execution_count": 14,
     "metadata": {},
     "output_type": "execute_result"
    }
   ],
   "source": [
    "df = b.map(flatten).to_dataframe()\n",
    "df.head()"
   ]
  },
  {
   "cell_type": "markdown",
   "metadata": {},
   "source": [
    "We can now perform the same computation as before, but now using Pandas and Dask dataframe."
   ]
  },
  {
   "cell_type": "code",
   "execution_count": 15,
   "metadata": {},
   "outputs": [
    {
     "data": {
      "text/plain": [
       "Plater               15\n",
       "Optometrist          15\n",
       "Seaman               15\n",
       "Book Seller          14\n",
       "Sheriff Principal    14\n",
       "Hospital Manager     14\n",
       "Pools Collector      14\n",
       "Mechanic             13\n",
       "Gate Keeper          13\n",
       "Carphone Fitter      13\n",
       "Name: occupation, dtype: int64"
      ]
     },
     "execution_count": 15,
     "metadata": {},
     "output_type": "execute_result"
    }
   ],
   "source": [
    "df[df.age > 30].occupation.value_counts().nlargest(10).compute()"
   ]
  },
  {
   "cell_type": "markdown",
   "metadata": {},
   "source": [
    "## Learn More\n",
    "\n",
    "You may be interested in the following links:\n",
    "\n",
    "-  [Dask Bag Documentation](http://docs.dask.org/en/latest/bag-overview.html)\n",
    "-  [API Documentation](http://docs.dask.org/en/latest/bag-api.html)\n",
    "-  [dask tutorial](https://github.com/dask/dask-tutorial), notebook 02, for a more in-depth introduction."
   ]
  }
 ],
 "metadata": {
  "kernelspec": {
   "display_name": "Python 3",
   "language": "python",
   "name": "python3"
  },
  "language_info": {
   "codemirror_mode": {
    "name": "ipython",
    "version": 3
   },
   "file_extension": ".py",
   "mimetype": "text/x-python",
   "name": "python",
   "nbconvert_exporter": "python",
   "pygments_lexer": "ipython3",
   "version": "3.7.6"
  }
 },
 "nbformat": 4,
 "nbformat_minor": 2
}
