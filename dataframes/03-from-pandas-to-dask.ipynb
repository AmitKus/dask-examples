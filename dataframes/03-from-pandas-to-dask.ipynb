{
 "cells": [
  {
   "cell_type": "markdown",
   "metadata": {},
   "source": [
    "# Gotcha's from Pandas to Dask\n",
    "\n",
    "This notebook highlights some key differences when transfering code from Pandas to run in a Dask environment."
   ]
  },
  {
   "cell_type": "markdown",
   "metadata": {},
   "source": [
    "## Start Dask Client for Dashboard\n",
    "\n",
    "Starting the Dask Client is optional.  It will provide a dashboard which \n",
    "is useful to gain insight on the computation.  \n",
    "\n",
    "The link to the dashboard will become visible when you create the client below.  We recommend having it open on one side of your screen while using your notebook on the other side.  This can take some effort to arrange your windows, but seeing them both at the same is very useful when learning."
   ]
  },
  {
   "cell_type": "code",
   "execution_count": 1,
   "metadata": {},
   "outputs": [
    {
     "name": "stderr",
     "output_type": "stream",
     "text": [
      "/home/ds/anaconda3/envs/dask2/lib/python3.6/site-packages/distributed/bokeh/core.py:57: UserWarning: \n",
      "Port 8787 is already in use. \n",
      "Perhaps you already have a cluster running?\n",
      "Hosting the diagnostics dashboard on a random port instead.\n",
      "  warnings.warn('\\n' + msg)\n"
     ]
    },
    {
     "data": {
      "text/html": [
       "<table style=\"border: 2px solid white;\">\n",
       "<tr>\n",
       "<td style=\"vertical-align: top; border: 0px solid white\">\n",
       "<h3>Client</h3>\n",
       "<ul>\n",
       "  <li><b>Scheduler: </b>tcp://127.0.0.1:33855\n",
       "  <li><b>Dashboard: </b><a href='http://127.0.0.1:44485/status' target='_blank'>http://127.0.0.1:44485/status</a>\n",
       "</ul>\n",
       "</td>\n",
       "<td style=\"vertical-align: top; border: 0px solid white\">\n",
       "<h3>Cluster</h3>\n",
       "<ul>\n",
       "  <li><b>Workers: </b>4</li>\n",
       "  <li><b>Cores: </b>8</li>\n",
       "  <li><b>Memory: </b>67.44 GB</li>\n",
       "</ul>\n",
       "</td>\n",
       "</tr>\n",
       "</table>"
      ],
      "text/plain": [
       "<Client: scheduler='tcp://127.0.0.1:33855' processes=4 cores=8>"
      ]
     },
     "execution_count": 1,
     "metadata": {},
     "output_type": "execute_result"
    }
   ],
   "source": [
    "from dask.distributed import Client\n",
    "# client = Client(n_workers=1, threads_per_worker=4, processes=False, memory_limit='2GB')\n",
    "client = Client()\n",
    "client"
   ]
  },
  {
   "cell_type": "markdown",
   "metadata": {},
   "source": [
    "## Create 2 DataFrames: \n",
    "1. for Dask \n",
    "2. for Pandas  \n",
    "Dask comes with builtin dataset samples.  \n",
    "In order to create a Pandas dataframe all that is needed is to run compute()"
   ]
  },
  {
   "cell_type": "code",
   "execution_count": 2,
   "metadata": {},
   "outputs": [
    {
     "name": "stdout",
     "output_type": "stream",
     "text": [
      "Dask versoin: 1.1.5\n",
      "Pandas versoin: 0.24.2\n"
     ]
    }
   ],
   "source": [
    "import dask\n",
    "import pandas as pd\n",
    "print(f'Dask versoin: {dask.__version__}')\n",
    "print(f'Pandas versoin: {pd.__version__}')"
   ]
  },
  {
   "cell_type": "code",
   "execution_count": 3,
   "metadata": {},
   "outputs": [
    {
     "data": {
      "text/html": [
       "<div>\n",
       "<style scoped>\n",
       "    .dataframe tbody tr th:only-of-type {\n",
       "        vertical-align: middle;\n",
       "    }\n",
       "\n",
       "    .dataframe tbody tr th {\n",
       "        vertical-align: top;\n",
       "    }\n",
       "\n",
       "    .dataframe thead th {\n",
       "        text-align: right;\n",
       "    }\n",
       "</style>\n",
       "<table border=\"1\" class=\"dataframe\">\n",
       "  <thead>\n",
       "    <tr style=\"text-align: right;\">\n",
       "      <th></th>\n",
       "      <th>id</th>\n",
       "      <th>name</th>\n",
       "      <th>x</th>\n",
       "      <th>y</th>\n",
       "    </tr>\n",
       "    <tr>\n",
       "      <th>timestamp</th>\n",
       "      <th></th>\n",
       "      <th></th>\n",
       "      <th></th>\n",
       "      <th></th>\n",
       "    </tr>\n",
       "  </thead>\n",
       "  <tbody>\n",
       "    <tr>\n",
       "      <th>2000-01-01 00:00:00</th>\n",
       "      <td>1063</td>\n",
       "      <td>Sarah</td>\n",
       "      <td>0.907688</td>\n",
       "      <td>-0.048602</td>\n",
       "    </tr>\n",
       "    <tr>\n",
       "      <th>2000-01-01 00:00:01</th>\n",
       "      <td>988</td>\n",
       "      <td>Zelda</td>\n",
       "      <td>0.096239</td>\n",
       "      <td>0.302358</td>\n",
       "    </tr>\n",
       "    <tr>\n",
       "      <th>2000-01-01 00:00:02</th>\n",
       "      <td>957</td>\n",
       "      <td>Tim</td>\n",
       "      <td>0.699176</td>\n",
       "      <td>-0.026133</td>\n",
       "    </tr>\n",
       "    <tr>\n",
       "      <th>2000-01-01 00:00:03</th>\n",
       "      <td>1002</td>\n",
       "      <td>Dan</td>\n",
       "      <td>0.985693</td>\n",
       "      <td>-0.255042</td>\n",
       "    </tr>\n",
       "    <tr>\n",
       "      <th>2000-01-01 00:00:04</th>\n",
       "      <td>996</td>\n",
       "      <td>George</td>\n",
       "      <td>0.100571</td>\n",
       "      <td>-0.400752</td>\n",
       "    </tr>\n",
       "  </tbody>\n",
       "</table>\n",
       "</div>"
      ],
      "text/plain": [
       "                       id    name         x         y\n",
       "timestamp                                            \n",
       "2000-01-01 00:00:00  1063   Sarah  0.907688 -0.048602\n",
       "2000-01-01 00:00:01   988   Zelda  0.096239  0.302358\n",
       "2000-01-01 00:00:02   957     Tim  0.699176 -0.026133\n",
       "2000-01-01 00:00:03  1002     Dan  0.985693 -0.255042\n",
       "2000-01-01 00:00:04   996  George  0.100571 -0.400752"
      ]
     },
     "execution_count": 3,
     "metadata": {},
     "output_type": "execute_result"
    }
   ],
   "source": [
    "ddf = dask.datasets.timeseries()\n",
    "pdf = ddf.compute()  # create a pandas dataframe\n",
    "pdf.head()"
   ]
  },
  {
   "cell_type": "code",
   "execution_count": 4,
   "metadata": {},
   "outputs": [
    {
     "data": {
      "text/html": [
       "<div><strong>Dask DataFrame Structure:</strong></div>\n",
       "<div>\n",
       "<style scoped>\n",
       "    .dataframe tbody tr th:only-of-type {\n",
       "        vertical-align: middle;\n",
       "    }\n",
       "\n",
       "    .dataframe tbody tr th {\n",
       "        vertical-align: top;\n",
       "    }\n",
       "\n",
       "    .dataframe thead th {\n",
       "        text-align: right;\n",
       "    }\n",
       "</style>\n",
       "<table border=\"1\" class=\"dataframe\">\n",
       "  <thead>\n",
       "    <tr style=\"text-align: right;\">\n",
       "      <th></th>\n",
       "      <th>id</th>\n",
       "      <th>name</th>\n",
       "      <th>x</th>\n",
       "      <th>y</th>\n",
       "    </tr>\n",
       "    <tr>\n",
       "      <th>npartitions=30</th>\n",
       "      <th></th>\n",
       "      <th></th>\n",
       "      <th></th>\n",
       "      <th></th>\n",
       "    </tr>\n",
       "  </thead>\n",
       "  <tbody>\n",
       "    <tr>\n",
       "      <th>2000-01-01</th>\n",
       "      <td>int64</td>\n",
       "      <td>object</td>\n",
       "      <td>float64</td>\n",
       "      <td>float64</td>\n",
       "    </tr>\n",
       "    <tr>\n",
       "      <th>2000-01-02</th>\n",
       "      <td>...</td>\n",
       "      <td>...</td>\n",
       "      <td>...</td>\n",
       "      <td>...</td>\n",
       "    </tr>\n",
       "    <tr>\n",
       "      <th>...</th>\n",
       "      <td>...</td>\n",
       "      <td>...</td>\n",
       "      <td>...</td>\n",
       "      <td>...</td>\n",
       "    </tr>\n",
       "    <tr>\n",
       "      <th>2000-01-30</th>\n",
       "      <td>...</td>\n",
       "      <td>...</td>\n",
       "      <td>...</td>\n",
       "      <td>...</td>\n",
       "    </tr>\n",
       "    <tr>\n",
       "      <th>2000-01-31</th>\n",
       "      <td>...</td>\n",
       "      <td>...</td>\n",
       "      <td>...</td>\n",
       "      <td>...</td>\n",
       "    </tr>\n",
       "  </tbody>\n",
       "</table>\n",
       "</div>\n",
       "<div>Dask Name: make-timeseries, 30 tasks</div>"
      ],
      "text/plain": [
       "Dask DataFrame Structure:\n",
       "                   id    name        x        y\n",
       "npartitions=30                                 \n",
       "2000-01-01      int64  object  float64  float64\n",
       "2000-01-02        ...     ...      ...      ...\n",
       "...               ...     ...      ...      ...\n",
       "2000-01-30        ...     ...      ...      ...\n",
       "2000-01-31        ...     ...      ...      ...\n",
       "Dask Name: make-timeseries, 30 tasks"
      ]
     },
     "execution_count": 4,
     "metadata": {},
     "output_type": "execute_result"
    }
   ],
   "source": [
    "ddf"
   ]
  },
  {
   "cell_type": "code",
   "execution_count": 5,
   "metadata": {},
   "outputs": [
    {
     "data": {
      "text/html": [
       "<div>\n",
       "<style scoped>\n",
       "    .dataframe tbody tr th:only-of-type {\n",
       "        vertical-align: middle;\n",
       "    }\n",
       "\n",
       "    .dataframe tbody tr th {\n",
       "        vertical-align: top;\n",
       "    }\n",
       "\n",
       "    .dataframe thead th {\n",
       "        text-align: right;\n",
       "    }\n",
       "</style>\n",
       "<table border=\"1\" class=\"dataframe\">\n",
       "  <thead>\n",
       "    <tr style=\"text-align: right;\">\n",
       "      <th></th>\n",
       "      <th>id</th>\n",
       "      <th>name</th>\n",
       "      <th>x</th>\n",
       "      <th>y</th>\n",
       "    </tr>\n",
       "    <tr>\n",
       "      <th>timestamp</th>\n",
       "      <th></th>\n",
       "      <th></th>\n",
       "      <th></th>\n",
       "      <th></th>\n",
       "    </tr>\n",
       "  </thead>\n",
       "  <tbody>\n",
       "    <tr>\n",
       "      <th>2000-01-01 00:00:00</th>\n",
       "      <td>1063</td>\n",
       "      <td>Sarah</td>\n",
       "      <td>0.907688</td>\n",
       "      <td>-0.048602</td>\n",
       "    </tr>\n",
       "    <tr>\n",
       "      <th>2000-01-01 00:00:01</th>\n",
       "      <td>988</td>\n",
       "      <td>Zelda</td>\n",
       "      <td>0.096239</td>\n",
       "      <td>0.302358</td>\n",
       "    </tr>\n",
       "    <tr>\n",
       "      <th>2000-01-01 00:00:02</th>\n",
       "      <td>957</td>\n",
       "      <td>Tim</td>\n",
       "      <td>0.699176</td>\n",
       "      <td>-0.026133</td>\n",
       "    </tr>\n",
       "    <tr>\n",
       "      <th>2000-01-01 00:00:03</th>\n",
       "      <td>1002</td>\n",
       "      <td>Dan</td>\n",
       "      <td>0.985693</td>\n",
       "      <td>-0.255042</td>\n",
       "    </tr>\n",
       "    <tr>\n",
       "      <th>2000-01-01 00:00:04</th>\n",
       "      <td>996</td>\n",
       "      <td>George</td>\n",
       "      <td>0.100571</td>\n",
       "      <td>-0.400752</td>\n",
       "    </tr>\n",
       "  </tbody>\n",
       "</table>\n",
       "</div>"
      ],
      "text/plain": [
       "                       id    name         x         y\n",
       "timestamp                                            \n",
       "2000-01-01 00:00:00  1063   Sarah  0.907688 -0.048602\n",
       "2000-01-01 00:00:01   988   Zelda  0.096239  0.302358\n",
       "2000-01-01 00:00:02   957     Tim  0.699176 -0.026133\n",
       "2000-01-01 00:00:03  1002     Dan  0.985693 -0.255042\n",
       "2000-01-01 00:00:04   996  George  0.100571 -0.400752"
      ]
     },
     "execution_count": 5,
     "metadata": {},
     "output_type": "execute_result"
    }
   ],
   "source": [
    "# Remember Dask DataFrames are **lazy** thus in order to see the result we need to run computer \n",
    "# (or head which runs under the hood compute()) )\n",
    "ddf.head()"
   ]
  },
  {
   "cell_type": "markdown",
   "metadata": {},
   "source": [
    "Now that we have both `dataframes` we can start to compair the interactions with them"
   ]
  },
  {
   "cell_type": "markdown",
   "metadata": {},
   "source": [
    "## 1. Conceptual shift - from Update to Insert/Delete\n",
    "Dask does not update - thus no arguments such as \"inplace= True\" which exist in Pandas.  \n",
    "For more detials see [issue#653 on github](https://github.com/dask/dask/issues/653)\n"
   ]
  },
  {
   "cell_type": "markdown",
   "metadata": {},
   "source": [
    "### 1.1 Rename"
   ]
  },
  {
   "cell_type": "code",
   "execution_count": 6,
   "metadata": {},
   "outputs": [
    {
     "name": "stdout",
     "output_type": "stream",
     "text": [
      "Index(['id', 'name', 'x', 'y'], dtype='object')\n"
     ]
    },
    {
     "data": {
      "text/plain": [
       "Index(['ID', 'Name', 'coor_x', 'coor_y'], dtype='object')"
      ]
     },
     "execution_count": 6,
     "metadata": {},
     "output_type": "execute_result"
    }
   ],
   "source": [
    "# Pandas\n",
    "print(pdf.columns)\n",
    "pdf.rename(columns={'id':'ID','name':'Name','x':'coor_x', 'y':'coor_y'},inplace=True)\n",
    "pdf.columns"
   ]
  },
  {
   "cell_type": "code",
   "execution_count": 7,
   "metadata": {},
   "outputs": [
    {
     "name": "stdout",
     "output_type": "stream",
     "text": [
      "Index(['id', 'name', 'x', 'y'], dtype='object')\n"
     ]
    },
    {
     "data": {
      "text/plain": [
       "Index(['ID', 'Name', 'coor_x', 'coor_y'], dtype='object')"
      ]
     },
     "execution_count": 7,
     "metadata": {},
     "output_type": "execute_result"
    }
   ],
   "source": [
    "# Dask\n",
    "# Must update using the correct sequence of the columns\n",
    "print(ddf.columns)\n",
    "ddf.columns = ['ID','Name','coor_x','coor_y']\n",
    "ddf.columns"
   ]
  },
  {
   "cell_type": "markdown",
   "metadata": {},
   "source": [
    "## 1.2 Column munipilations  \n",
    "There are several diffrences when manimuplating data. mose of which require to ran a couple of lines (instead of one-liners)"
   ]
  },
  {
   "cell_type": "markdown",
   "metadata": {},
   "source": [
    "### Convert index into Time column"
   ]
  },
  {
   "cell_type": "code",
   "execution_count": 8,
   "metadata": {},
   "outputs": [
    {
     "data": {
      "text/html": [
       "<div>\n",
       "<style scoped>\n",
       "    .dataframe tbody tr th:only-of-type {\n",
       "        vertical-align: middle;\n",
       "    }\n",
       "\n",
       "    .dataframe tbody tr th {\n",
       "        vertical-align: top;\n",
       "    }\n",
       "\n",
       "    .dataframe thead th {\n",
       "        text-align: right;\n",
       "    }\n",
       "</style>\n",
       "<table border=\"1\" class=\"dataframe\">\n",
       "  <thead>\n",
       "    <tr style=\"text-align: right;\">\n",
       "      <th></th>\n",
       "      <th>ID</th>\n",
       "      <th>Name</th>\n",
       "      <th>coor_x</th>\n",
       "      <th>coor_y</th>\n",
       "      <th>Time</th>\n",
       "    </tr>\n",
       "    <tr>\n",
       "      <th>timestamp</th>\n",
       "      <th></th>\n",
       "      <th></th>\n",
       "      <th></th>\n",
       "      <th></th>\n",
       "      <th></th>\n",
       "    </tr>\n",
       "  </thead>\n",
       "  <tbody>\n",
       "    <tr>\n",
       "      <th>2000-01-01 00:00:00</th>\n",
       "      <td>1063</td>\n",
       "      <td>Sarah</td>\n",
       "      <td>0.907688</td>\n",
       "      <td>-0.048602</td>\n",
       "      <td>00:00:00</td>\n",
       "    </tr>\n",
       "    <tr>\n",
       "      <th>2000-01-01 00:00:01</th>\n",
       "      <td>988</td>\n",
       "      <td>Zelda</td>\n",
       "      <td>0.096239</td>\n",
       "      <td>0.302358</td>\n",
       "      <td>00:00:01</td>\n",
       "    </tr>\n",
       "    <tr>\n",
       "      <th>2000-01-01 00:00:02</th>\n",
       "      <td>957</td>\n",
       "      <td>Tim</td>\n",
       "      <td>0.699176</td>\n",
       "      <td>-0.026133</td>\n",
       "      <td>00:00:02</td>\n",
       "    </tr>\n",
       "    <tr>\n",
       "      <th>2000-01-01 00:00:03</th>\n",
       "      <td>1002</td>\n",
       "      <td>Dan</td>\n",
       "      <td>0.985693</td>\n",
       "      <td>-0.255042</td>\n",
       "      <td>00:00:03</td>\n",
       "    </tr>\n",
       "    <tr>\n",
       "      <th>2000-01-01 00:00:04</th>\n",
       "      <td>996</td>\n",
       "      <td>George</td>\n",
       "      <td>0.100571</td>\n",
       "      <td>-0.400752</td>\n",
       "      <td>00:00:04</td>\n",
       "    </tr>\n",
       "  </tbody>\n",
       "</table>\n",
       "</div>"
      ],
      "text/plain": [
       "                       ID    Name    coor_x    coor_y      Time\n",
       "timestamp                                                      \n",
       "2000-01-01 00:00:00  1063   Sarah  0.907688 -0.048602  00:00:00\n",
       "2000-01-01 00:00:01   988   Zelda  0.096239  0.302358  00:00:01\n",
       "2000-01-01 00:00:02   957     Tim  0.699176 -0.026133  00:00:02\n",
       "2000-01-01 00:00:03  1002     Dan  0.985693 -0.255042  00:00:03\n",
       "2000-01-01 00:00:04   996  George  0.100571 -0.400752  00:00:04"
      ]
     },
     "execution_count": 8,
     "metadata": {},
     "output_type": "execute_result"
    }
   ],
   "source": [
    "# Pandas\n",
    "pdf = pdf.assign(Time=pd.to_datetime(pdf.index).time)\n",
    "pdf.head()"
   ]
  },
  {
   "cell_type": "code",
   "execution_count": 9,
   "metadata": {},
   "outputs": [
    {
     "name": "stderr",
     "output_type": "stream",
     "text": [
      "/home/ds/anaconda3/envs/dask2/lib/python3.6/site-packages/pandas/core/ops.py:1649: FutureWarning: elementwise comparison failed; returning scalar instead, but in the future will perform elementwise comparison\n",
      "  result = method(y)\n"
     ]
    },
    {
     "data": {
      "text/html": [
       "<div>\n",
       "<style scoped>\n",
       "    .dataframe tbody tr th:only-of-type {\n",
       "        vertical-align: middle;\n",
       "    }\n",
       "\n",
       "    .dataframe tbody tr th {\n",
       "        vertical-align: top;\n",
       "    }\n",
       "\n",
       "    .dataframe thead th {\n",
       "        text-align: right;\n",
       "    }\n",
       "</style>\n",
       "<table border=\"1\" class=\"dataframe\">\n",
       "  <thead>\n",
       "    <tr style=\"text-align: right;\">\n",
       "      <th></th>\n",
       "      <th>ID</th>\n",
       "      <th>Name</th>\n",
       "      <th>coor_x</th>\n",
       "      <th>coor_y</th>\n",
       "      <th>Time</th>\n",
       "    </tr>\n",
       "    <tr>\n",
       "      <th>timestamp</th>\n",
       "      <th></th>\n",
       "      <th></th>\n",
       "      <th></th>\n",
       "      <th></th>\n",
       "      <th></th>\n",
       "    </tr>\n",
       "  </thead>\n",
       "  <tbody>\n",
       "    <tr>\n",
       "      <th>2000-01-01 00:00:00</th>\n",
       "      <td>1063</td>\n",
       "      <td>Sarah</td>\n",
       "      <td>0.907688</td>\n",
       "      <td>-0.048602</td>\n",
       "      <td>00:00:00</td>\n",
       "    </tr>\n",
       "    <tr>\n",
       "      <th>2000-01-01 00:00:01</th>\n",
       "      <td>988</td>\n",
       "      <td>Zelda</td>\n",
       "      <td>0.096239</td>\n",
       "      <td>0.302358</td>\n",
       "      <td>00:00:01</td>\n",
       "    </tr>\n",
       "    <tr>\n",
       "      <th>2000-01-01 00:00:02</th>\n",
       "      <td>957</td>\n",
       "      <td>Tim</td>\n",
       "      <td>0.699176</td>\n",
       "      <td>-0.026133</td>\n",
       "      <td>00:00:02</td>\n",
       "    </tr>\n",
       "    <tr>\n",
       "      <th>2000-01-01 00:00:03</th>\n",
       "      <td>1002</td>\n",
       "      <td>Dan</td>\n",
       "      <td>0.985693</td>\n",
       "      <td>-0.255042</td>\n",
       "      <td>00:00:03</td>\n",
       "    </tr>\n",
       "    <tr>\n",
       "      <th>2000-01-01 00:00:04</th>\n",
       "      <td>996</td>\n",
       "      <td>George</td>\n",
       "      <td>0.100571</td>\n",
       "      <td>-0.400752</td>\n",
       "      <td>00:00:04</td>\n",
       "    </tr>\n",
       "  </tbody>\n",
       "</table>\n",
       "</div>"
      ],
      "text/plain": [
       "                       ID    Name    coor_x    coor_y      Time\n",
       "timestamp                                                      \n",
       "2000-01-01 00:00:00  1063   Sarah  0.907688 -0.048602  00:00:00\n",
       "2000-01-01 00:00:01   988   Zelda  0.096239  0.302358  00:00:01\n",
       "2000-01-01 00:00:02   957     Tim  0.699176 -0.026133  00:00:02\n",
       "2000-01-01 00:00:03  1002     Dan  0.985693 -0.255042  00:00:03\n",
       "2000-01-01 00:00:04   996  George  0.100571 -0.400752  00:00:04"
      ]
     },
     "execution_count": 9,
     "metadata": {},
     "output_type": "execute_result"
    }
   ],
   "source": [
    "# Dask\n",
    "ddf = ddf.assign(Time=ddf.index)\n",
    "ddf['Time'] = ddf['Time'].dt.time\n",
    "ddf.head()"
   ]
  },
  {
   "cell_type": "markdown",
   "metadata": {},
   "source": [
    "## 1.3 Drop NA on column"
   ]
  },
  {
   "cell_type": "code",
   "execution_count": 10,
   "metadata": {},
   "outputs": [
    {
     "name": "stdout",
     "output_type": "stream",
     "text": [
      "                       ID    Name    coor_x    coor_y      Time colna\n",
      "timestamp                                                            \n",
      "2000-01-01 00:00:00  1063   Sarah  0.907688 -0.048602  00:00:00  None\n",
      "2000-01-01 00:00:01   988   Zelda  0.096239  0.302358  00:00:01  None\n",
      "2000-01-01 00:00:02   957     Tim  0.699176 -0.026133  00:00:02  None\n",
      "2000-01-01 00:00:03  1002     Dan  0.985693 -0.255042  00:00:03  None\n",
      "2000-01-01 00:00:04   996  George  0.100571 -0.400752  00:00:04  None\n",
      "                       ID    Name    coor_x    coor_y      Time\n",
      "timestamp                                                      \n",
      "2000-01-01 00:00:00  1063   Sarah  0.907688 -0.048602  00:00:00\n",
      "2000-01-01 00:00:01   988   Zelda  0.096239  0.302358  00:00:01\n",
      "2000-01-01 00:00:02   957     Tim  0.699176 -0.026133  00:00:02\n",
      "2000-01-01 00:00:03  1002     Dan  0.985693 -0.255042  00:00:03\n",
      "2000-01-01 00:00:04   996  George  0.100571 -0.400752  00:00:04\n"
     ]
    }
   ],
   "source": [
    "# Pandas\n",
    "pdf = pdf.assign(colna = None)\n",
    "print(pdf.head())\n",
    "pdf.dropna(axis=1, how='all', inplace=True)\n",
    "print(pdf.head())"
   ]
  },
  {
   "cell_type": "code",
   "execution_count": 11,
   "metadata": {},
   "outputs": [
    {
     "name": "stdout",
     "output_type": "stream",
     "text": [
      "                       ID    Name    coor_x    coor_y      Time colna\n",
      "timestamp                                                            \n",
      "2000-01-01 00:00:00  1063   Sarah  0.907688 -0.048602  00:00:00  None\n",
      "2000-01-01 00:00:01   988   Zelda  0.096239  0.302358  00:00:01  None\n",
      "2000-01-01 00:00:02   957     Tim  0.699176 -0.026133  00:00:02  None\n",
      "2000-01-01 00:00:03  1002     Dan  0.985693 -0.255042  00:00:03  None\n",
      "2000-01-01 00:00:04   996  George  0.100571 -0.400752  00:00:04  None\n",
      "                       ID    Name    coor_x    coor_y      Time\n",
      "timestamp                                                      \n",
      "2000-01-01 00:00:00  1063   Sarah  0.907688 -0.048602  00:00:00\n",
      "2000-01-01 00:00:01   988   Zelda  0.096239  0.302358  00:00:01\n",
      "2000-01-01 00:00:02   957     Tim  0.699176 -0.026133  00:00:02\n",
      "2000-01-01 00:00:03  1002     Dan  0.985693 -0.255042  00:00:03\n",
      "2000-01-01 00:00:04   996  George  0.100571 -0.400752  00:00:04\n"
     ]
    }
   ],
   "source": [
    "# Dask\n",
    "ddf = ddf.assign(colna = None)\n",
    "print(ddf.head())\n",
    "if ddf.colna.isnull().all().compute() == True:   # check if all values in column are Null - VERY slow\n",
    "    ddf = ddf.drop(labels=['colna'],axis=1)\n",
    "print(ddf.head())"
   ]
  },
  {
   "cell_type": "markdown",
   "metadata": {},
   "source": [
    "##  1.4 Reset Index"
   ]
  },
  {
   "cell_type": "code",
   "execution_count": 12,
   "metadata": {},
   "outputs": [
    {
     "data": {
      "text/html": [
       "<div>\n",
       "<style scoped>\n",
       "    .dataframe tbody tr th:only-of-type {\n",
       "        vertical-align: middle;\n",
       "    }\n",
       "\n",
       "    .dataframe tbody tr th {\n",
       "        vertical-align: top;\n",
       "    }\n",
       "\n",
       "    .dataframe thead th {\n",
       "        text-align: right;\n",
       "    }\n",
       "</style>\n",
       "<table border=\"1\" class=\"dataframe\">\n",
       "  <thead>\n",
       "    <tr style=\"text-align: right;\">\n",
       "      <th></th>\n",
       "      <th>ID</th>\n",
       "      <th>Name</th>\n",
       "      <th>coor_x</th>\n",
       "      <th>coor_y</th>\n",
       "      <th>Time</th>\n",
       "    </tr>\n",
       "  </thead>\n",
       "  <tbody>\n",
       "    <tr>\n",
       "      <th>0</th>\n",
       "      <td>1063</td>\n",
       "      <td>Sarah</td>\n",
       "      <td>0.907688</td>\n",
       "      <td>-0.048602</td>\n",
       "      <td>00:00:00</td>\n",
       "    </tr>\n",
       "    <tr>\n",
       "      <th>1</th>\n",
       "      <td>988</td>\n",
       "      <td>Zelda</td>\n",
       "      <td>0.096239</td>\n",
       "      <td>0.302358</td>\n",
       "      <td>00:00:01</td>\n",
       "    </tr>\n",
       "    <tr>\n",
       "      <th>2</th>\n",
       "      <td>957</td>\n",
       "      <td>Tim</td>\n",
       "      <td>0.699176</td>\n",
       "      <td>-0.026133</td>\n",
       "      <td>00:00:02</td>\n",
       "    </tr>\n",
       "    <tr>\n",
       "      <th>3</th>\n",
       "      <td>1002</td>\n",
       "      <td>Dan</td>\n",
       "      <td>0.985693</td>\n",
       "      <td>-0.255042</td>\n",
       "      <td>00:00:03</td>\n",
       "    </tr>\n",
       "    <tr>\n",
       "      <th>4</th>\n",
       "      <td>996</td>\n",
       "      <td>George</td>\n",
       "      <td>0.100571</td>\n",
       "      <td>-0.400752</td>\n",
       "      <td>00:00:04</td>\n",
       "    </tr>\n",
       "  </tbody>\n",
       "</table>\n",
       "</div>"
      ],
      "text/plain": [
       "     ID    Name    coor_x    coor_y      Time\n",
       "0  1063   Sarah  0.907688 -0.048602  00:00:00\n",
       "1   988   Zelda  0.096239  0.302358  00:00:01\n",
       "2   957     Tim  0.699176 -0.026133  00:00:02\n",
       "3  1002     Dan  0.985693 -0.255042  00:00:03\n",
       "4   996  George  0.100571 -0.400752  00:00:04"
      ]
     },
     "execution_count": 12,
     "metadata": {},
     "output_type": "execute_result"
    }
   ],
   "source": [
    "# Pandas\n",
    "pdf.reset_index(drop=True, inplace=True)\n",
    "pdf.head()"
   ]
  },
  {
   "cell_type": "markdown",
   "metadata": {},
   "source": [
    "Dask is in a development mode\n",
    "thus there bugs that are fixed all the time   \n",
    "e.g. [reset_index fails when index is named ](https://github.com/dask/dask/pull/4509)"
   ]
  },
  {
   "cell_type": "code",
   "execution_count": 13,
   "metadata": {},
   "outputs": [],
   "source": [
    "# This currently fails without reseting the dataframe......\n",
    "ddf = dask.datasets.timeseries()"
   ]
  },
  {
   "cell_type": "code",
   "execution_count": 14,
   "metadata": {},
   "outputs": [
    {
     "data": {
      "text/html": [
       "<div>\n",
       "<style scoped>\n",
       "    .dataframe tbody tr th:only-of-type {\n",
       "        vertical-align: middle;\n",
       "    }\n",
       "\n",
       "    .dataframe tbody tr th {\n",
       "        vertical-align: top;\n",
       "    }\n",
       "\n",
       "    .dataframe thead th {\n",
       "        text-align: right;\n",
       "    }\n",
       "</style>\n",
       "<table border=\"1\" class=\"dataframe\">\n",
       "  <thead>\n",
       "    <tr style=\"text-align: right;\">\n",
       "      <th></th>\n",
       "      <th>ID</th>\n",
       "      <th>Name</th>\n",
       "      <th>coor_x</th>\n",
       "      <th>coor_y</th>\n",
       "      <th>Time</th>\n",
       "    </tr>\n",
       "  </thead>\n",
       "  <tbody>\n",
       "    <tr>\n",
       "      <th>0</th>\n",
       "      <td>952</td>\n",
       "      <td>Frank</td>\n",
       "      <td>-0.711713</td>\n",
       "      <td>-0.108789</td>\n",
       "      <td>00:00:00</td>\n",
       "    </tr>\n",
       "    <tr>\n",
       "      <th>1</th>\n",
       "      <td>986</td>\n",
       "      <td>Bob</td>\n",
       "      <td>-0.637641</td>\n",
       "      <td>0.260295</td>\n",
       "      <td>00:00:01</td>\n",
       "    </tr>\n",
       "    <tr>\n",
       "      <th>2</th>\n",
       "      <td>1040</td>\n",
       "      <td>Michael</td>\n",
       "      <td>-0.506356</td>\n",
       "      <td>-0.851453</td>\n",
       "      <td>00:00:02</td>\n",
       "    </tr>\n",
       "    <tr>\n",
       "      <th>3</th>\n",
       "      <td>919</td>\n",
       "      <td>Alice</td>\n",
       "      <td>0.537937</td>\n",
       "      <td>0.186887</td>\n",
       "      <td>00:00:03</td>\n",
       "    </tr>\n",
       "    <tr>\n",
       "      <th>4</th>\n",
       "      <td>998</td>\n",
       "      <td>Dan</td>\n",
       "      <td>0.842193</td>\n",
       "      <td>-0.991330</td>\n",
       "      <td>00:00:04</td>\n",
       "    </tr>\n",
       "  </tbody>\n",
       "</table>\n",
       "</div>"
      ],
      "text/plain": [
       "     ID     Name    coor_x    coor_y      Time\n",
       "0   952    Frank -0.711713 -0.108789  00:00:00\n",
       "1   986      Bob -0.637641  0.260295  00:00:01\n",
       "2  1040  Michael -0.506356 -0.851453  00:00:02\n",
       "3   919    Alice  0.537937  0.186887  00:00:03\n",
       "4   998      Dan  0.842193 -0.991330  00:00:04"
      ]
     },
     "execution_count": 14,
     "metadata": {},
     "output_type": "execute_result"
    }
   ],
   "source": [
    "# Dask\n",
    "ddf.index.name = None   # workaround\n",
    "ddf = ddf.reset_index()\n",
    "ddf['Time'] = ddf['timestamp'].dt.time\n",
    "ddf = ddf.drop(labels=['timestamp'], axis=1 )\n",
    "ddf.columns = ['ID','Name','coor_x','coor_y','Time']\n",
    "ddf.head()"
   ]
  },
  {
   "cell_type": "markdown",
   "metadata": {},
   "source": [
    "# 2. Reads/Save files"
   ]
  },
  {
   "cell_type": "markdown",
   "metadata": {},
   "source": [
    "When working with pandas and dask preferable try and work with parquet.  \n",
    "Even so when working with Dask - the files can be read with multiple workers "
   ]
  },
  {
   "cell_type": "markdown",
   "metadata": {},
   "source": [
    "### Save files"
   ]
  },
  {
   "cell_type": "code",
   "execution_count": 15,
   "metadata": {},
   "outputs": [
    {
     "name": "stdout",
     "output_type": "stream",
     "text": [
      "mkdir: cannot create directory ‘/home/ds/tmp/pd2dd/’: File exists\n",
      "ddf00.csv  ddf06.csv  ddf12.csv  ddf18.csv  ddf24.csv  pdf_single_file.csv\n",
      "ddf01.csv  ddf07.csv  ddf13.csv  ddf19.csv  ddf25.csv\n",
      "ddf02.csv  ddf08.csv  ddf14.csv  ddf20.csv  ddf26.csv\n",
      "ddf03.csv  ddf09.csv  ddf15.csv  ddf21.csv  ddf27.csv\n",
      "ddf04.csv  ddf10.csv  ddf16.csv  ddf22.csv  ddf28.csv\n",
      "ddf05.csv  ddf11.csv  ddf17.csv  ddf23.csv  ddf29.csv\n"
     ]
    }
   ],
   "source": [
    "# Pandas\n",
    "!mkdir ~/tmp/pd2dd/\n",
    "pdf.to_csv('~/tmp/pd2dd/pdf_single_file.csv')\n",
    "!ls ~/tmp/pd2dd/"
   ]
  },
  {
   "cell_type": "code",
   "execution_count": 16,
   "metadata": {},
   "outputs": [
    {
     "name": "stdout",
     "output_type": "stream",
     "text": [
      "ddf00.csv  ddf06.csv  ddf12.csv  ddf18.csv  ddf24.csv  pdf_single_file.csv\n",
      "ddf01.csv  ddf07.csv  ddf13.csv  ddf19.csv  ddf25.csv\n",
      "ddf02.csv  ddf08.csv  ddf14.csv  ddf20.csv  ddf26.csv\n",
      "ddf03.csv  ddf09.csv  ddf15.csv  ddf21.csv  ddf27.csv\n",
      "ddf04.csv  ddf10.csv  ddf16.csv  ddf22.csv  ddf28.csv\n",
      "ddf05.csv  ddf11.csv  ddf17.csv  ddf23.csv  ddf29.csv\n"
     ]
    }
   ],
   "source": [
    "# Dask\n",
    "# 1. notice the '*' to allow for multiple file renaming. all kwrgs are applicable\n",
    "# 2. notice that the path to the directory may change based on the location of the running notebook\n",
    "ddf.to_csv('../../../tmp/pd2dd/ddf*.csv', index = False)\n",
    "!ls ~/tmp/pd2dd/\n",
    "# to fild number of partitions use dask.dataframe.npartitions"
   ]
  },
  {
   "cell_type": "markdown",
   "metadata": {},
   "source": [
    "### Read files"
   ]
  },
  {
   "cell_type": "code",
   "execution_count": 29,
   "metadata": {},
   "outputs": [
    {
     "data": {
      "text/html": [
       "<div>\n",
       "<style scoped>\n",
       "    .dataframe tbody tr th:only-of-type {\n",
       "        vertical-align: middle;\n",
       "    }\n",
       "\n",
       "    .dataframe tbody tr th {\n",
       "        vertical-align: top;\n",
       "    }\n",
       "\n",
       "    .dataframe thead th {\n",
       "        text-align: right;\n",
       "    }\n",
       "</style>\n",
       "<table border=\"1\" class=\"dataframe\">\n",
       "  <thead>\n",
       "    <tr style=\"text-align: right;\">\n",
       "      <th></th>\n",
       "      <th>ID</th>\n",
       "      <th>Name</th>\n",
       "      <th>coor_x</th>\n",
       "      <th>coor_y</th>\n",
       "      <th>Time</th>\n",
       "    </tr>\n",
       "  </thead>\n",
       "  <tbody>\n",
       "    <tr>\n",
       "      <th>0</th>\n",
       "      <td>952</td>\n",
       "      <td>Frank</td>\n",
       "      <td>-0.711713</td>\n",
       "      <td>-0.108789</td>\n",
       "      <td>00:00:00</td>\n",
       "    </tr>\n",
       "    <tr>\n",
       "      <th>1</th>\n",
       "      <td>986</td>\n",
       "      <td>Bob</td>\n",
       "      <td>-0.637641</td>\n",
       "      <td>0.260295</td>\n",
       "      <td>00:00:01</td>\n",
       "    </tr>\n",
       "    <tr>\n",
       "      <th>2</th>\n",
       "      <td>1040</td>\n",
       "      <td>Michael</td>\n",
       "      <td>-0.506356</td>\n",
       "      <td>-0.851453</td>\n",
       "      <td>00:00:02</td>\n",
       "    </tr>\n",
       "    <tr>\n",
       "      <th>3</th>\n",
       "      <td>919</td>\n",
       "      <td>Alice</td>\n",
       "      <td>0.537937</td>\n",
       "      <td>0.186887</td>\n",
       "      <td>00:00:03</td>\n",
       "    </tr>\n",
       "    <tr>\n",
       "      <th>4</th>\n",
       "      <td>998</td>\n",
       "      <td>Dan</td>\n",
       "      <td>0.842193</td>\n",
       "      <td>-0.991330</td>\n",
       "      <td>00:00:04</td>\n",
       "    </tr>\n",
       "  </tbody>\n",
       "</table>\n",
       "</div>"
      ],
      "text/plain": [
       "     ID     Name    coor_x    coor_y      Time\n",
       "0   952    Frank -0.711713 -0.108789  00:00:00\n",
       "1   986      Bob -0.637641  0.260295  00:00:01\n",
       "2  1040  Michael -0.506356 -0.851453  00:00:02\n",
       "3   919    Alice  0.537937  0.186887  00:00:03\n",
       "4   998      Dan  0.842193 -0.991330  00:00:04"
      ]
     },
     "execution_count": 29,
     "metadata": {},
     "output_type": "execute_result"
    }
   ],
   "source": [
    "# Dask\n",
    "ddf = dask.dataframe.read_csv('../../../tmp/pd2dd/ddf*.csv')\n",
    "ddf.head()"
   ]
  },
  {
   "cell_type": "markdown",
   "metadata": {},
   "source": [
    "## 3. Group By\n",
    "In addition to the notebook example that is in the repository - \n",
    "This is another example how to try to eliminate the use of `groupby.apply`  \n",
    "In this example we are grouping by coloumns into unique list."
   ]
  },
  {
   "cell_type": "code",
   "execution_count": 18,
   "metadata": {},
   "outputs": [
    {
     "data": {
      "text/html": [
       "<div>\n",
       "<style scoped>\n",
       "    .dataframe tbody tr th:only-of-type {\n",
       "        vertical-align: middle;\n",
       "    }\n",
       "\n",
       "    .dataframe tbody tr th {\n",
       "        vertical-align: top;\n",
       "    }\n",
       "\n",
       "    .dataframe thead th {\n",
       "        text-align: right;\n",
       "    }\n",
       "</style>\n",
       "<table border=\"1\" class=\"dataframe\">\n",
       "  <thead>\n",
       "    <tr style=\"text-align: right;\">\n",
       "      <th></th>\n",
       "      <th>ID</th>\n",
       "      <th>Name</th>\n",
       "      <th>coor_x</th>\n",
       "      <th>coor_y</th>\n",
       "      <th>Time</th>\n",
       "      <th>seconds</th>\n",
       "    </tr>\n",
       "  </thead>\n",
       "  <tbody>\n",
       "    <tr>\n",
       "      <th>0</th>\n",
       "      <td>1063</td>\n",
       "      <td>Sarah</td>\n",
       "      <td>0.907688</td>\n",
       "      <td>-0.048602</td>\n",
       "      <td>00:00:00</td>\n",
       "      <td>00</td>\n",
       "    </tr>\n",
       "    <tr>\n",
       "      <th>1</th>\n",
       "      <td>988</td>\n",
       "      <td>Zelda</td>\n",
       "      <td>0.096239</td>\n",
       "      <td>0.302358</td>\n",
       "      <td>00:00:00</td>\n",
       "      <td>00</td>\n",
       "    </tr>\n",
       "    <tr>\n",
       "      <th>2</th>\n",
       "      <td>957</td>\n",
       "      <td>Tim</td>\n",
       "      <td>0.699176</td>\n",
       "      <td>-0.026133</td>\n",
       "      <td>00:00:00</td>\n",
       "      <td>00</td>\n",
       "    </tr>\n",
       "    <tr>\n",
       "      <th>3</th>\n",
       "      <td>1002</td>\n",
       "      <td>Dan</td>\n",
       "      <td>0.985693</td>\n",
       "      <td>-0.255042</td>\n",
       "      <td>00:00:00</td>\n",
       "      <td>00</td>\n",
       "    </tr>\n",
       "    <tr>\n",
       "      <th>4</th>\n",
       "      <td>996</td>\n",
       "      <td>George</td>\n",
       "      <td>0.100571</td>\n",
       "      <td>-0.400752</td>\n",
       "      <td>00:00:00</td>\n",
       "      <td>00</td>\n",
       "    </tr>\n",
       "  </tbody>\n",
       "</table>\n",
       "</div>"
      ],
      "text/plain": [
       "     ID    Name    coor_x    coor_y      Time seconds\n",
       "0  1063   Sarah  0.907688 -0.048602  00:00:00      00\n",
       "1   988   Zelda  0.096239  0.302358  00:00:00      00\n",
       "2   957     Tim  0.699176 -0.026133  00:00:00      00\n",
       "3  1002     Dan  0.985693 -0.255042  00:00:00      00\n",
       "4   996  George  0.100571 -0.400752  00:00:00      00"
      ]
     },
     "execution_count": 18,
     "metadata": {},
     "output_type": "execute_result"
    }
   ],
   "source": [
    "# prepare pandas dataframe\n",
    "pdf = pdf.assign(Time=pd.to_datetime(pdf.index).time)\n",
    "pdf['seconds'] = pdf.Time.astype(str).str[-2:]\n",
    "pdf.head()"
   ]
  },
  {
   "cell_type": "code",
   "execution_count": 19,
   "metadata": {},
   "outputs": [],
   "source": [
    "# pandas preperations\n",
    "def set_list_att(x: dask.dataframe.Series):\n",
    "        return list(set([item for item in x.values]))"
   ]
  },
  {
   "cell_type": "code",
   "execution_count": 23,
   "metadata": {},
   "outputs": [
    {
     "name": "stdout",
     "output_type": "stream",
     "text": [
      "1.25 s ± 8.63 ms per loop (mean ± std. dev. of 7 runs, 1 loop each)\n"
     ]
    }
   ],
   "source": [
    "%%timeit\n",
    "# pandas option 1 using apply\n",
    "pdf_gb = pdf.groupby(pdf.Name)\n",
    "gp_col = ['ID', 'seconds']\n",
    "list_ser_gb = [pdf_gb[att_col_gr].apply(set_list_att) for att_col_gr in gp_col]\n",
    "df_edge_att = pdf_gb.size().to_frame(name=\"Weight\")\n",
    "for ser in list_ser_gb:\n",
    "        df_edge_att = df_edge_att.join(ser.to_frame(), how='left')        \n",
    "df_edge_att.head()"
   ]
  },
  {
   "cell_type": "code",
   "execution_count": 25,
   "metadata": {},
   "outputs": [
    {
     "name": "stdout",
     "output_type": "stream",
     "text": [
      "901 ms ± 4.38 ms per loop (mean ± std. dev. of 7 runs, 1 loop each)\n"
     ]
    }
   ],
   "source": [
    "%%timeit\n",
    "# pandas option 2 using lambda\n",
    "pdf_gb = pdf.groupby(pdf.Name)\n",
    "gp_col = ['ID', 'seconds']\n",
    "list_ser_gb = [pdf_gb[att_col_gr].apply(lambda x: list(set(x.to_list()))) for att_col_gr in gp_col]\n",
    "df_edge_att = pdf_gb.size().to_frame(name=\"Weight\")\n",
    "for ser in list_ser_gb:\n",
    "        df_edge_att = df_edge_att.join(ser.to_frame(), how='left')        \n",
    "df_edge_att.head()"
   ]
  },
  {
   "cell_type": "markdown",
   "metadata": {},
   "source": [
    "In any case sometimes using Pandas is more efficiante (assuming that you can load all the data into the RAM).  \n",
    "In this case Pandas is faster"
   ]
  },
  {
   "cell_type": "code",
   "execution_count": 30,
   "metadata": {},
   "outputs": [
    {
     "data": {
      "text/html": [
       "<div>\n",
       "<style scoped>\n",
       "    .dataframe tbody tr th:only-of-type {\n",
       "        vertical-align: middle;\n",
       "    }\n",
       "\n",
       "    .dataframe tbody tr th {\n",
       "        vertical-align: top;\n",
       "    }\n",
       "\n",
       "    .dataframe thead th {\n",
       "        text-align: right;\n",
       "    }\n",
       "</style>\n",
       "<table border=\"1\" class=\"dataframe\">\n",
       "  <thead>\n",
       "    <tr style=\"text-align: right;\">\n",
       "      <th></th>\n",
       "      <th>ID</th>\n",
       "      <th>Name</th>\n",
       "      <th>coor_x</th>\n",
       "      <th>coor_y</th>\n",
       "      <th>Time</th>\n",
       "      <th>seconds</th>\n",
       "    </tr>\n",
       "  </thead>\n",
       "  <tbody>\n",
       "    <tr>\n",
       "      <th>0</th>\n",
       "      <td>952</td>\n",
       "      <td>Frank</td>\n",
       "      <td>-0.711713</td>\n",
       "      <td>-0.108789</td>\n",
       "      <td>00:00:00</td>\n",
       "      <td>00</td>\n",
       "    </tr>\n",
       "    <tr>\n",
       "      <th>1</th>\n",
       "      <td>986</td>\n",
       "      <td>Bob</td>\n",
       "      <td>-0.637641</td>\n",
       "      <td>0.260295</td>\n",
       "      <td>00:00:01</td>\n",
       "      <td>01</td>\n",
       "    </tr>\n",
       "    <tr>\n",
       "      <th>2</th>\n",
       "      <td>1040</td>\n",
       "      <td>Michael</td>\n",
       "      <td>-0.506356</td>\n",
       "      <td>-0.851453</td>\n",
       "      <td>00:00:02</td>\n",
       "      <td>02</td>\n",
       "    </tr>\n",
       "    <tr>\n",
       "      <th>3</th>\n",
       "      <td>919</td>\n",
       "      <td>Alice</td>\n",
       "      <td>0.537937</td>\n",
       "      <td>0.186887</td>\n",
       "      <td>00:00:03</td>\n",
       "      <td>03</td>\n",
       "    </tr>\n",
       "    <tr>\n",
       "      <th>4</th>\n",
       "      <td>998</td>\n",
       "      <td>Dan</td>\n",
       "      <td>0.842193</td>\n",
       "      <td>-0.991330</td>\n",
       "      <td>00:00:04</td>\n",
       "      <td>04</td>\n",
       "    </tr>\n",
       "  </tbody>\n",
       "</table>\n",
       "</div>"
      ],
      "text/plain": [
       "     ID     Name    coor_x    coor_y      Time seconds\n",
       "0   952    Frank -0.711713 -0.108789  00:00:00      00\n",
       "1   986      Bob -0.637641  0.260295  00:00:01      01\n",
       "2  1040  Michael -0.506356 -0.851453  00:00:02      02\n",
       "3   919    Alice  0.537937  0.186887  00:00:03      03\n",
       "4   998      Dan  0.842193 -0.991330  00:00:04      04"
      ]
     },
     "execution_count": 30,
     "metadata": {},
     "output_type": "execute_result"
    }
   ],
   "source": [
    "# prepare dask dataframe\n",
    "ddf['seconds'] = ddf.Time.astype(str).str[-2:]\n",
    "ddf = client.persist(ddf)\n",
    "ddf.head()"
   ]
  },
  {
   "cell_type": "code",
   "execution_count": 34,
   "metadata": {},
   "outputs": [
    {
     "name": "stdout",
     "output_type": "stream",
     "text": [
      "5.49 s ± 103 ms per loop (mean ± std. dev. of 7 runs, 1 loop each)\n"
     ]
    }
   ],
   "source": [
    "%%timeit\n",
    "# Dask option1 using apply\n",
    "# notice the meta argument in the apply function\n",
    "df_gb = ddf.groupby(ddf.Name)\n",
    "gp_col = ['ID', 'seconds']\n",
    "list_ser_gb = [df_gb[att_col_gr].apply(set_list_att\n",
    "                                      ,meta=pd.Series(dtype='object', name=f'{att_col_gr}_att')) \n",
    "               for att_col_gr in gp_col]\n",
    "df_edge_att = df_gb.size().to_frame(name=\"Weight\")\n",
    "for ser in list_ser_gb:\n",
    "        df_edge_att = df_edge_att.join(ser.to_frame(), how='left')        \n",
    "df_edge_att.head()"
   ]
  },
  {
   "cell_type": "markdown",
   "metadata": {},
   "source": [
    "Using [dask custom aggregation](https://docs.dask.org/en/latest/dataframe-api.html?highlight=dropna#dask.dataframe.groupby.Aggregation) is consideribly better"
   ]
  },
  {
   "cell_type": "code",
   "execution_count": 35,
   "metadata": {},
   "outputs": [],
   "source": [
    "# Dask\n",
    "# some preperations\n",
    "import itertools\n",
    "custom_agg = dask.dataframe.Aggregation(\n",
    "    'custom_agg', \n",
    "    lambda s: s.apply(set), \n",
    "    lambda s: s.apply(lambda chunks: list(set(itertools.chain.from_iterable(chunks)))),\n",
    ")"
   ]
  },
  {
   "cell_type": "code",
   "execution_count": 37,
   "metadata": {},
   "outputs": [
    {
     "name": "stdout",
     "output_type": "stream",
     "text": [
      "1.2 s ± 64.1 ms per loop (mean ± std. dev. of 7 runs, 1 loop each)\n"
     ]
    }
   ],
   "source": [
    "%%timeit\n",
    "# Dask option1 using apply\n",
    "df_gb = ddf.groupby(ddf.Name)\n",
    "gp_col = ['ID', 'seconds']\n",
    "list_ser_gb = [df_gb[att_col_gr].agg(custom_agg) for att_col_gr in gp_col]\n",
    "df_edge_att = df_gb.size().to_frame(name=\"Weight\")\n",
    "for ser in list_ser_gb:\n",
    "        df_edge_att = df_edge_att.join(ser.to_frame(), how='left')        \n",
    "df_edge_att.head()"
   ]
  },
  {
   "cell_type": "markdown",
   "metadata": {},
   "source": [
    " ## 4. Consider using Persist\n",
    "Since Dask is lazy - it may ran the **entire** graph (again) even if it already ran part of it in order to generate a result \n",
    "in a previous cell.  \n",
    "```python\n",
    "ddf = client.persist(ddf)\n",
    "```\n",
    "This is different from Pandas which once a variable was created it will keep all data in memory.  \n",
    "Additional information can be read in this [stackoverflow issue](https://stackoverflow.com/questions/45941528/how-to-efficiently-send-a-large-numpy-array-to-the-cluster-with-dask-array/45941529#45941529) or see an exampel in [this post](http://matthewrocklin.com/blog/work/2017/01/12/dask-dataframes)   \n",
    "This concept should also  be used when running a code within a script (rather then a jupyter notebook) which incoperates a loop logic within the code."
   ]
  },
  {
   "cell_type": "markdown",
   "metadata": {},
   "source": [
    "## 5. Debugging\n",
    "Debugging my be more challenging since\n",
    "1. when using a client - mutliprocessing is complecated\n",
    "2. sometime introducing a faulty command into a graph (such as in a jupyter notebook) requirues to cache-out the graph and start the process from the begining"
   ]
  },
  {
   "cell_type": "code",
   "execution_count": null,
   "metadata": {},
   "outputs": [],
   "source": []
  }
 ],
 "metadata": {
  "file_extension": ".py",
  "kernelspec": {
   "display_name": "'Python Interactive'",
   "language": "python",
   "name": "3a5cab7b-14e4-4138-9c26-37e24fe5d30e"
  },
  "language_info": {
   "codemirror_mode": {
    "name": "ipython",
    "version": 3
   },
   "file_extension": ".py",
   "mimetype": "text/x-python",
   "name": "python",
   "nbconvert_exporter": "python",
   "pygments_lexer": "ipython3",
   "version": "3.6.7"
  },
  "mimetype": "text/x-python",
  "name": "python",
  "npconvert_exporter": "python",
  "pygments_lexer": "ipython3",
  "version": 3
 },
 "nbformat": 4,
 "nbformat_minor": 2
}
