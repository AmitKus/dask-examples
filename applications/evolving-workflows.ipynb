{
 "cells": [
  {
   "cell_type": "markdown",
   "metadata": {},
   "source": [
    "Handle Evolving Workflows\n",
    "=========================\n",
    "\n",
    "For some workflows we don't know the extent of the computation at the outset.  We need to do some computation in order to figure out the rest of the computation that we need to do.  The computation grows and evolves as we do more work.\n",
    "\n",
    "As an example, consider a situation where you need to read many files and then based on the contents of those files, fire off additional work.  You would like to read the files in parallel, and then within each file expose more parallelism.\n",
    "\n",
    "This example goes through three ways to handle this situation using [Dask Futures](https://docs.dask.org/en/latest/futures.html)\n",
    "\n",
    "1.  Using `as_completed`\n",
    "2.  Using `async/await`\n",
    "3.  Launching tasks from tasks\n",
    "\n",
    "But first, lets run our code sequentially."
   ]
  },
  {
   "cell_type": "markdown",
   "metadata": {},
   "source": [
    "0: Sequential code\n",
    "------------------"
   ]
  },
  {
   "cell_type": "code",
   "execution_count": 1,
   "metadata": {},
   "outputs": [
    {
     "data": {
      "text/plain": [
       "['file.0.txt', 'file.1.txt', 'file.2.txt']"
      ]
     },
     "execution_count": 1,
     "metadata": {},
     "output_type": "execute_result"
    }
   ],
   "source": [
    "filenames = [\"file.{}.txt\".format(i) for i in range(10)]\n",
    "\n",
    "filenames[:3]"
   ]
  },
  {
   "cell_type": "code",
   "execution_count": 2,
   "metadata": {},
   "outputs": [],
   "source": [
    "import random, time\n",
    "\n",
    "\n",
    "def parse_file(fn: str) -> list:\n",
    "    \"\"\" Returns a list work items of unknown length \"\"\"\n",
    "    time.sleep(random.random())\n",
    "    return [random.random() for _ in range(random.randint(1, 10))]\n",
    "\n",
    "def process_item(x: float):\n",
    "    \"\"\" Process each work item \"\"\"\n",
    "    time.sleep(random.random() / 4)\n",
    "    return x + 1"
   ]
  },
  {
   "cell_type": "code",
   "execution_count": 3,
   "metadata": {},
   "outputs": [
    {
     "name": "stdout",
     "output_type": "stream",
     "text": [
      "CPU times: user 2.3 ms, sys: 3.29 ms, total: 5.59 ms\n",
      "Wall time: 14.1 s\n"
     ]
    }
   ],
   "source": [
    "%%time\n",
    "\n",
    "# This takes around 10-20s\n",
    "\n",
    "results = []\n",
    "\n",
    "for fn in filenames:\n",
    "    L = parse_file(fn)\n",
    "    for x in L:\n",
    "        out = process_item(x)\n",
    "        results.append(out)"
   ]
  },
  {
   "cell_type": "markdown",
   "metadata": {},
   "source": [
    "Start Dask Client\n",
    "-----------------\n",
    "\n",
    "We'll need a Dask client in order to manage dynamic workloads"
   ]
  },
  {
   "cell_type": "code",
   "execution_count": 4,
   "metadata": {},
   "outputs": [
    {
     "data": {
      "text/html": [
       "<table style=\"border: 2px solid white;\">\n",
       "<tr>\n",
       "<td style=\"vertical-align: top; border: 0px solid white\">\n",
       "<h3 style=\"text-align: left;\">Client</h3>\n",
       "<ul style=\"text-align: left; list-style: none; margin: 0; padding: 0;\">\n",
       "  <li><b>Scheduler: </b>inproc://10.20.0.104/10168/1</li>\n",
       "  <li><b>Dashboard: </b><a href='http://10.20.0.104:8787/status' target='_blank'>http://10.20.0.104:8787/status</a>\n",
       "</ul>\n",
       "</td>\n",
       "<td style=\"vertical-align: top; border: 0px solid white\">\n",
       "<h3 style=\"text-align: left;\">Cluster</h3>\n",
       "<ul style=\"text-align: left; list-style:none; margin: 0; padding: 0;\">\n",
       "  <li><b>Workers: </b>1</li>\n",
       "  <li><b>Cores: </b>6</li>\n",
       "  <li><b>Memory: </b>8.36 GB</li>\n",
       "</ul>\n",
       "</td>\n",
       "</tr>\n",
       "</table>"
      ],
      "text/plain": [
       "<Client: 'inproc://10.20.0.104/10168/1' processes=1 threads=6, memory=8.36 GB>"
      ]
     },
     "execution_count": 4,
     "metadata": {},
     "output_type": "execute_result"
    }
   ],
   "source": [
    "from dask.distributed import Client\n",
    "\n",
    "client = Client(processes=False, n_workers=1, threads_per_worker=6)\n",
    "client"
   ]
  },
  {
   "cell_type": "markdown",
   "metadata": {},
   "source": [
    "1: Use as_completed\n",
    "-------------------\n",
    "\n",
    "The [as_completed](https://docs.dask.org/en/latest/futures.html#distributed.as_completed) iterator lets us handle futures as they complete.  We can then submit more data on the fly.\n",
    "\n",
    "-   We submit a task for each of our filenames\n",
    "-   We also compute the length of each of the returned lists\n",
    "-   As those lengths return, we submit off a new task to get each item of that list.  We do this at higher priority, so that we process existing data before we collect new data.\n",
    "-   We wait on all of the returned results"
   ]
  },
  {
   "cell_type": "code",
   "execution_count": 5,
   "metadata": {},
   "outputs": [
    {
     "name": "stdout",
     "output_type": "stream",
     "text": [
      "CPU times: user 346 ms, sys: 24.9 ms, total: 370 ms\n",
      "Wall time: 2.81 s\n"
     ]
    },
    {
     "data": {
      "text/plain": [
       "[1.1851631852798068,\n",
       " 1.4752334507104328,\n",
       " 1.6043971003608404,\n",
       " 1.1731750270761523,\n",
       " 1.7191972117621588,\n",
       " 1.6443723777519397,\n",
       " 1.5270524257739515,\n",
       " 1.2249262654305442,\n",
       " 1.3412744547817996,\n",
       " 1.1726767121075272,\n",
       " 1.259251622393101,\n",
       " 1.7649860624670715,\n",
       " 1.6792089992983494,\n",
       " 1.892416032362367,\n",
       " 1.1543490260903315,\n",
       " 1.646175840513152,\n",
       " 1.5979881836399532,\n",
       " 1.5247825469374434,\n",
       " 1.0704272590196582,\n",
       " 1.664980390834799,\n",
       " 1.5021254954348273,\n",
       " 1.3750055457942123,\n",
       " 1.6256191526052786,\n",
       " 1.902179541084512,\n",
       " 1.530991746058448,\n",
       " 1.908856633213536,\n",
       " 1.9638194813624597,\n",
       " 1.2337233953022944,\n",
       " 1.4518554916595603,\n",
       " 1.2896378514026443,\n",
       " 1.7305103894203004,\n",
       " 1.1897653170541256,\n",
       " 1.332429406101072,\n",
       " 1.3456422415447546,\n",
       " 1.3723421086500824,\n",
       " 1.1993662115425718,\n",
       " 1.1118898387643368,\n",
       " 1.8261172022859717,\n",
       " 1.3504979966642465,\n",
       " 1.1318382867798924,\n",
       " 1.354044626243212,\n",
       " 1.356930281194681,\n",
       " 1.0513479882361287,\n",
       " 1.640403578087801,\n",
       " 1.1962622477262026,\n",
       " 1.2594971435521143,\n",
       " 1.3225131618596446,\n",
       " 1.6567256525758438,\n",
       " 1.209318803071169,\n",
       " 1.7813544094529803,\n",
       " 1.5133192753762552,\n",
       " 1.6881692118869722,\n",
       " 1.045188871149025,\n",
       " 1.8067900737817708,\n",
       " 1.0183125140193914,\n",
       " 1.3470353241693294,\n",
       " 1.0855449086337847,\n",
       " 1.5637235557764473,\n",
       " 1.5645307269594124,\n",
       " 1.952915326624604,\n",
       " 1.7964808368990606,\n",
       " 1.5084757387135386,\n",
       " 1.822069638851413,\n",
       " 1.568208197938687,\n",
       " 1.1658665982440513,\n",
       " 1.154757028690328,\n",
       " 1.987810595203412,\n",
       " 1.155059236045767,\n",
       " 1.2550688087384627]"
      ]
     },
     "execution_count": 5,
     "metadata": {},
     "output_type": "execute_result"
    }
   ],
   "source": [
    "%%time\n",
    "\n",
    "from dask.distributed import as_completed\n",
    "import operator\n",
    "\n",
    "lists = client.map(parse_file, filenames, pure=False)\n",
    "lengths = client.map(len, lists)\n",
    "\n",
    "mapping = dict(zip(lengths, lists))\n",
    "\n",
    "futures = []\n",
    "\n",
    "for future in as_completed(lengths):\n",
    "    n = future.result()\n",
    "    L = mapping[future]\n",
    "    for i in range(n):\n",
    "        new = client.submit(operator.getitem, L, i, priority=1)\n",
    "        new = client.submit(process_item, new, priority=1)\n",
    "        futures.append(new)\n",
    "        \n",
    "client.gather(futures)"
   ]
  },
  {
   "cell_type": "markdown",
   "metadata": {},
   "source": [
    "2: Use async/await to handle single file processing locally\n",
    "-----------------------------------------------------------\n",
    "\n",
    "We can also handle the concurrency here within our local process.  This requires you to understand async/await syntax, but is generally powerful and arguably simpler than the `as_completed` approach above."
   ]
  },
  {
   "cell_type": "code",
   "execution_count": 6,
   "metadata": {},
   "outputs": [],
   "source": [
    "import asyncio\n",
    "\n",
    "async def f(fn):\n",
    "    \"\"\" Handle the lifecycle of a single file \"\"\"\n",
    "    future = client.submit(parse_file, fn, pure=False)\n",
    "    length_future = client.submit(len, future)\n",
    "    length = await length_future\n",
    "    \n",
    "    futures = [client.submit(operator.getitem, future, i, priority=10) \n",
    "               for i in range(length)]\n",
    "    futures = client.map(process_item, futures, priority=10)\n",
    "    return futures\n",
    "\n",
    "async def run_all(filenames):\n",
    "    list_of_list_of_futures = await asyncio.gather(*[f(fn) for fn in filenames])\n",
    "    futures = sum(list_of_list_of_futures, [])\n",
    "    return await client.gather(futures)\n"
   ]
  },
  {
   "cell_type": "markdown",
   "metadata": {},
   "source": [
    "We now need to run this function in the same event loop as our client is running.  If we had started our client asynchronously, then we could have done this:\n",
    "\n",
    "```python\n",
    "client = await Client(asynchronous=True)\n",
    "\n",
    "await run_all(filenames)\n",
    "```\n",
    "\n",
    "However, because we started our client without the `asynchronous=True` flag the event loop is actually running in a separate thread, so we'll have to ask the client to run this for us."
   ]
  },
  {
   "cell_type": "code",
   "execution_count": 7,
   "metadata": {},
   "outputs": [
    {
     "data": {
      "text/plain": [
       "[1.7773757841117468,\n",
       " 1.6718136909264494,\n",
       " 1.6118643887764077,\n",
       " 1.6435081770495623,\n",
       " 1.7805054394767552,\n",
       " 1.7166095813584494,\n",
       " 1.5354256192933216,\n",
       " 1.7773696800804466,\n",
       " 1.7681959796377023,\n",
       " 1.798222362018382,\n",
       " 1.3053383237517504,\n",
       " 1.4808840285271716,\n",
       " 1.103276952143534,\n",
       " 1.948802160728886,\n",
       " 1.8464424726166677,\n",
       " 1.2004405233362516,\n",
       " 1.8767441246617063,\n",
       " 1.8263818690872509,\n",
       " 1.4034474855154084,\n",
       " 1.2068284630329402,\n",
       " 1.1585150753704967,\n",
       " 1.0589160381931546,\n",
       " 1.3307327854887823,\n",
       " 1.7146178568414059,\n",
       " 1.832549488959304,\n",
       " 1.2131984391417663,\n",
       " 1.9805819861669227,\n",
       " 1.6794280685809393,\n",
       " 1.4216556554057584,\n",
       " 1.0887117535829707,\n",
       " 1.8161037202332344,\n",
       " 1.6375863146629315,\n",
       " 1.718595525475495,\n",
       " 1.675415068759961,\n",
       " 1.838279325090522,\n",
       " 1.9062645285540567,\n",
       " 1.4818336315628924,\n",
       " 1.9729223769326047,\n",
       " 1.2249347467514773,\n",
       " 1.043859053131361,\n",
       " 1.4036120691391674,\n",
       " 1.4368642475258504,\n",
       " 1.4773295595118037,\n",
       " 1.1496437350197106,\n",
       " 1.6864000542871804,\n",
       " 1.6940508170307422,\n",
       " 1.6679420632690136,\n",
       " 1.0086405960124538,\n",
       " 1.9060375272434864,\n",
       " 1.5653093403455292]"
      ]
     },
     "execution_count": 7,
     "metadata": {},
     "output_type": "execute_result"
    }
   ],
   "source": [
    "client.sync(run_all, filenames)"
   ]
  },
  {
   "cell_type": "markdown",
   "metadata": {},
   "source": [
    "3: Submit tasks from tasks\n",
    "--------------------------\n",
    "\n",
    "We can also submit tasks that themselves submit more tasks.  See [documentation here](https://docs.dask.org/en/latest/futures.html#submit-tasks-from-tasks)."
   ]
  },
  {
   "cell_type": "code",
   "execution_count": 8,
   "metadata": {},
   "outputs": [
    {
     "name": "stdout",
     "output_type": "stream",
     "text": [
      "CPU times: user 252 ms, sys: 18.9 ms, total: 271 ms\n",
      "Wall time: 2.28 s\n"
     ]
    }
   ],
   "source": [
    "%%time\n",
    "\n",
    "from dask.distributed import get_client, secede, rejoin\n",
    "\n",
    "def f(fn):\n",
    "    L = parse_file(fn)\n",
    "    client = get_client()\n",
    "    \n",
    "    futures = client.map(process_item, L, priority=10)\n",
    "    secede()\n",
    "    results = client.gather(futures)\n",
    "    rejoin()\n",
    "    return results\n",
    "\n",
    "futures = client.map(f, filenames, pure=False)\n",
    "results = client.gather(futures)"
   ]
  }
 ],
 "metadata": {
  "kernelspec": {
   "display_name": "Python 3",
   "language": "python",
   "name": "python3"
  },
  "language_info": {
   "codemirror_mode": {
    "name": "ipython",
    "version": 3
   },
   "file_extension": ".py",
   "mimetype": "text/x-python",
   "name": "python",
   "nbconvert_exporter": "python",
   "pygments_lexer": "ipython3",
   "version": "3.7.6"
  }
 },
 "nbformat": 4,
 "nbformat_minor": 4
}
