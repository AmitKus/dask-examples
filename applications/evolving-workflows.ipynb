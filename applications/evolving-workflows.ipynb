{
 "cells": [
  {
   "cell_type": "markdown",
   "metadata": {},
   "source": [
    "Handle Evolving Workflows\n",
    "=========================\n",
    "\n",
    "For some workflows we don't know the extent of the computation at the outset.  We need to do some computation in order to figure out the rest of the computation that we need to do.  The computation grows and evolves as we do more work.\n",
    "\n",
    "As an example, consider a situation where you need to read many files and then based on the contents of those files, fire off additional work.  You would like to read the files in parallel, and then within each file expose more parallelism.\n",
    "\n",
    "This example goes through three ways to handle this situation using [Dask Futures](https://docs.dask.org/en/latest/futures.html)\n",
    "\n",
    "1.  Using `as_completed`\n",
    "2.  Using `async/await`\n",
    "3.  Launching tasks from tasks\n",
    "\n",
    "But first, lets run our code sequentially."
   ]
  },
  {
   "cell_type": "markdown",
   "metadata": {},
   "source": [
    "0: Sequential code\n",
    "------------------"
   ]
  },
  {
   "cell_type": "code",
   "execution_count": 1,
   "metadata": {},
   "outputs": [
    {
     "data": {
      "text/plain": [
       "['file.0.txt', 'file.1.txt', 'file.2.txt']"
      ]
     },
     "execution_count": 1,
     "metadata": {},
     "output_type": "execute_result"
    }
   ],
   "source": [
    "filenames = [\"file.{}.txt\".format(i) for i in range(10)]\n",
    "\n",
    "filenames[:3]"
   ]
  },
  {
   "cell_type": "code",
   "execution_count": 2,
   "metadata": {},
   "outputs": [],
   "source": [
    "import random, time\n",
    "\n",
    "\n",
    "def parse_file(fn: str) -> list:\n",
    "    \"\"\" Returns a list work items of unknown length \"\"\"\n",
    "    time.sleep(random.random())\n",
    "    return [random.random() for _ in range(random.randint(1, 10))]\n",
    "\n",
    "def process_item(x: float):\n",
    "    \"\"\" Process each work item \"\"\"\n",
    "    time.sleep(random.random() / 4)\n",
    "    return x + 1"
   ]
  },
  {
   "cell_type": "code",
   "execution_count": 3,
   "metadata": {},
   "outputs": [
    {
     "name": "stdout",
     "output_type": "stream",
     "text": [
      "CPU times: user 1.53 ms, sys: 3.69 ms, total: 5.22 ms\n",
      "Wall time: 13.1 s\n"
     ]
    }
   ],
   "source": [
    "%%time\n",
    "\n",
    "# This takes around 10-20s\n",
    "\n",
    "results = []\n",
    "\n",
    "for fn in filenames:\n",
    "    L = parse_file(fn)\n",
    "    for x in L:\n",
    "        out = process_item(x)\n",
    "        results.append(out)"
   ]
  },
  {
   "cell_type": "markdown",
   "metadata": {},
   "source": [
    "Start Dask Client\n",
    "-----------------\n",
    "\n",
    "We'll need a Dask client in order to manage dynamic workloads"
   ]
  },
  {
   "cell_type": "code",
   "execution_count": 4,
   "metadata": {},
   "outputs": [
    {
     "data": {
      "text/html": [
       "<table style=\"border: 2px solid white;\">\n",
       "<tr>\n",
       "<td style=\"vertical-align: top; border: 0px solid white\">\n",
       "<h3 style=\"text-align: left;\">Client</h3>\n",
       "<ul style=\"text-align: left; list-style: none; margin: 0; padding: 0;\">\n",
       "  <li><b>Scheduler: </b>inproc://10.20.0.80/10469/1</li>\n",
       "  <li><b>Dashboard: </b><a href='http://10.20.0.80:8787/status' target='_blank'>http://10.20.0.80:8787/status</a></li>\n",
       "</ul>\n",
       "</td>\n",
       "<td style=\"vertical-align: top; border: 0px solid white\">\n",
       "<h3 style=\"text-align: left;\">Cluster</h3>\n",
       "<ul style=\"text-align: left; list-style:none; margin: 0; padding: 0;\">\n",
       "  <li><b>Workers: </b>1</li>\n",
       "  <li><b>Cores: </b>6</li>\n",
       "  <li><b>Memory: </b>8.36 GB</li>\n",
       "</ul>\n",
       "</td>\n",
       "</tr>\n",
       "</table>"
      ],
      "text/plain": [
       "<Client: 'inproc://10.20.0.80/10469/1' processes=1 threads=6, memory=8.36 GB>"
      ]
     },
     "execution_count": 4,
     "metadata": {},
     "output_type": "execute_result"
    }
   ],
   "source": [
    "from dask.distributed import Client\n",
    "\n",
    "client = Client(processes=False, n_workers=1, threads_per_worker=6)\n",
    "client"
   ]
  },
  {
   "cell_type": "markdown",
   "metadata": {},
   "source": [
    "1: Use as_completed\n",
    "-------------------\n",
    "\n",
    "The [as_completed](https://docs.dask.org/en/latest/futures.html#distributed.as_completed) iterator lets us handle futures as they complete.  We can then submit more data on the fly.\n",
    "\n",
    "-   We submit a task for each of our filenames\n",
    "-   We also compute the length of each of the returned lists\n",
    "-   As those lengths return, we submit off a new task to get each item of that list.  We do this at higher priority, so that we process existing data before we collect new data.\n",
    "-   We wait on all of the returned results"
   ]
  },
  {
   "cell_type": "code",
   "execution_count": 5,
   "metadata": {},
   "outputs": [
    {
     "name": "stdout",
     "output_type": "stream",
     "text": [
      "CPU times: user 342 ms, sys: 12.2 ms, total: 354 ms\n",
      "Wall time: 2.45 s\n"
     ]
    },
    {
     "data": {
      "text/plain": [
       "[1.3072801251855735,\n",
       " 1.2944663431266008,\n",
       " 1.5617791891076198,\n",
       " 1.2708872321520417,\n",
       " 1.4313412816326387,\n",
       " 1.6471140733781016,\n",
       " 1.0854043398425326,\n",
       " 1.3052436281424817,\n",
       " 1.9978333031307411,\n",
       " 1.6627027039099067,\n",
       " 1.4028230298713895,\n",
       " 1.9602860167461453,\n",
       " 1.9206294258140546,\n",
       " 1.5888733937920971,\n",
       " 1.1550125719161461,\n",
       " 1.2197474845413099,\n",
       " 1.4182700278475573,\n",
       " 1.4390643253997117,\n",
       " 1.907722781435762,\n",
       " 1.3437244489600548,\n",
       " 1.110413589433128,\n",
       " 1.4919615791021175,\n",
       " 1.1817673644824398,\n",
       " 1.742284290491289,\n",
       " 1.798963620399472,\n",
       " 1.872271733129278,\n",
       " 1.8538716418571328,\n",
       " 1.2342735083583052,\n",
       " 1.9237713084362427,\n",
       " 1.2288747208421387,\n",
       " 1.7059938611571568,\n",
       " 1.2939923324971891,\n",
       " 1.0682932890889631,\n",
       " 1.7382816836740298,\n",
       " 1.4199662701485334,\n",
       " 1.9012824481901949,\n",
       " 1.058263393289876,\n",
       " 1.3665328690149403,\n",
       " 1.282102613628148,\n",
       " 1.8739673199974352,\n",
       " 1.9971039879276518,\n",
       " 1.7824172214578233,\n",
       " 1.0825047240800834,\n",
       " 1.0456739611065167,\n",
       " 1.301328194695067,\n",
       " 1.1661982261092283,\n",
       " 1.1185131463019455,\n",
       " 1.1688871095501898,\n",
       " 1.0706599890320216,\n",
       " 1.241049367108849,\n",
       " 1.5235360247683818,\n",
       " 1.7935109948947137,\n",
       " 1.465535793402737,\n",
       " 1.57956649490894,\n",
       " 1.5605300423290078,\n",
       " 1.1931624437311634,\n",
       " 1.6532206723588527,\n",
       " 1.4790297189674089,\n",
       " 1.0284904791788456,\n",
       " 1.491095714928509,\n",
       " 1.927731703533036,\n",
       " 1.5811931802881507,\n",
       " 1.7237220340633486,\n",
       " 1.4494065824086977,\n",
       " 1.1786678260933534,\n",
       " 1.3115379240056424,\n",
       " 1.2761377845091706,\n",
       " 1.9811121238866207,\n",
       " 1.0180277638354647,\n",
       " 1.441308329033018,\n",
       " 1.2727384488241882,\n",
       " 1.2444485630885533,\n",
       " 1.2078384937500237,\n",
       " 1.105995956488367,\n",
       " 1.351639729346044,\n",
       " 1.0546224621439877,\n",
       " 1.9273917999822188]"
      ]
     },
     "execution_count": 5,
     "metadata": {},
     "output_type": "execute_result"
    }
   ],
   "source": [
    "%%time\n",
    "\n",
    "from dask.distributed import as_completed\n",
    "import operator\n",
    "\n",
    "lists = client.map(parse_file, filenames, pure=False)\n",
    "lengths = client.map(len, lists)\n",
    "\n",
    "mapping = dict(zip(lengths, lists))\n",
    "\n",
    "futures = []\n",
    "\n",
    "for future in as_completed(lengths):\n",
    "    n = future.result()\n",
    "    L = mapping[future]\n",
    "    for i in range(n):\n",
    "        new = client.submit(operator.getitem, L, i, priority=1)\n",
    "        new = client.submit(process_item, new, priority=1)\n",
    "        futures.append(new)\n",
    "        \n",
    "client.gather(futures)"
   ]
  },
  {
   "cell_type": "markdown",
   "metadata": {},
   "source": [
    "2: Use async/await to handle single file processing locally\n",
    "-----------------------------------------------------------\n",
    "\n",
    "We can also handle the concurrency here within our local process.  This requires you to understand async/await syntax, but is generally powerful and arguably simpler than the `as_completed` approach above."
   ]
  },
  {
   "cell_type": "code",
   "execution_count": 6,
   "metadata": {},
   "outputs": [],
   "source": [
    "import asyncio\n",
    "\n",
    "async def f(fn):\n",
    "    \"\"\" Handle the lifecycle of a single file \"\"\"\n",
    "    future = client.submit(parse_file, fn, pure=False)\n",
    "    length_future = client.submit(len, future)\n",
    "    length = await length_future\n",
    "    \n",
    "    futures = [client.submit(operator.getitem, future, i, priority=10) \n",
    "               for i in range(length)]\n",
    "    futures = client.map(process_item, futures, priority=10)\n",
    "    return futures\n",
    "\n",
    "async def run_all(filenames):\n",
    "    list_of_list_of_futures = await asyncio.gather(*[f(fn) for fn in filenames])\n",
    "    futures = sum(list_of_list_of_futures, [])\n",
    "    return await client.gather(futures)\n"
   ]
  },
  {
   "cell_type": "markdown",
   "metadata": {},
   "source": [
    "We now need to run this function in the same event loop as our client is running.  If we had started our client asynchronously, then we could have done this:\n",
    "\n",
    "```python\n",
    "client = await Client(asynchronous=True)\n",
    "\n",
    "await run_all(filenames)\n",
    "```\n",
    "\n",
    "However, because we started our client without the `asynchronous=True` flag the event loop is actually running in a separate thread, so we'll have to ask the client to run this for us."
   ]
  },
  {
   "cell_type": "code",
   "execution_count": 7,
   "metadata": {},
   "outputs": [
    {
     "data": {
      "text/plain": [
       "[1.3045808339293121,\n",
       " 1.4754202192059873,\n",
       " 1.8945328910441026,\n",
       " 1.2533712411680895,\n",
       " 1.7072957763169467,\n",
       " 1.906580251415566,\n",
       " 1.3096175654632032,\n",
       " 1.9373529574345254,\n",
       " 1.7460101908680703,\n",
       " 1.2073700528721312,\n",
       " 1.1792404835722141,\n",
       " 1.9376614795712326,\n",
       " 1.7170156218969503,\n",
       " 1.6759261463496322,\n",
       " 1.6037259803463426,\n",
       " 1.1624101026290132,\n",
       " 1.0492229479025275,\n",
       " 1.7773851391756632,\n",
       " 1.3518947456175503,\n",
       " 1.9360394479015905,\n",
       " 1.6610767816202827,\n",
       " 1.5122149513607424,\n",
       " 1.0018086466256344,\n",
       " 1.423295999808293,\n",
       " 1.5435217992025347,\n",
       " 1.9627702931391513,\n",
       " 1.1186688715259026,\n",
       " 1.3530264673595802,\n",
       " 1.9883549535114857,\n",
       " 1.214741085266705,\n",
       " 1.8662731536071044,\n",
       " 1.7583732672786598,\n",
       " 1.7513397121627459,\n",
       " 1.782300745391396,\n",
       " 1.066643226999858,\n",
       " 1.2656719618380814,\n",
       " 1.4919979142083122,\n",
       " 1.2910575553440307,\n",
       " 1.0412836884428194,\n",
       " 1.0515389499871182,\n",
       " 1.126489629960465,\n",
       " 1.3299588831773368,\n",
       " 1.014589540659987,\n",
       " 1.2266978779203215,\n",
       " 1.1330892621599962,\n",
       " 1.4315359575631197,\n",
       " 1.8329143385261446,\n",
       " 1.638373173193851,\n",
       " 1.9665696697486423,\n",
       " 1.253129459577631,\n",
       " 1.3890188896492015,\n",
       " 1.1133362948751144,\n",
       " 1.2560146016122598,\n",
       " 1.5267134837779053,\n",
       " 1.8465514551778823,\n",
       " 1.603690092342503,\n",
       " 1.45584514842016,\n",
       " 1.3442028889240434,\n",
       " 1.0754322083714454,\n",
       " 1.5262061562732094,\n",
       " 1.7370624479800352,\n",
       " 1.636164317294539]"
      ]
     },
     "execution_count": 7,
     "metadata": {},
     "output_type": "execute_result"
    }
   ],
   "source": [
    "client.sync(run_all, filenames)"
   ]
  },
  {
   "cell_type": "markdown",
   "metadata": {},
   "source": [
    "3: Submit tasks from tasks\n",
    "--------------------------\n",
    "\n",
    "We can also submit tasks that themselves submit more tasks.  See [documentation here](https://docs.dask.org/en/latest/futures.html#submit-tasks-from-tasks)."
   ]
  },
  {
   "cell_type": "code",
   "execution_count": 8,
   "metadata": {},
   "outputs": [
    {
     "name": "stdout",
     "output_type": "stream",
     "text": [
      "CPU times: user 278 ms, sys: 9.88 ms, total: 288 ms\n",
      "Wall time: 2.2 s\n"
     ]
    }
   ],
   "source": [
    "%%time\n",
    "\n",
    "from dask.distributed import get_client, secede, rejoin\n",
    "\n",
    "def f(fn):\n",
    "    L = parse_file(fn)\n",
    "    client = get_client()\n",
    "    \n",
    "    futures = client.map(process_item, L, priority=10)\n",
    "    secede()\n",
    "    results = client.gather(futures)\n",
    "    rejoin()\n",
    "    return results\n",
    "\n",
    "futures = client.map(f, filenames, pure=False)\n",
    "results = client.gather(futures)"
   ]
  }
 ],
 "metadata": {
  "kernelspec": {
   "display_name": "Python 3",
   "language": "python",
   "name": "python3"
  },
  "language_info": {
   "codemirror_mode": {
    "name": "ipython",
    "version": 3
   },
   "file_extension": ".py",
   "mimetype": "text/x-python",
   "name": "python",
   "nbconvert_exporter": "python",
   "pygments_lexer": "ipython3",
   "version": "3.7.6"
  }
 },
 "nbformat": 4,
 "nbformat_minor": 4
}
