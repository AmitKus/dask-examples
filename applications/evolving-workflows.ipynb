{
 "cells": [
  {
   "cell_type": "markdown",
   "metadata": {},
   "source": [
    "Handle Evolving Workflows\n",
    "=========================\n",
    "\n",
    "For some workflows we don't know the extent of the computation at the outset.  We need to do some computation in order to figure out the rest of the computation that we need to do.  The computation grows and evolves as we do more work.\n",
    "\n",
    "As an example, consider a situation where you need to read many files and then based on the contents of those files, fire off additional work.  You would like to read the files in parallel, and then within each file expose more parallelism.\n",
    "\n",
    "This example goes through three ways to handle this situation using [Dask Futures](https://docs.dask.org/en/latest/futures.html)\n",
    "\n",
    "1.  Using `as_completed`\n",
    "2.  Using `async/await`\n",
    "3.  Launching tasks from tasks\n",
    "\n",
    "But first, lets run our code sequentially."
   ]
  },
  {
   "cell_type": "markdown",
   "metadata": {},
   "source": [
    "0: Sequential code\n",
    "------------------"
   ]
  },
  {
   "cell_type": "code",
   "execution_count": 1,
   "metadata": {},
   "outputs": [
    {
     "data": {
      "text/plain": [
       "['file.0.txt', 'file.1.txt', 'file.2.txt']"
      ]
     },
     "execution_count": 1,
     "metadata": {},
     "output_type": "execute_result"
    }
   ],
   "source": [
    "filenames = [\"file.{}.txt\".format(i) for i in range(10)]\n",
    "\n",
    "filenames[:3]"
   ]
  },
  {
   "cell_type": "code",
   "execution_count": 2,
   "metadata": {},
   "outputs": [],
   "source": [
    "import random, time\n",
    "\n",
    "\n",
    "def parse_file(fn: str) -> list:\n",
    "    \"\"\" Returns a list work items of unknown length \"\"\"\n",
    "    time.sleep(random.random())\n",
    "    return [random.random() for _ in range(random.randint(1, 10))]\n",
    "\n",
    "def process_item(x: float):\n",
    "    \"\"\" Process each work item \"\"\"\n",
    "    time.sleep(random.random() / 4)\n",
    "    return x + 1"
   ]
  },
  {
   "cell_type": "code",
   "execution_count": 3,
   "metadata": {},
   "outputs": [
    {
     "name": "stdout",
     "output_type": "stream",
     "text": [
      "CPU times: user 736 µs, sys: 4.12 ms, total: 4.86 ms\n",
      "Wall time: 10.8 s\n"
     ]
    }
   ],
   "source": [
    "%%time\n",
    "\n",
    "# This takes around 10-20s\n",
    "\n",
    "results = []\n",
    "\n",
    "for fn in filenames:\n",
    "    L = parse_file(fn)\n",
    "    for x in L:\n",
    "        out = process_item(x)\n",
    "        results.append(out)"
   ]
  },
  {
   "cell_type": "markdown",
   "metadata": {},
   "source": [
    "Start Dask Client\n",
    "-----------------\n",
    "\n",
    "We'll need a Dask client in order to manage dynamic workloads"
   ]
  },
  {
   "cell_type": "code",
   "execution_count": 4,
   "metadata": {},
   "outputs": [
    {
     "data": {
      "text/html": [
       "<table style=\"border: 2px solid white;\">\n",
       "<tr>\n",
       "<td style=\"vertical-align: top; border: 0px solid white\">\n",
       "<h3 style=\"text-align: left;\">Client</h3>\n",
       "<ul style=\"text-align: left; list-style: none; margin: 0; padding: 0;\">\n",
       "  <li><b>Scheduler: </b>inproc://10.20.255.71/10216/1</li>\n",
       "  <li><b>Dashboard: </b><a href='http://10.20.255.71:8787/status' target='_blank'>http://10.20.255.71:8787/status</a>\n",
       "</ul>\n",
       "</td>\n",
       "<td style=\"vertical-align: top; border: 0px solid white\">\n",
       "<h3 style=\"text-align: left;\">Cluster</h3>\n",
       "<ul style=\"text-align: left; list-style:none; margin: 0; padding: 0;\">\n",
       "  <li><b>Workers: </b>1</li>\n",
       "  <li><b>Cores: </b>6</li>\n",
       "  <li><b>Memory: </b>8.36 GB</li>\n",
       "</ul>\n",
       "</td>\n",
       "</tr>\n",
       "</table>"
      ],
      "text/plain": [
       "<Client: 'inproc://10.20.255.71/10216/1' processes=1 threads=6, memory=8.36 GB>"
      ]
     },
     "execution_count": 4,
     "metadata": {},
     "output_type": "execute_result"
    }
   ],
   "source": [
    "from dask.distributed import Client\n",
    "\n",
    "client = Client(processes=False, n_workers=1, threads_per_worker=6)\n",
    "client"
   ]
  },
  {
   "cell_type": "markdown",
   "metadata": {},
   "source": [
    "1: Use as_completed\n",
    "-------------------\n",
    "\n",
    "The [as_completed](https://docs.dask.org/en/latest/futures.html#distributed.as_completed) iterator lets us handle futures as they complete.  We can then submit more data on the fly.\n",
    "\n",
    "-   We submit a task for each of our filenames\n",
    "-   We also compute the length of each of the returned lists\n",
    "-   As those lengths return, we submit off a new task to get each item of that list.  We do this at higher priority, so that we process existing data before we collect new data.\n",
    "-   We wait on all of the returned results"
   ]
  },
  {
   "cell_type": "code",
   "execution_count": 5,
   "metadata": {},
   "outputs": [
    {
     "name": "stdout",
     "output_type": "stream",
     "text": [
      "CPU times: user 304 ms, sys: 44.3 ms, total: 349 ms\n",
      "Wall time: 2.71 s\n"
     ]
    },
    {
     "data": {
      "text/plain": [
       "[1.7219118881892057,\n",
       " 1.0376439415761096,\n",
       " 1.2745297433453466,\n",
       " 1.8835011943171485,\n",
       " 1.6901232276156624,\n",
       " 1.6734372375678963,\n",
       " 1.2899846569627016,\n",
       " 1.6515591043747437,\n",
       " 1.4196442260395687,\n",
       " 1.5895134785909621,\n",
       " 1.119034630310544,\n",
       " 1.0247605679022878,\n",
       " 1.5772781419999897,\n",
       " 1.3036652531129103,\n",
       " 1.0100728759456814,\n",
       " 1.045416114571532,\n",
       " 1.8044512144809413,\n",
       " 1.9916681367599085,\n",
       " 1.1097541690006607,\n",
       " 1.9451161223940594,\n",
       " 1.5456209220896013,\n",
       " 1.703298295990468,\n",
       " 1.499621609881122,\n",
       " 1.0923111767681006,\n",
       " 1.1400308006481485,\n",
       " 1.6355727288664916,\n",
       " 1.4002326526025612,\n",
       " 1.0078153869643007,\n",
       " 1.9701410819761709,\n",
       " 1.0132088131317647,\n",
       " 1.6732307092250316,\n",
       " 1.6569605457055354,\n",
       " 1.0795268044498907,\n",
       " 1.594874261204069,\n",
       " 1.19285690856189,\n",
       " 1.9096543170506945,\n",
       " 1.3750418220872795,\n",
       " 1.6041316772327077,\n",
       " 1.606692036144942,\n",
       " 1.2689280252304378,\n",
       " 1.8701456582622806,\n",
       " 1.925082462230103,\n",
       " 1.9764466227876403,\n",
       " 1.4237628707792382,\n",
       " 1.1896370783892842,\n",
       " 1.0659152651457626,\n",
       " 1.6069051594757544,\n",
       " 1.213923643323088,\n",
       " 1.2292156097562223,\n",
       " 1.2092782901157637,\n",
       " 1.2803619090415839,\n",
       " 1.5657273278623194,\n",
       " 1.2871668764808906,\n",
       " 1.3162979358704239,\n",
       " 1.2161859505989265,\n",
       " 1.0146766284315587,\n",
       " 1.0093623584260363,\n",
       " 1.5026800297860354,\n",
       " 1.962667296278008,\n",
       " 1.9754897241664422,\n",
       " 1.9888772608248417,\n",
       " 1.1135171325460953]"
      ]
     },
     "execution_count": 5,
     "metadata": {},
     "output_type": "execute_result"
    }
   ],
   "source": [
    "%%time\n",
    "\n",
    "from dask.distributed import as_completed\n",
    "import operator\n",
    "\n",
    "lists = client.map(parse_file, filenames, pure=False)\n",
    "lengths = client.map(len, lists)\n",
    "\n",
    "mapping = dict(zip(lengths, lists))\n",
    "\n",
    "futures = []\n",
    "\n",
    "for future in as_completed(lengths):\n",
    "    n = future.result()\n",
    "    L = mapping[future]\n",
    "    for i in range(n):\n",
    "        new = client.submit(operator.getitem, L, i, priority=1)\n",
    "        new = client.submit(process_item, new, priority=1)\n",
    "        futures.append(new)\n",
    "        \n",
    "client.gather(futures)"
   ]
  },
  {
   "cell_type": "markdown",
   "metadata": {},
   "source": [
    "2: Use async/await to handle single file processing locally\n",
    "-----------------------------------------------------------\n",
    "\n",
    "We can also handle the concurrency here within our local process.  This requires you to understand async/await syntax, but is generally powerful and arguably simpler than the `as_completed` approach above."
   ]
  },
  {
   "cell_type": "code",
   "execution_count": 6,
   "metadata": {},
   "outputs": [],
   "source": [
    "import asyncio\n",
    "\n",
    "async def f(fn):\n",
    "    \"\"\" Handle the lifecycle of a single file \"\"\"\n",
    "    future = client.submit(parse_file, fn, pure=False)\n",
    "    length_future = client.submit(len, future)\n",
    "    length = await length_future\n",
    "    \n",
    "    futures = [client.submit(operator.getitem, future, i, priority=10) \n",
    "               for i in range(length)]\n",
    "    futures = client.map(process_item, futures, priority=10)\n",
    "    return futures\n",
    "\n",
    "async def run_all(filenames):\n",
    "    list_of_list_of_futures = await asyncio.gather(*[f(fn) for fn in filenames])\n",
    "    futures = sum(list_of_list_of_futures, [])\n",
    "    return await client.gather(futures)\n"
   ]
  },
  {
   "cell_type": "markdown",
   "metadata": {},
   "source": [
    "We now need to run this function in the same event loop as our client is running.  If we had started our client asynchronously, then we could have done this:\n",
    "\n",
    "```python\n",
    "client = await Client(asynchronous=True)\n",
    "\n",
    "await run_all(filenames)\n",
    "```\n",
    "\n",
    "However, because we started our client without the `asynchronous=True` flag the event loop is actually running in a separate thread, so we'll have to ask the client to run this for us."
   ]
  },
  {
   "cell_type": "code",
   "execution_count": 7,
   "metadata": {},
   "outputs": [
    {
     "data": {
      "text/plain": [
       "[1.0210090519414365,\n",
       " 1.9326103690258387,\n",
       " 1.1083122471866134,\n",
       " 1.866365801388267,\n",
       " 1.5623946581128239,\n",
       " 1.2304365909365833,\n",
       " 1.2305939990996178,\n",
       " 1.4277816350735657,\n",
       " 1.695717550873457,\n",
       " 1.0423835230339757,\n",
       " 1.363474341179884,\n",
       " 1.6664504618361209,\n",
       " 1.5932890999748706,\n",
       " 1.518261720195059,\n",
       " 1.3417851731316044,\n",
       " 1.6181475021932905,\n",
       " 1.289597576501881,\n",
       " 1.5151984995099117,\n",
       " 1.5440567402131617,\n",
       " 1.940043019464449,\n",
       " 1.032202501813298,\n",
       " 1.510990374346135,\n",
       " 1.3365934165588063,\n",
       " 1.7498341533940565,\n",
       " 1.158657159458893,\n",
       " 1.7045175493097418,\n",
       " 1.1280964449201818,\n",
       " 1.6117085891314238,\n",
       " 1.6104262523654302,\n",
       " 1.2898474735994794,\n",
       " 1.8515422029007764,\n",
       " 1.1009431789921282,\n",
       " 1.5075366069201022,\n",
       " 1.506368131788884,\n",
       " 1.1752857224532711,\n",
       " 1.9818426266040854,\n",
       " 1.8956327686733423,\n",
       " 1.4226742839702802,\n",
       " 1.8272158407891528,\n",
       " 1.2889878704801023,\n",
       " 1.6135029105387422,\n",
       " 1.8298250872434965,\n",
       " 1.0756719708043523,\n",
       " 1.2085202358962879,\n",
       " 1.8508634205119416,\n",
       " 1.4957280723888018,\n",
       " 1.6840855584386185,\n",
       " 1.0086911366229883,\n",
       " 1.4027988628880472,\n",
       " 1.8315026936398129,\n",
       " 1.9263082222266674]"
      ]
     },
     "execution_count": 7,
     "metadata": {},
     "output_type": "execute_result"
    }
   ],
   "source": [
    "client.sync(run_all, filenames)"
   ]
  },
  {
   "cell_type": "markdown",
   "metadata": {},
   "source": [
    "3: Submit tasks from tasks\n",
    "--------------------------\n",
    "\n",
    "We can also submit tasks that themselves submit more tasks.  See [documentation here](https://docs.dask.org/en/latest/futures.html#submit-tasks-from-tasks)."
   ]
  },
  {
   "cell_type": "code",
   "execution_count": 8,
   "metadata": {},
   "outputs": [
    {
     "name": "stdout",
     "output_type": "stream",
     "text": [
      "CPU times: user 266 ms, sys: 16.2 ms, total: 282 ms\n",
      "Wall time: 2.46 s\n"
     ]
    }
   ],
   "source": [
    "%%time\n",
    "\n",
    "from dask.distributed import get_client, secede, rejoin\n",
    "\n",
    "def f(fn):\n",
    "    L = parse_file(fn)\n",
    "    client = get_client()\n",
    "    \n",
    "    futures = client.map(process_item, L, priority=10)\n",
    "    secede()\n",
    "    results = client.gather(futures)\n",
    "    rejoin()\n",
    "    return results\n",
    "\n",
    "futures = client.map(f, filenames, pure=False)\n",
    "results = client.gather(futures)"
   ]
  }
 ],
 "metadata": {
  "kernelspec": {
   "display_name": "Python 3",
   "language": "python",
   "name": "python3"
  },
  "language_info": {
   "codemirror_mode": {
    "name": "ipython",
    "version": 3
   },
   "file_extension": ".py",
   "mimetype": "text/x-python",
   "name": "python",
   "nbconvert_exporter": "python",
   "pygments_lexer": "ipython3",
   "version": "3.7.6"
  }
 },
 "nbformat": 4,
 "nbformat_minor": 4
}
