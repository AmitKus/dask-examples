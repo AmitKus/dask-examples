{
 "cells": [
  {
   "cell_type": "markdown",
   "metadata": {},
   "source": [
    "Handle Evolving Workflows\n",
    "=========================\n",
    "\n",
    "For some workflows we don't know the extent of the computation at the outset.  We need to do some computation in order to figure out the rest of the computation that we need to do.  The computation grows and evolves as we do more work.\n",
    "\n",
    "As an example, consider a situation where you need to read many files and then based on the contents of those files, fire off additional work.  You would like to read the files in parallel, and then within each file expose more parallelism.\n",
    "\n",
    "This example goes through three ways to handle this situation using [Dask Futures](https://docs.dask.org/en/latest/futures.html)\n",
    "\n",
    "1.  Using `as_completed`\n",
    "2.  Using `async/await`\n",
    "3.  Launching tasks from tasks\n",
    "\n",
    "But first, lets run our code sequentially."
   ]
  },
  {
   "cell_type": "markdown",
   "metadata": {},
   "source": [
    "0: Sequential code\n",
    "------------------"
   ]
  },
  {
   "cell_type": "code",
   "execution_count": 1,
   "metadata": {},
   "outputs": [
    {
     "data": {
      "text/plain": [
       "['file.0.txt', 'file.1.txt', 'file.2.txt']"
      ]
     },
     "execution_count": 1,
     "metadata": {},
     "output_type": "execute_result"
    }
   ],
   "source": [
    "filenames = [\"file.{}.txt\".format(i) for i in range(10)]\n",
    "\n",
    "filenames[:3]"
   ]
  },
  {
   "cell_type": "code",
   "execution_count": 2,
   "metadata": {},
   "outputs": [],
   "source": [
    "import random, time\n",
    "\n",
    "\n",
    "def parse_file(fn: str) -> list:\n",
    "    \"\"\" Returns a list work items of unknown length \"\"\"\n",
    "    time.sleep(random.random())\n",
    "    return [random.random() for _ in range(random.randint(1, 10))]\n",
    "\n",
    "def process_item(x: float):\n",
    "    \"\"\" Process each work item \"\"\"\n",
    "    time.sleep(random.random() / 4)\n",
    "    return x + 1"
   ]
  },
  {
   "cell_type": "code",
   "execution_count": 3,
   "metadata": {},
   "outputs": [
    {
     "name": "stdout",
     "output_type": "stream",
     "text": [
      "CPU times: user 5.02 ms, sys: 700 µs, total: 5.72 ms\n",
      "Wall time: 12.2 s\n"
     ]
    }
   ],
   "source": [
    "%%time\n",
    "\n",
    "# This takes around 10-20s\n",
    "\n",
    "results = []\n",
    "\n",
    "for fn in filenames:\n",
    "    L = parse_file(fn)\n",
    "    for x in L:\n",
    "        out = process_item(x)\n",
    "        results.append(out)"
   ]
  },
  {
   "cell_type": "markdown",
   "metadata": {},
   "source": [
    "Start Dask Client\n",
    "-----------------\n",
    "\n",
    "We'll need a Dask client in order to manage dynamic workloads"
   ]
  },
  {
   "cell_type": "code",
   "execution_count": 4,
   "metadata": {},
   "outputs": [
    {
     "data": {
      "text/html": [
       "<table style=\"border: 2px solid white;\">\n",
       "<tr>\n",
       "<td style=\"vertical-align: top; border: 0px solid white\">\n",
       "<h3 style=\"text-align: left;\">Client</h3>\n",
       "<ul style=\"text-align: left; list-style: none; margin: 0; padding: 0;\">\n",
       "  <li><b>Scheduler: </b>inproc://10.20.0.98/10244/1</li>\n",
       "  <li><b>Dashboard: </b><a href='http://10.20.0.98:8787/status' target='_blank'>http://10.20.0.98:8787/status</a>\n",
       "</ul>\n",
       "</td>\n",
       "<td style=\"vertical-align: top; border: 0px solid white\">\n",
       "<h3 style=\"text-align: left;\">Cluster</h3>\n",
       "<ul style=\"text-align: left; list-style:none; margin: 0; padding: 0;\">\n",
       "  <li><b>Workers: </b>1</li>\n",
       "  <li><b>Cores: </b>6</li>\n",
       "  <li><b>Memory: </b>8.36 GB</li>\n",
       "</ul>\n",
       "</td>\n",
       "</tr>\n",
       "</table>"
      ],
      "text/plain": [
       "<Client: 'inproc://10.20.0.98/10244/1' processes=1 threads=6, memory=8.36 GB>"
      ]
     },
     "execution_count": 4,
     "metadata": {},
     "output_type": "execute_result"
    }
   ],
   "source": [
    "from dask.distributed import Client\n",
    "\n",
    "client = Client(processes=False, n_workers=1, threads_per_worker=6)\n",
    "client"
   ]
  },
  {
   "cell_type": "markdown",
   "metadata": {},
   "source": [
    "1: Use as_completed\n",
    "-------------------\n",
    "\n",
    "The [as_completed](https://docs.dask.org/en/latest/futures.html#distributed.as_completed) iterator lets us handle futures as they complete.  We can then submit more data on the fly.\n",
    "\n",
    "-   We submit a task for each of our filenames\n",
    "-   We also compute the length of each of the returned lists\n",
    "-   As those lengths return, we submit off a new task to get each item of that list.  We do this at higher priority, so that we process existing data before we collect new data.\n",
    "-   We wait on all of the returned results"
   ]
  },
  {
   "cell_type": "code",
   "execution_count": 5,
   "metadata": {},
   "outputs": [
    {
     "name": "stdout",
     "output_type": "stream",
     "text": [
      "CPU times: user 257 ms, sys: 28.4 ms, total: 286 ms\n",
      "Wall time: 2.22 s\n"
     ]
    },
    {
     "data": {
      "text/plain": [
       "[1.9357699039812921,\n",
       " 1.076226241165258,\n",
       " 1.7808762568475134,\n",
       " 1.3731836257140162,\n",
       " 1.0314434507491599,\n",
       " 1.6028769230025013,\n",
       " 1.6815503566328396,\n",
       " 1.357502471146085,\n",
       " 1.737168980513709,\n",
       " 1.9006009770147385,\n",
       " 1.2199679447484606,\n",
       " 1.6038617142185354,\n",
       " 1.3724812388281213,\n",
       " 1.0921638600553603,\n",
       " 1.862956480202733,\n",
       " 1.7616078848837131,\n",
       " 1.2121144324367306,\n",
       " 1.8476683555613849,\n",
       " 1.4676939997593386,\n",
       " 1.303148311528341,\n",
       " 1.9404067517810288,\n",
       " 1.6690821954516664,\n",
       " 1.2787079519451168,\n",
       " 1.7762827073169265,\n",
       " 1.36383820594305,\n",
       " 1.0128115508202788,\n",
       " 1.8801728090302852,\n",
       " 1.6729604420867026,\n",
       " 1.9153206285469273,\n",
       " 1.705622737809696,\n",
       " 1.107795077222336,\n",
       " 1.1535123814178276,\n",
       " 1.4593224465047798,\n",
       " 1.9173947585928799,\n",
       " 1.5564310656989306,\n",
       " 1.1635279509118415,\n",
       " 1.7147156318846513,\n",
       " 1.4245687769655757,\n",
       " 1.9394386684619773,\n",
       " 1.4946340821409627,\n",
       " 1.8169009472020001,\n",
       " 1.4456644388741888,\n",
       " 1.1305420563423818,\n",
       " 1.2457779777202427,\n",
       " 1.7953786846580586,\n",
       " 1.5723576964014137,\n",
       " 1.8008957528607452,\n",
       " 1.744988840501807,\n",
       " 1.921310477870507,\n",
       " 1.421778913992111]"
      ]
     },
     "execution_count": 5,
     "metadata": {},
     "output_type": "execute_result"
    }
   ],
   "source": [
    "%%time\n",
    "\n",
    "from dask.distributed import as_completed\n",
    "import operator\n",
    "\n",
    "lists = client.map(parse_file, filenames, pure=False)\n",
    "lengths = client.map(len, lists)\n",
    "\n",
    "mapping = dict(zip(lengths, lists))\n",
    "\n",
    "futures = []\n",
    "\n",
    "for future in as_completed(lengths):\n",
    "    n = future.result()\n",
    "    L = mapping[future]\n",
    "    for i in range(n):\n",
    "        new = client.submit(operator.getitem, L, i, priority=1)\n",
    "        new = client.submit(process_item, new, priority=1)\n",
    "        futures.append(new)\n",
    "        \n",
    "client.gather(futures)"
   ]
  },
  {
   "cell_type": "markdown",
   "metadata": {},
   "source": [
    "2: Use async/await to handle single file processing locally\n",
    "-----------------------------------------------------------\n",
    "\n",
    "We can also handle the concurrency here within our local process.  This requires you to understand async/await syntax, but is generally powerful and arguably simpler than the `as_completed` approach above."
   ]
  },
  {
   "cell_type": "code",
   "execution_count": 6,
   "metadata": {},
   "outputs": [],
   "source": [
    "import asyncio\n",
    "\n",
    "async def f(fn):\n",
    "    \"\"\" Handle the lifecycle of a single file \"\"\"\n",
    "    future = client.submit(parse_file, fn, pure=False)\n",
    "    length_future = client.submit(len, future)\n",
    "    length = await length_future\n",
    "    \n",
    "    futures = [client.submit(operator.getitem, future, i, priority=10) \n",
    "               for i in range(length)]\n",
    "    futures = client.map(process_item, futures, priority=10)\n",
    "    return futures\n",
    "\n",
    "async def run_all(filenames):\n",
    "    list_of_list_of_futures = await asyncio.gather(*[f(fn) for fn in filenames])\n",
    "    futures = sum(list_of_list_of_futures, [])\n",
    "    return await client.gather(futures)\n"
   ]
  },
  {
   "cell_type": "markdown",
   "metadata": {},
   "source": [
    "We now need to run this function in the same event loop as our client is running.  If we had started our client asynchronously, then we could have done this:\n",
    "\n",
    "```python\n",
    "client = await Client(asynchronous=True)\n",
    "\n",
    "await run_all(filenames)\n",
    "```\n",
    "\n",
    "However, because we started our client without the `asynchronous=True` flag the event loop is actually running in a separate thread, so we'll have to ask the client to run this for us."
   ]
  },
  {
   "cell_type": "code",
   "execution_count": 7,
   "metadata": {},
   "outputs": [
    {
     "data": {
      "text/plain": [
       "[1.773915703393401,\n",
       " 1.4230082745840718,\n",
       " 1.5608987799010654,\n",
       " 1.0650468241947415,\n",
       " 1.8591456241912174,\n",
       " 1.664545294159367,\n",
       " 1.7734689838811215,\n",
       " 1.3051321729697987,\n",
       " 1.6069125581576404,\n",
       " 1.258435002276897,\n",
       " 1.441355898117703,\n",
       " 1.725486963774136,\n",
       " 1.155150043750028,\n",
       " 1.4629791977216864,\n",
       " 1.8505945856851524,\n",
       " 1.4483965296477033,\n",
       " 1.0698807316723467,\n",
       " 1.848732723582913,\n",
       " 1.1205891047363719,\n",
       " 1.1319190419459106,\n",
       " 1.2836041825585078,\n",
       " 1.460690026345341,\n",
       " 1.8811845907046014,\n",
       " 1.4909102406911048,\n",
       " 1.0569405176900775,\n",
       " 1.9022898980032197,\n",
       " 1.9999638386748106,\n",
       " 1.240183077894783,\n",
       " 1.6784898522898057,\n",
       " 1.5630246277999473,\n",
       " 1.671778745668674,\n",
       " 1.8402536007925954,\n",
       " 1.9870925207293335,\n",
       " 1.3330596893797217,\n",
       " 1.1529940771971239,\n",
       " 1.82871993666657,\n",
       " 1.1218026840375042,\n",
       " 1.9518107113377887,\n",
       " 1.3075392092815856,\n",
       " 1.4744184580310251,\n",
       " 1.96035329023809,\n",
       " 1.4980963186029925,\n",
       " 1.6693522199336024,\n",
       " 1.675482681134139,\n",
       " 1.2282583937177285,\n",
       " 1.0402762363054867,\n",
       " 1.0182855690324708,\n",
       " 1.2709696423782564,\n",
       " 1.9302961857368741,\n",
       " 1.3191536601896714,\n",
       " 1.621573786721104,\n",
       " 1.4773322899093373,\n",
       " 1.0494145892193414,\n",
       " 1.9722693986406759,\n",
       " 1.5831073147012624,\n",
       " 1.4956128602248315,\n",
       " 1.4224515245201101,\n",
       " 1.610096838723524,\n",
       " 1.5892861357924772,\n",
       " 1.9113427232330347,\n",
       " 1.027185245284792,\n",
       " 1.2825874953189171,\n",
       " 1.8794772284892471,\n",
       " 1.7090633287834724]"
      ]
     },
     "execution_count": 7,
     "metadata": {},
     "output_type": "execute_result"
    }
   ],
   "source": [
    "client.sync(run_all, filenames)"
   ]
  },
  {
   "cell_type": "markdown",
   "metadata": {},
   "source": [
    "3: Submit tasks from tasks\n",
    "--------------------------\n",
    "\n",
    "We can also submit tasks that themselves submit more tasks.  See [documentation here](https://docs.dask.org/en/latest/futures.html#submit-tasks-from-tasks)."
   ]
  },
  {
   "cell_type": "code",
   "execution_count": 8,
   "metadata": {},
   "outputs": [
    {
     "name": "stdout",
     "output_type": "stream",
     "text": [
      "CPU times: user 199 ms, sys: 32.4 ms, total: 232 ms\n",
      "Wall time: 2.22 s\n"
     ]
    }
   ],
   "source": [
    "%%time\n",
    "\n",
    "from dask.distributed import get_client, secede, rejoin\n",
    "\n",
    "def f(fn):\n",
    "    L = parse_file(fn)\n",
    "    client = get_client()\n",
    "    \n",
    "    futures = client.map(process_item, L, priority=10)\n",
    "    secede()\n",
    "    results = client.gather(futures)\n",
    "    rejoin()\n",
    "    return results\n",
    "\n",
    "futures = client.map(f, filenames, pure=False)\n",
    "results = client.gather(futures)"
   ]
  }
 ],
 "metadata": {
  "kernelspec": {
   "display_name": "Python 3",
   "language": "python",
   "name": "python3"
  },
  "language_info": {
   "codemirror_mode": {
    "name": "ipython",
    "version": 3
   },
   "file_extension": ".py",
   "mimetype": "text/x-python",
   "name": "python",
   "nbconvert_exporter": "python",
   "pygments_lexer": "ipython3",
   "version": "3.7.6"
  }
 },
 "nbformat": 4,
 "nbformat_minor": 4
}
