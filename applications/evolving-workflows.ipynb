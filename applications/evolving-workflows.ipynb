{
 "cells": [
  {
   "cell_type": "markdown",
   "metadata": {},
   "source": [
    "Handle Evolving Workflows\n",
    "=========================\n",
    "\n",
    "For some workflows we don't know the extent of the computation at the outset.  We need to do some computation in order to figure out the rest of the computation that we need to do.  The computation grows and evolves as we do more work.\n",
    "\n",
    "As an example, consider a situation where you need to read many files and then based on the contents of those files, fire off additional work.  You would like to read the files in parallel, and then within each file expose more parallelism.\n",
    "\n",
    "This example goes through three ways to handle this situation using [Dask Futures](https://docs.dask.org/en/latest/futures.html)\n",
    "\n",
    "1.  Using `as_completed`\n",
    "2.  Using `async/await`\n",
    "3.  Launching tasks from tasks\n",
    "\n",
    "But first, lets run our code sequentially."
   ]
  },
  {
   "cell_type": "markdown",
   "metadata": {},
   "source": [
    "0: Sequential code\n",
    "------------------"
   ]
  },
  {
   "cell_type": "code",
   "execution_count": 1,
   "metadata": {},
   "outputs": [
    {
     "data": {
      "text/plain": [
       "['file.0.txt', 'file.1.txt', 'file.2.txt']"
      ]
     },
     "execution_count": 1,
     "metadata": {},
     "output_type": "execute_result"
    }
   ],
   "source": [
    "filenames = [\"file.{}.txt\".format(i) for i in range(10)]\n",
    "\n",
    "filenames[:3]"
   ]
  },
  {
   "cell_type": "code",
   "execution_count": 2,
   "metadata": {},
   "outputs": [],
   "source": [
    "import random, time\n",
    "\n",
    "\n",
    "def parse_file(fn: str) -> list:\n",
    "    \"\"\" Returns a list work items of unknown length \"\"\"\n",
    "    time.sleep(random.random())\n",
    "    return [random.random() for _ in range(random.randint(1, 10))]\n",
    "\n",
    "def process_item(x: float):\n",
    "    \"\"\" Process each work item \"\"\"\n",
    "    time.sleep(random.random() / 4)\n",
    "    return x + 1"
   ]
  },
  {
   "cell_type": "code",
   "execution_count": 3,
   "metadata": {},
   "outputs": [
    {
     "name": "stdout",
     "output_type": "stream",
     "text": [
      "CPU times: user 5.23 ms, sys: 968 µs, total: 6.2 ms\n",
      "Wall time: 13 s\n"
     ]
    }
   ],
   "source": [
    "%%time\n",
    "\n",
    "# This takes around 10-20s\n",
    "\n",
    "results = []\n",
    "\n",
    "for fn in filenames:\n",
    "    L = parse_file(fn)\n",
    "    for x in L:\n",
    "        out = process_item(x)\n",
    "        results.append(out)"
   ]
  },
  {
   "cell_type": "markdown",
   "metadata": {},
   "source": [
    "Start Dask Client\n",
    "-----------------\n",
    "\n",
    "We'll need a Dask client in order to manage dynamic workloads"
   ]
  },
  {
   "cell_type": "code",
   "execution_count": 4,
   "metadata": {},
   "outputs": [
    {
     "data": {
      "text/html": [
       "<table style=\"border: 2px solid white;\">\n",
       "<tr>\n",
       "<td style=\"vertical-align: top; border: 0px solid white\">\n",
       "<h3 style=\"text-align: left;\">Client</h3>\n",
       "<ul style=\"text-align: left; list-style: none; margin: 0; padding: 0;\">\n",
       "  <li><b>Scheduler: </b>inproc://10.20.1.68/10210/1</li>\n",
       "  <li><b>Dashboard: </b><a href='http://10.20.1.68:8787/status' target='_blank'>http://10.20.1.68:8787/status</a>\n",
       "</ul>\n",
       "</td>\n",
       "<td style=\"vertical-align: top; border: 0px solid white\">\n",
       "<h3 style=\"text-align: left;\">Cluster</h3>\n",
       "<ul style=\"text-align: left; list-style:none; margin: 0; padding: 0;\">\n",
       "  <li><b>Workers: </b>1</li>\n",
       "  <li><b>Cores: </b>6</li>\n",
       "  <li><b>Memory: </b>8.36 GB</li>\n",
       "</ul>\n",
       "</td>\n",
       "</tr>\n",
       "</table>"
      ],
      "text/plain": [
       "<Client: 'inproc://10.20.1.68/10210/1' processes=1 threads=6, memory=8.36 GB>"
      ]
     },
     "execution_count": 4,
     "metadata": {},
     "output_type": "execute_result"
    }
   ],
   "source": [
    "from dask.distributed import Client\n",
    "\n",
    "client = Client(processes=False, n_workers=1, threads_per_worker=6)\n",
    "client"
   ]
  },
  {
   "cell_type": "markdown",
   "metadata": {},
   "source": [
    "1: Use as_completed\n",
    "-------------------\n",
    "\n",
    "The [as_completed](https://docs.dask.org/en/latest/futures.html#distributed.as_completed) iterator lets us handle futures as they complete.  We can then submit more data on the fly.\n",
    "\n",
    "-   We submit a task for each of our filenames\n",
    "-   We also compute the length of each of the returned lists\n",
    "-   As those lengths return, we submit off a new task to get each item of that list.  We do this at higher priority, so that we process existing data before we collect new data.\n",
    "-   We wait on all of the returned results"
   ]
  },
  {
   "cell_type": "code",
   "execution_count": 5,
   "metadata": {},
   "outputs": [
    {
     "name": "stdout",
     "output_type": "stream",
     "text": [
      "CPU times: user 290 ms, sys: 41.6 ms, total: 332 ms\n",
      "Wall time: 2.43 s\n"
     ]
    },
    {
     "data": {
      "text/plain": [
       "[1.4393986614224774,\n",
       " 1.7151302761971874,\n",
       " 1.729938817837224,\n",
       " 1.1574608645420443,\n",
       " 1.0934347268976032,\n",
       " 1.8893027648825913,\n",
       " 1.3447774587366061,\n",
       " 1.1301094651757624,\n",
       " 1.9952703937195093,\n",
       " 1.3001294369412162,\n",
       " 1.3463288855015354,\n",
       " 1.9445705072108779,\n",
       " 1.6967213637786216,\n",
       " 1.0927660033973132,\n",
       " 1.2900809565662574,\n",
       " 1.5379164896084254,\n",
       " 1.6067052348116744,\n",
       " 1.0467980936154309,\n",
       " 1.6612640120112432,\n",
       " 1.490521284428195,\n",
       " 1.1338662963174047,\n",
       " 1.891701639555024,\n",
       " 1.3810693741114974,\n",
       " 1.5045965018984253,\n",
       " 1.295918359948602,\n",
       " 1.7284209303184448,\n",
       " 1.2119618812759907,\n",
       " 1.1840049535957013,\n",
       " 1.0082630271932662,\n",
       " 1.461329293723917,\n",
       " 1.096654346747723,\n",
       " 1.7496245623190558,\n",
       " 1.4654605951943034,\n",
       " 1.2710775451040033,\n",
       " 1.5071520761147181,\n",
       " 1.598676134405233,\n",
       " 1.2693263518276625,\n",
       " 1.4055018423820713,\n",
       " 1.6557447823027847,\n",
       " 1.3389412617164127,\n",
       " 1.4752176204071925,\n",
       " 1.7963982720487124,\n",
       " 1.4132821656044872,\n",
       " 1.5213207437441856,\n",
       " 1.5086062574655692,\n",
       " 1.4055752255720506,\n",
       " 1.9577559655397878,\n",
       " 1.2684966197309744,\n",
       " 1.488883875251408,\n",
       " 1.7553452800548668,\n",
       " 1.0701217062768085,\n",
       " 1.9450586121161444,\n",
       " 1.0394880695966133,\n",
       " 1.270219613569374,\n",
       " 1.3176193343811464,\n",
       " 1.5572704142512914,\n",
       " 1.2724475210374913]"
      ]
     },
     "execution_count": 5,
     "metadata": {},
     "output_type": "execute_result"
    }
   ],
   "source": [
    "%%time\n",
    "\n",
    "from dask.distributed import as_completed\n",
    "import operator\n",
    "\n",
    "lists = client.map(parse_file, filenames, pure=False)\n",
    "lengths = client.map(len, lists)\n",
    "\n",
    "mapping = dict(zip(lengths, lists))\n",
    "\n",
    "futures = []\n",
    "\n",
    "for future in as_completed(lengths):\n",
    "    n = future.result()\n",
    "    L = mapping[future]\n",
    "    for i in range(n):\n",
    "        new = client.submit(operator.getitem, L, i, priority=1)\n",
    "        new = client.submit(process_item, new, priority=1)\n",
    "        futures.append(new)\n",
    "        \n",
    "client.gather(futures)"
   ]
  },
  {
   "cell_type": "markdown",
   "metadata": {},
   "source": [
    "2: Use async/await to handle single file processing locally\n",
    "-----------------------------------------------------------\n",
    "\n",
    "We can also handle the concurrency here within our local process.  This requires you to understand async/await syntax, but is generally powerful and arguably simpler than the `as_completed` approach above."
   ]
  },
  {
   "cell_type": "code",
   "execution_count": 6,
   "metadata": {},
   "outputs": [],
   "source": [
    "import asyncio\n",
    "\n",
    "async def f(fn):\n",
    "    \"\"\" Handle the lifecycle of a single file \"\"\"\n",
    "    future = client.submit(parse_file, fn, pure=False)\n",
    "    length_future = client.submit(len, future)\n",
    "    length = await length_future\n",
    "    \n",
    "    futures = [client.submit(operator.getitem, future, i, priority=10) \n",
    "               for i in range(length)]\n",
    "    futures = client.map(process_item, futures, priority=10)\n",
    "    return futures\n",
    "\n",
    "async def run_all(filenames):\n",
    "    list_of_list_of_futures = await asyncio.gather(*[f(fn) for fn in filenames])\n",
    "    futures = sum(list_of_list_of_futures, [])\n",
    "    return await client.gather(futures)\n"
   ]
  },
  {
   "cell_type": "markdown",
   "metadata": {},
   "source": [
    "We now need to run this function in the same event loop as our client is running.  If we had started our client asynchronously, then we could have done this:\n",
    "\n",
    "```python\n",
    "client = await Client(asynchronous=True)\n",
    "\n",
    "await run_all(filenames)\n",
    "```\n",
    "\n",
    "However, because we started our client without the `asynchronous=True` flag the event loop is actually running in a separate thread, so we'll have to ask the client to run this for us."
   ]
  },
  {
   "cell_type": "code",
   "execution_count": 7,
   "metadata": {},
   "outputs": [
    {
     "data": {
      "text/plain": [
       "[1.1679556286312307,\n",
       " 1.6212086598058935,\n",
       " 1.8648661967500124,\n",
       " 1.037671564483876,\n",
       " 1.492587847380714,\n",
       " 1.0559105008482172,\n",
       " 1.3710604856368858,\n",
       " 1.9701447752252195,\n",
       " 1.0578106706748,\n",
       " 1.3019860658174411,\n",
       " 1.7832635311414484,\n",
       " 1.1067786027209787,\n",
       " 1.4037800123029687,\n",
       " 1.9039185185432217,\n",
       " 1.0622227892067138,\n",
       " 1.85427877492088,\n",
       " 1.8978814543000624,\n",
       " 1.2416178628669425,\n",
       " 1.1882995928379598,\n",
       " 1.6127744221174616,\n",
       " 1.2465409944096724,\n",
       " 1.3969830563608006,\n",
       " 1.3790532957562818,\n",
       " 1.2013505794335484,\n",
       " 1.9727657194694102,\n",
       " 1.6186220194064618,\n",
       " 1.8440970012949807,\n",
       " 1.4882903856980811,\n",
       " 1.4295967226452486,\n",
       " 1.8631999197874345,\n",
       " 1.4978793761320002,\n",
       " 1.3077438139005348,\n",
       " 1.4998315426549702,\n",
       " 1.0226411565842506,\n",
       " 1.1313387682155867,\n",
       " 1.016743366756403,\n",
       " 1.561772868040392,\n",
       " 1.8395604178886895,\n",
       " 1.4298144060766997,\n",
       " 1.435019054662511,\n",
       " 1.206226761376631,\n",
       " 1.3431745065507688,\n",
       " 1.3952805408691777,\n",
       " 1.5716226286155695,\n",
       " 1.4690554044998825,\n",
       " 1.14225576442364,\n",
       " 1.7188212714195106,\n",
       " 1.2167019092937776,\n",
       " 1.9877409069764922,\n",
       " 1.1331797832227708,\n",
       " 1.808708095489973,\n",
       " 1.7836848223391812,\n",
       " 1.4546852436907574,\n",
       " 1.2543690489763286,\n",
       " 1.6322474314074533,\n",
       " 1.8297669114081758,\n",
       " 1.8295324957523247,\n",
       " 1.4941877756244009,\n",
       " 1.1959119854324975,\n",
       " 1.2393731717335765,\n",
       " 1.0861215745725339]"
      ]
     },
     "execution_count": 7,
     "metadata": {},
     "output_type": "execute_result"
    }
   ],
   "source": [
    "client.sync(run_all, filenames)"
   ]
  },
  {
   "cell_type": "markdown",
   "metadata": {},
   "source": [
    "3: Submit tasks from tasks\n",
    "--------------------------\n",
    "\n",
    "We can also submit tasks that themselves submit more tasks.  See [documentation here](https://docs.dask.org/en/latest/futures.html#submit-tasks-from-tasks)."
   ]
  },
  {
   "cell_type": "code",
   "execution_count": 8,
   "metadata": {},
   "outputs": [
    {
     "name": "stdout",
     "output_type": "stream",
     "text": [
      "CPU times: user 237 ms, sys: 22.3 ms, total: 260 ms\n",
      "Wall time: 2.46 s\n"
     ]
    }
   ],
   "source": [
    "%%time\n",
    "\n",
    "from dask.distributed import get_client, secede, rejoin\n",
    "\n",
    "def f(fn):\n",
    "    L = parse_file(fn)\n",
    "    client = get_client()\n",
    "    \n",
    "    futures = client.map(process_item, L, priority=10)\n",
    "    secede()\n",
    "    results = client.gather(futures)\n",
    "    rejoin()\n",
    "    return results\n",
    "\n",
    "futures = client.map(f, filenames, pure=False)\n",
    "results = client.gather(futures)"
   ]
  }
 ],
 "metadata": {
  "kernelspec": {
   "display_name": "Python 3",
   "language": "python",
   "name": "python3"
  },
  "language_info": {
   "codemirror_mode": {
    "name": "ipython",
    "version": 3
   },
   "file_extension": ".py",
   "mimetype": "text/x-python",
   "name": "python",
   "nbconvert_exporter": "python",
   "pygments_lexer": "ipython3",
   "version": "3.7.6"
  }
 },
 "nbformat": 4,
 "nbformat_minor": 4
}
