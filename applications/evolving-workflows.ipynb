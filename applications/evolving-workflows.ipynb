{
 "cells": [
  {
   "cell_type": "markdown",
   "metadata": {},
   "source": [
    "Handle Evolving Workflows\n",
    "=========================\n",
    "\n",
    "For some workflows we don't know the extent of the computation at the outset.  We need to do some computation in order to figure out the rest of the computation that we need to do.  The computation grows and evolves as we do more work.\n",
    "\n",
    "As an example, consider a situation where you need to read many files and then based on the contents of those files, fire off additional work.  You would like to read the files in parallel, and then within each file expose more parallelism.\n",
    "\n",
    "This example goes through three ways to handle this situation using [Dask Futures](https://docs.dask.org/en/latest/futures.html)\n",
    "\n",
    "1.  Using `as_completed`\n",
    "2.  Using `async/await`\n",
    "3.  Launching tasks from tasks\n",
    "\n",
    "But first, lets run our code sequentially."
   ]
  },
  {
   "cell_type": "markdown",
   "metadata": {},
   "source": [
    "0: Sequential code\n",
    "------------------"
   ]
  },
  {
   "cell_type": "code",
   "execution_count": 1,
   "metadata": {},
   "outputs": [
    {
     "data": {
      "text/plain": [
       "['file.0.txt', 'file.1.txt', 'file.2.txt']"
      ]
     },
     "execution_count": 1,
     "metadata": {},
     "output_type": "execute_result"
    }
   ],
   "source": [
    "filenames = [\"file.{}.txt\".format(i) for i in range(10)]\n",
    "\n",
    "filenames[:3]"
   ]
  },
  {
   "cell_type": "code",
   "execution_count": 2,
   "metadata": {},
   "outputs": [],
   "source": [
    "import random, time\n",
    "\n",
    "\n",
    "def parse_file(fn: str) -> list:\n",
    "    \"\"\" Returns a list work items of unknown length \"\"\"\n",
    "    time.sleep(random.random())\n",
    "    return [random.random() for _ in range(random.randint(1, 10))]\n",
    "\n",
    "def process_item(x: float):\n",
    "    \"\"\" Process each work item \"\"\"\n",
    "    time.sleep(random.random() / 4)\n",
    "    return x + 1"
   ]
  },
  {
   "cell_type": "code",
   "execution_count": 3,
   "metadata": {},
   "outputs": [
    {
     "name": "stdout",
     "output_type": "stream",
     "text": [
      "CPU times: user 4.25 ms, sys: 698 µs, total: 4.95 ms\n",
      "Wall time: 11.3 s\n"
     ]
    }
   ],
   "source": [
    "%%time\n",
    "\n",
    "# This takes around 10-20s\n",
    "\n",
    "results = []\n",
    "\n",
    "for fn in filenames:\n",
    "    L = parse_file(fn)\n",
    "    for x in L:\n",
    "        out = process_item(x)\n",
    "        results.append(out)"
   ]
  },
  {
   "cell_type": "markdown",
   "metadata": {},
   "source": [
    "Start Dask Client\n",
    "-----------------\n",
    "\n",
    "We'll need a Dask client in order to manage dynamic workloads"
   ]
  },
  {
   "cell_type": "code",
   "execution_count": 4,
   "metadata": {},
   "outputs": [
    {
     "data": {
      "text/html": [
       "<table style=\"border: 2px solid white;\">\n",
       "<tr>\n",
       "<td style=\"vertical-align: top; border: 0px solid white\">\n",
       "<h3 style=\"text-align: left;\">Client</h3>\n",
       "<ul style=\"text-align: left; list-style: none; margin: 0; padding: 0;\">\n",
       "  <li><b>Scheduler: </b>inproc://10.20.0.129/10325/1</li>\n",
       "  <li><b>Dashboard: </b><a href='http://10.20.0.129:8787/status' target='_blank'>http://10.20.0.129:8787/status</a></li>\n",
       "</ul>\n",
       "</td>\n",
       "<td style=\"vertical-align: top; border: 0px solid white\">\n",
       "<h3 style=\"text-align: left;\">Cluster</h3>\n",
       "<ul style=\"text-align: left; list-style:none; margin: 0; padding: 0;\">\n",
       "  <li><b>Workers: </b>1</li>\n",
       "  <li><b>Cores: </b>6</li>\n",
       "  <li><b>Memory: </b>8.36 GB</li>\n",
       "</ul>\n",
       "</td>\n",
       "</tr>\n",
       "</table>"
      ],
      "text/plain": [
       "<Client: 'inproc://10.20.0.129/10325/1' processes=1 threads=6, memory=8.36 GB>"
      ]
     },
     "execution_count": 4,
     "metadata": {},
     "output_type": "execute_result"
    }
   ],
   "source": [
    "from dask.distributed import Client\n",
    "\n",
    "client = Client(processes=False, n_workers=1, threads_per_worker=6)\n",
    "client"
   ]
  },
  {
   "cell_type": "markdown",
   "metadata": {},
   "source": [
    "1: Use as_completed\n",
    "-------------------\n",
    "\n",
    "The [as_completed](https://docs.dask.org/en/latest/futures.html#distributed.as_completed) iterator lets us handle futures as they complete.  We can then submit more data on the fly.\n",
    "\n",
    "-   We submit a task for each of our filenames\n",
    "-   We also compute the length of each of the returned lists\n",
    "-   As those lengths return, we submit off a new task to get each item of that list.  We do this at higher priority, so that we process existing data before we collect new data.\n",
    "-   We wait on all of the returned results"
   ]
  },
  {
   "cell_type": "code",
   "execution_count": 5,
   "metadata": {},
   "outputs": [
    {
     "name": "stdout",
     "output_type": "stream",
     "text": [
      "CPU times: user 234 ms, sys: 31.8 ms, total: 266 ms\n",
      "Wall time: 2.2 s\n"
     ]
    },
    {
     "data": {
      "text/plain": [
       "[1.821281928992832,\n",
       " 1.0605488921073145,\n",
       " 1.388249806038536,\n",
       " 1.1998279078460379,\n",
       " 1.2587696924289995,\n",
       " 1.601176759237098,\n",
       " 1.2613979612217951,\n",
       " 1.5075003618863447,\n",
       " 1.9978068400459943,\n",
       " 1.9819419447049667,\n",
       " 1.2799355014699674,\n",
       " 1.16289910592522,\n",
       " 1.6062171113395545,\n",
       " 1.8393301746969175,\n",
       " 1.4360528601892042,\n",
       " 1.980384103782758,\n",
       " 1.0641000178417865,\n",
       " 1.8854054023867044,\n",
       " 1.23266664627366,\n",
       " 1.944834820105326,\n",
       " 1.1877776113324403,\n",
       " 1.9062694098554267,\n",
       " 1.9714423401361438,\n",
       " 1.6221046232036338,\n",
       " 1.4350759113646996,\n",
       " 1.124925597857642,\n",
       " 1.2903626721222365,\n",
       " 1.3700311956009128,\n",
       " 1.3726516176010597,\n",
       " 1.6211925922285242,\n",
       " 1.4352638060816103,\n",
       " 1.5389150800344136,\n",
       " 1.829639583815427,\n",
       " 1.1118574025950592,\n",
       " 1.1191303461046769,\n",
       " 1.9530543870061745,\n",
       " 1.7691829630083111,\n",
       " 1.9202099776922985,\n",
       " 1.9911337269474267,\n",
       " 1.122058299426397,\n",
       " 1.5000344348971368,\n",
       " 1.4991101798355069,\n",
       " 1.8660130979981902,\n",
       " 1.1163996340777214,\n",
       " 1.4935213347595908,\n",
       " 1.219297377435772,\n",
       " 1.3675643103616917,\n",
       " 1.5415121285628537,\n",
       " 1.2450495602629967,\n",
       " 1.2631472963585995]"
      ]
     },
     "execution_count": 5,
     "metadata": {},
     "output_type": "execute_result"
    }
   ],
   "source": [
    "%%time\n",
    "\n",
    "from dask.distributed import as_completed\n",
    "import operator\n",
    "\n",
    "lists = client.map(parse_file, filenames, pure=False)\n",
    "lengths = client.map(len, lists)\n",
    "\n",
    "mapping = dict(zip(lengths, lists))\n",
    "\n",
    "futures = []\n",
    "\n",
    "for future in as_completed(lengths):\n",
    "    n = future.result()\n",
    "    L = mapping[future]\n",
    "    for i in range(n):\n",
    "        new = client.submit(operator.getitem, L, i, priority=1)\n",
    "        new = client.submit(process_item, new, priority=1)\n",
    "        futures.append(new)\n",
    "        \n",
    "client.gather(futures)"
   ]
  },
  {
   "cell_type": "markdown",
   "metadata": {},
   "source": [
    "2: Use async/await to handle single file processing locally\n",
    "-----------------------------------------------------------\n",
    "\n",
    "We can also handle the concurrency here within our local process.  This requires you to understand async/await syntax, but is generally powerful and arguably simpler than the `as_completed` approach above."
   ]
  },
  {
   "cell_type": "code",
   "execution_count": 6,
   "metadata": {},
   "outputs": [],
   "source": [
    "import asyncio\n",
    "\n",
    "async def f(fn):\n",
    "    \"\"\" Handle the lifecycle of a single file \"\"\"\n",
    "    future = client.submit(parse_file, fn, pure=False)\n",
    "    length_future = client.submit(len, future)\n",
    "    length = await length_future\n",
    "    \n",
    "    futures = [client.submit(operator.getitem, future, i, priority=10) \n",
    "               for i in range(length)]\n",
    "    futures = client.map(process_item, futures, priority=10)\n",
    "    return futures\n",
    "\n",
    "async def run_all(filenames):\n",
    "    list_of_list_of_futures = await asyncio.gather(*[f(fn) for fn in filenames])\n",
    "    futures = sum(list_of_list_of_futures, [])\n",
    "    return await client.gather(futures)\n"
   ]
  },
  {
   "cell_type": "markdown",
   "metadata": {},
   "source": [
    "We now need to run this function in the same event loop as our client is running.  If we had started our client asynchronously, then we could have done this:\n",
    "\n",
    "```python\n",
    "client = await Client(asynchronous=True)\n",
    "\n",
    "await run_all(filenames)\n",
    "```\n",
    "\n",
    "However, because we started our client without the `asynchronous=True` flag the event loop is actually running in a separate thread, so we'll have to ask the client to run this for us."
   ]
  },
  {
   "cell_type": "code",
   "execution_count": 7,
   "metadata": {},
   "outputs": [
    {
     "data": {
      "text/plain": [
       "[1.1333638724672719,\n",
       " 1.015303590834186,\n",
       " 1.0431034228038811,\n",
       " 1.2652050254821514,\n",
       " 1.684125005156146,\n",
       " 1.187674019704495,\n",
       " 1.9606705466667524,\n",
       " 1.6427444000507765,\n",
       " 1.8752651663802715,\n",
       " 1.752807338316213,\n",
       " 1.1360194273390223,\n",
       " 1.5282155698518254,\n",
       " 1.2819730319185068,\n",
       " 1.082944254240286,\n",
       " 1.9753811964935961,\n",
       " 1.0893379505086882,\n",
       " 1.958386493832009,\n",
       " 1.8870351293225867,\n",
       " 1.960400673438616,\n",
       " 1.4585462668763691,\n",
       " 1.5878824269881822,\n",
       " 1.5867675147869749,\n",
       " 1.5605268882531842,\n",
       " 1.3650228855098985,\n",
       " 1.1137754650541087,\n",
       " 1.9413704599094883,\n",
       " 1.7580226833490382,\n",
       " 1.3840774950982278,\n",
       " 1.872287965481444,\n",
       " 1.804795424538766,\n",
       " 1.0351814541448383,\n",
       " 1.725784003664212,\n",
       " 1.1634049105709376,\n",
       " 1.361418917326167,\n",
       " 1.0446206393466655,\n",
       " 1.2758258036594223,\n",
       " 1.463258422553275,\n",
       " 1.8494814066392788,\n",
       " 1.280163763370651,\n",
       " 1.7124928850373795,\n",
       " 1.4041954359074453,\n",
       " 1.754664712313323,\n",
       " 1.734300779225768,\n",
       " 1.6476548996901412,\n",
       " 1.8865557292631507,\n",
       " 1.3498215294085134,\n",
       " 1.8351745829734953,\n",
       " 1.2305703487657529,\n",
       " 1.672556048150006,\n",
       " 1.6539345970995023,\n",
       " 1.7177273306554408,\n",
       " 1.0929854845185552,\n",
       " 1.463573665020304,\n",
       " 1.221725493846558,\n",
       " 1.5187895404472838,\n",
       " 1.4119049106938264,\n",
       " 1.4127397384220293,\n",
       " 1.5772220910241446,\n",
       " 1.9313666774884743,\n",
       " 1.8497426498100276,\n",
       " 1.2447632901019199,\n",
       " 1.7198537596319614,\n",
       " 1.5969671753222174]"
      ]
     },
     "execution_count": 7,
     "metadata": {},
     "output_type": "execute_result"
    }
   ],
   "source": [
    "client.sync(run_all, filenames)"
   ]
  },
  {
   "cell_type": "markdown",
   "metadata": {},
   "source": [
    "3: Submit tasks from tasks\n",
    "--------------------------\n",
    "\n",
    "We can also submit tasks that themselves submit more tasks.  See [documentation here](https://docs.dask.org/en/latest/futures.html#submit-tasks-from-tasks)."
   ]
  },
  {
   "cell_type": "code",
   "execution_count": 8,
   "metadata": {},
   "outputs": [
    {
     "name": "stdout",
     "output_type": "stream",
     "text": [
      "CPU times: user 185 ms, sys: 11.4 ms, total: 196 ms\n",
      "Wall time: 2.45 s\n"
     ]
    }
   ],
   "source": [
    "%%time\n",
    "\n",
    "from dask.distributed import get_client, secede, rejoin\n",
    "\n",
    "def f(fn):\n",
    "    L = parse_file(fn)\n",
    "    client = get_client()\n",
    "    \n",
    "    futures = client.map(process_item, L, priority=10)\n",
    "    secede()\n",
    "    results = client.gather(futures)\n",
    "    rejoin()\n",
    "    return results\n",
    "\n",
    "futures = client.map(f, filenames, pure=False)\n",
    "results = client.gather(futures)"
   ]
  }
 ],
 "metadata": {
  "kernelspec": {
   "display_name": "Python 3",
   "language": "python",
   "name": "python3"
  },
  "language_info": {
   "codemirror_mode": {
    "name": "ipython",
    "version": 3
   },
   "file_extension": ".py",
   "mimetype": "text/x-python",
   "name": "python",
   "nbconvert_exporter": "python",
   "pygments_lexer": "ipython3",
   "version": "3.7.6"
  }
 },
 "nbformat": 4,
 "nbformat_minor": 4
}
