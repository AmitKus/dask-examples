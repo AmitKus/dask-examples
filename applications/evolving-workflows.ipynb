{
 "cells": [
  {
   "cell_type": "markdown",
   "metadata": {},
   "source": [
    "Handle Evolving Workflows\n",
    "=========================\n",
    "\n",
    "For some workflows we don't know the extent of the computation at the outset.  We need to do some computation in order to figure out the rest of the computation that we need to do.  The computation grows and evolves as we do more work.\n",
    "\n",
    "As an example, consider a situation where you need to read many files and then based on the contents of those files, fire off additional work.  You would like to read the files in parallel, and then within each file expose more parallelism.\n",
    "\n",
    "This example goes through three ways to handle this situation using [Dask Futures](https://docs.dask.org/en/latest/futures.html)\n",
    "\n",
    "1.  Using `as_completed`\n",
    "2.  Using `async/await`\n",
    "3.  Launching tasks from tasks\n",
    "\n",
    "But first, lets run our code sequentially."
   ]
  },
  {
   "cell_type": "markdown",
   "metadata": {},
   "source": [
    "0: Sequential code\n",
    "------------------"
   ]
  },
  {
   "cell_type": "code",
   "execution_count": 1,
   "metadata": {},
   "outputs": [
    {
     "data": {
      "text/plain": [
       "['file.0.txt', 'file.1.txt', 'file.2.txt']"
      ]
     },
     "execution_count": 1,
     "metadata": {},
     "output_type": "execute_result"
    }
   ],
   "source": [
    "filenames = [\"file.{}.txt\".format(i) for i in range(10)]\n",
    "\n",
    "filenames[:3]"
   ]
  },
  {
   "cell_type": "code",
   "execution_count": 2,
   "metadata": {},
   "outputs": [],
   "source": [
    "import random, time\n",
    "\n",
    "\n",
    "def parse_file(fn: str) -> list:\n",
    "    \"\"\" Returns a list work items of unknown length \"\"\"\n",
    "    time.sleep(random.random())\n",
    "    return [random.random() for _ in range(random.randint(1, 10))]\n",
    "\n",
    "def process_item(x: float):\n",
    "    \"\"\" Process each work item \"\"\"\n",
    "    time.sleep(random.random() / 4)\n",
    "    return x + 1"
   ]
  },
  {
   "cell_type": "code",
   "execution_count": 3,
   "metadata": {},
   "outputs": [
    {
     "name": "stdout",
     "output_type": "stream",
     "text": [
      "CPU times: user 1.14 ms, sys: 3.38 ms, total: 4.52 ms\n",
      "Wall time: 11.1 s\n"
     ]
    }
   ],
   "source": [
    "%%time\n",
    "\n",
    "# This takes around 10-20s\n",
    "\n",
    "results = []\n",
    "\n",
    "for fn in filenames:\n",
    "    L = parse_file(fn)\n",
    "    for x in L:\n",
    "        out = process_item(x)\n",
    "        results.append(out)"
   ]
  },
  {
   "cell_type": "markdown",
   "metadata": {},
   "source": [
    "Start Dask Client\n",
    "-----------------\n",
    "\n",
    "We'll need a Dask client in order to manage dynamic workloads"
   ]
  },
  {
   "cell_type": "code",
   "execution_count": 4,
   "metadata": {},
   "outputs": [
    {
     "data": {
      "text/html": [
       "<table style=\"border: 2px solid white;\">\n",
       "<tr>\n",
       "<td style=\"vertical-align: top; border: 0px solid white\">\n",
       "<h3 style=\"text-align: left;\">Client</h3>\n",
       "<ul style=\"text-align: left; list-style: none; margin: 0; padding: 0;\">\n",
       "  <li><b>Scheduler: </b>inproc://10.20.0.5/10326/1</li>\n",
       "  <li><b>Dashboard: </b><a href='http://10.20.0.5:8787/status' target='_blank'>http://10.20.0.5:8787/status</a></li>\n",
       "</ul>\n",
       "</td>\n",
       "<td style=\"vertical-align: top; border: 0px solid white\">\n",
       "<h3 style=\"text-align: left;\">Cluster</h3>\n",
       "<ul style=\"text-align: left; list-style:none; margin: 0; padding: 0;\">\n",
       "  <li><b>Workers: </b>1</li>\n",
       "  <li><b>Cores: </b>6</li>\n",
       "  <li><b>Memory: </b>8.36 GB</li>\n",
       "</ul>\n",
       "</td>\n",
       "</tr>\n",
       "</table>"
      ],
      "text/plain": [
       "<Client: 'inproc://10.20.0.5/10326/1' processes=1 threads=6, memory=8.36 GB>"
      ]
     },
     "execution_count": 4,
     "metadata": {},
     "output_type": "execute_result"
    }
   ],
   "source": [
    "from dask.distributed import Client\n",
    "\n",
    "client = Client(processes=False, n_workers=1, threads_per_worker=6)\n",
    "client"
   ]
  },
  {
   "cell_type": "markdown",
   "metadata": {},
   "source": [
    "1: Use as_completed\n",
    "-------------------\n",
    "\n",
    "The [as_completed](https://docs.dask.org/en/latest/futures.html#distributed.as_completed) iterator lets us handle futures as they complete.  We can then submit more data on the fly.\n",
    "\n",
    "-   We submit a task for each of our filenames\n",
    "-   We also compute the length of each of the returned lists\n",
    "-   As those lengths return, we submit off a new task to get each item of that list.  We do this at higher priority, so that we process existing data before we collect new data.\n",
    "-   We wait on all of the returned results"
   ]
  },
  {
   "cell_type": "code",
   "execution_count": 5,
   "metadata": {},
   "outputs": [
    {
     "name": "stdout",
     "output_type": "stream",
     "text": [
      "CPU times: user 226 ms, sys: 31 ms, total: 257 ms\n",
      "Wall time: 2.05 s\n"
     ]
    },
    {
     "data": {
      "text/plain": [
       "[1.4889764819170694,\n",
       " 1.7040972248352,\n",
       " 1.1571474201463028,\n",
       " 1.5454059923738144,\n",
       " 1.6980484122985602,\n",
       " 1.5859244291587444,\n",
       " 1.6310193600027705,\n",
       " 1.3543871599536126,\n",
       " 1.7090320457207968,\n",
       " 1.782310480103702,\n",
       " 1.2318069548963009,\n",
       " 1.924098536790956,\n",
       " 1.7257300973393783,\n",
       " 1.756806464424603,\n",
       " 1.9067889891412517,\n",
       " 1.7960690730541036,\n",
       " 1.1359838000358866,\n",
       " 1.494203578173991,\n",
       " 1.6488603571337328,\n",
       " 1.096526036768188,\n",
       " 1.667648240408289,\n",
       " 1.4061562556267293,\n",
       " 1.8326369431493768,\n",
       " 1.689991831494695,\n",
       " 1.461987008316703,\n",
       " 1.5572633975292502,\n",
       " 1.1939021069804852,\n",
       " 1.8616217271346318,\n",
       " 1.3095632374113033,\n",
       " 1.9230506916990584,\n",
       " 1.481340969439661,\n",
       " 1.1779449085085194,\n",
       " 1.8649200288661523,\n",
       " 1.3464213388856434,\n",
       " 1.1238484098384038,\n",
       " 1.586864424747724,\n",
       " 1.7452039000794763,\n",
       " 1.336652841431686,\n",
       " 1.4540782870643398,\n",
       " 1.0726687760516622,\n",
       " 1.1712907905220624,\n",
       " 1.5879342455066605,\n",
       " 1.2118994236242568,\n",
       " 1.413307441129111,\n",
       " 1.847219575515521,\n",
       " 1.517026028340272,\n",
       " 1.841083374567698,\n",
       " 1.051453715707106,\n",
       " 1.711903165181362,\n",
       " 1.759027309971028,\n",
       " 1.5644487121588089,\n",
       " 1.2769180846426744,\n",
       " 1.2274398153722348,\n",
       " 1.2171974515057873,\n",
       " 1.0008007408962207,\n",
       " 1.7352487755557904,\n",
       " 1.9124325281321468]"
      ]
     },
     "execution_count": 5,
     "metadata": {},
     "output_type": "execute_result"
    }
   ],
   "source": [
    "%%time\n",
    "\n",
    "from dask.distributed import as_completed\n",
    "import operator\n",
    "\n",
    "lists = client.map(parse_file, filenames, pure=False)\n",
    "lengths = client.map(len, lists)\n",
    "\n",
    "mapping = dict(zip(lengths, lists))\n",
    "\n",
    "futures = []\n",
    "\n",
    "for future in as_completed(lengths):\n",
    "    n = future.result()\n",
    "    L = mapping[future]\n",
    "    for i in range(n):\n",
    "        new = client.submit(operator.getitem, L, i, priority=1)\n",
    "        new = client.submit(process_item, new, priority=1)\n",
    "        futures.append(new)\n",
    "        \n",
    "client.gather(futures)"
   ]
  },
  {
   "cell_type": "markdown",
   "metadata": {},
   "source": [
    "2: Use async/await to handle single file processing locally\n",
    "-----------------------------------------------------------\n",
    "\n",
    "We can also handle the concurrency here within our local process.  This requires you to understand async/await syntax, but is generally powerful and arguably simpler than the `as_completed` approach above."
   ]
  },
  {
   "cell_type": "code",
   "execution_count": 6,
   "metadata": {},
   "outputs": [],
   "source": [
    "import asyncio\n",
    "\n",
    "async def f(fn):\n",
    "    \"\"\" Handle the lifecycle of a single file \"\"\"\n",
    "    future = client.submit(parse_file, fn, pure=False)\n",
    "    length_future = client.submit(len, future)\n",
    "    length = await length_future\n",
    "    \n",
    "    futures = [client.submit(operator.getitem, future, i, priority=10) \n",
    "               for i in range(length)]\n",
    "    futures = client.map(process_item, futures, priority=10)\n",
    "    return futures\n",
    "\n",
    "async def run_all(filenames):\n",
    "    list_of_list_of_futures = await asyncio.gather(*[f(fn) for fn in filenames])\n",
    "    futures = sum(list_of_list_of_futures, [])\n",
    "    return await client.gather(futures)\n"
   ]
  },
  {
   "cell_type": "markdown",
   "metadata": {},
   "source": [
    "We now need to run this function in the same event loop as our client is running.  If we had started our client asynchronously, then we could have done this:\n",
    "\n",
    "```python\n",
    "client = await Client(asynchronous=True)\n",
    "\n",
    "await run_all(filenames)\n",
    "```\n",
    "\n",
    "However, because we started our client without the `asynchronous=True` flag the event loop is actually running in a separate thread, so we'll have to ask the client to run this for us."
   ]
  },
  {
   "cell_type": "code",
   "execution_count": 7,
   "metadata": {},
   "outputs": [
    {
     "data": {
      "text/plain": [
       "[1.4955011638438545,\n",
       " 1.7469930673817191,\n",
       " 1.6975987015605898,\n",
       " 1.0147919960034988,\n",
       " 1.6277505556265015,\n",
       " 1.2173602374254293,\n",
       " 1.0837302417191976,\n",
       " 1.075590249167107,\n",
       " 1.751379585957811,\n",
       " 1.1558119833323104,\n",
       " 1.5951921813750392,\n",
       " 1.5938748947458778,\n",
       " 1.3521045355361032,\n",
       " 1.486320307441011,\n",
       " 1.4071211652659725,\n",
       " 1.8962867765615183,\n",
       " 1.7013899662840555,\n",
       " 1.581929393957752,\n",
       " 1.743438483469316,\n",
       " 1.588365631608937,\n",
       " 1.4357359794819144,\n",
       " 1.6100986333769443,\n",
       " 1.8607112524725453,\n",
       " 1.169627372096319,\n",
       " 1.4986908661246172,\n",
       " 1.2045314363348538,\n",
       " 1.498524731081742,\n",
       " 1.8788955151997093,\n",
       " 1.1331117100806436,\n",
       " 1.8921566636861296,\n",
       " 1.5100141950145791,\n",
       " 1.2366869166893286,\n",
       " 1.4856696026896308,\n",
       " 1.7026049480958463,\n",
       " 1.131735959036471,\n",
       " 1.9541865440830333,\n",
       " 1.2389767534512655,\n",
       " 1.3448520965504818,\n",
       " 1.5367453215965163,\n",
       " 1.885968667011714,\n",
       " 1.1367656612942634,\n",
       " 1.8301705622711437,\n",
       " 1.9165346105505487,\n",
       " 1.2891887330068843,\n",
       " 1.292268723709069,\n",
       " 1.0843511918961752,\n",
       " 1.5361764003193321,\n",
       " 1.3989506356835992,\n",
       " 1.2172636202371172,\n",
       " 1.8193429356364832,\n",
       " 1.1294679080080123,\n",
       " 1.5794149460041518,\n",
       " 1.466972621881847,\n",
       " 1.228146756202195]"
      ]
     },
     "execution_count": 7,
     "metadata": {},
     "output_type": "execute_result"
    }
   ],
   "source": [
    "client.sync(run_all, filenames)"
   ]
  },
  {
   "cell_type": "markdown",
   "metadata": {},
   "source": [
    "3: Submit tasks from tasks\n",
    "--------------------------\n",
    "\n",
    "We can also submit tasks that themselves submit more tasks.  See [documentation here](https://docs.dask.org/en/latest/futures.html#submit-tasks-from-tasks)."
   ]
  },
  {
   "cell_type": "code",
   "execution_count": 8,
   "metadata": {},
   "outputs": [
    {
     "name": "stdout",
     "output_type": "stream",
     "text": [
      "CPU times: user 160 ms, sys: 11.3 ms, total: 171 ms\n",
      "Wall time: 1.77 s\n"
     ]
    }
   ],
   "source": [
    "%%time\n",
    "\n",
    "from dask.distributed import get_client, secede, rejoin\n",
    "\n",
    "def f(fn):\n",
    "    L = parse_file(fn)\n",
    "    client = get_client()\n",
    "    \n",
    "    futures = client.map(process_item, L, priority=10)\n",
    "    secede()\n",
    "    results = client.gather(futures)\n",
    "    rejoin()\n",
    "    return results\n",
    "\n",
    "futures = client.map(f, filenames, pure=False)\n",
    "results = client.gather(futures)"
   ]
  }
 ],
 "metadata": {
  "kernelspec": {
   "display_name": "Python 3",
   "language": "python",
   "name": "python3"
  },
  "language_info": {
   "codemirror_mode": {
    "name": "ipython",
    "version": 3
   },
   "file_extension": ".py",
   "mimetype": "text/x-python",
   "name": "python",
   "nbconvert_exporter": "python",
   "pygments_lexer": "ipython3",
   "version": "3.7.6"
  }
 },
 "nbformat": 4,
 "nbformat_minor": 4
}
