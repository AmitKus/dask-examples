{
 "cells": [
  {
   "cell_type": "markdown",
   "metadata": {},
   "source": [
    "Handle Evolving Workflows\n",
    "=========================\n",
    "\n",
    "For some workflows we don't know the extent of the computation at the outset.  We need to do some computation in order to figure out the rest of the computation that we need to do.  The computation grows and evolves as we do more work.\n",
    "\n",
    "As an example, consider a situation where you need to read many files and then based on the contents of those files, fire off additional work.  You would like to read the files in parallel, and then within each file expose more parallelism.\n",
    "\n",
    "This example goes through three ways to handle this situation using [Dask Futures](https://docs.dask.org/en/latest/futures.html)\n",
    "\n",
    "1.  Using `as_completed`\n",
    "2.  Using `async/await`\n",
    "3.  Launching tasks from tasks\n",
    "\n",
    "But first, lets run our code sequentially."
   ]
  },
  {
   "cell_type": "markdown",
   "metadata": {},
   "source": [
    "0: Sequential code\n",
    "------------------"
   ]
  },
  {
   "cell_type": "code",
   "execution_count": 1,
   "metadata": {},
   "outputs": [
    {
     "data": {
      "text/plain": [
       "['file.0.txt', 'file.1.txt', 'file.2.txt']"
      ]
     },
     "execution_count": 1,
     "metadata": {},
     "output_type": "execute_result"
    }
   ],
   "source": [
    "filenames = [\"file.{}.txt\".format(i) for i in range(10)]\n",
    "\n",
    "filenames[:3]"
   ]
  },
  {
   "cell_type": "code",
   "execution_count": 2,
   "metadata": {},
   "outputs": [],
   "source": [
    "import random, time\n",
    "\n",
    "\n",
    "def parse_file(fn: str) -> list:\n",
    "    \"\"\" Returns a list work items of unknown length \"\"\"\n",
    "    time.sleep(random.random())\n",
    "    return [random.random() for _ in range(random.randint(1, 10))]\n",
    "\n",
    "def process_item(x: float):\n",
    "    \"\"\" Process each work item \"\"\"\n",
    "    time.sleep(random.random() / 4)\n",
    "    return x + 1"
   ]
  },
  {
   "cell_type": "code",
   "execution_count": 3,
   "metadata": {},
   "outputs": [
    {
     "name": "stdout",
     "output_type": "stream",
     "text": [
      "CPU times: user 321 µs, sys: 7.77 ms, total: 8.09 ms\n",
      "Wall time: 12.8 s\n"
     ]
    }
   ],
   "source": [
    "%%time\n",
    "\n",
    "# This takes around 10-20s\n",
    "\n",
    "results = []\n",
    "\n",
    "for fn in filenames:\n",
    "    L = parse_file(fn)\n",
    "    for x in L:\n",
    "        out = process_item(x)\n",
    "        results.append(out)"
   ]
  },
  {
   "cell_type": "markdown",
   "metadata": {},
   "source": [
    "Start Dask Client\n",
    "-----------------\n",
    "\n",
    "We'll need a Dask client in order to manage dynamic workloads"
   ]
  },
  {
   "cell_type": "code",
   "execution_count": 4,
   "metadata": {},
   "outputs": [
    {
     "data": {
      "text/html": [
       "<table style=\"border: 2px solid white;\">\n",
       "<tr>\n",
       "<td style=\"vertical-align: top; border: 0px solid white\">\n",
       "<h3 style=\"text-align: left;\">Client</h3>\n",
       "<ul style=\"text-align: left; list-style: none; margin: 0; padding: 0;\">\n",
       "  <li><b>Scheduler: </b>inproc://10.20.255.50/10356/1</li>\n",
       "  <li><b>Dashboard: </b><a href='http://10.20.255.50:8787/status' target='_blank'>http://10.20.255.50:8787/status</a>\n",
       "</ul>\n",
       "</td>\n",
       "<td style=\"vertical-align: top; border: 0px solid white\">\n",
       "<h3 style=\"text-align: left;\">Cluster</h3>\n",
       "<ul style=\"text-align: left; list-style:none; margin: 0; padding: 0;\">\n",
       "  <li><b>Workers: </b>1</li>\n",
       "  <li><b>Cores: </b>6</li>\n",
       "  <li><b>Memory: </b>8.36 GB</li>\n",
       "</ul>\n",
       "</td>\n",
       "</tr>\n",
       "</table>"
      ],
      "text/plain": [
       "<Client: 'inproc://10.20.255.50/10356/1' processes=1 threads=6, memory=8.36 GB>"
      ]
     },
     "execution_count": 4,
     "metadata": {},
     "output_type": "execute_result"
    }
   ],
   "source": [
    "from dask.distributed import Client\n",
    "\n",
    "client = Client(processes=False, n_workers=1, threads_per_worker=6)\n",
    "client"
   ]
  },
  {
   "cell_type": "markdown",
   "metadata": {},
   "source": [
    "1: Use as_completed\n",
    "-------------------\n",
    "\n",
    "The [as_completed](https://docs.dask.org/en/latest/futures.html#distributed.as_completed) iterator lets us handle futures as they complete.  We can then submit more data on the fly.\n",
    "\n",
    "-   We submit a task for each of our filenames\n",
    "-   We also compute the length of each of the returned lists\n",
    "-   As those lengths return, we submit off a new task to get each item of that list.  We do this at higher priority, so that we process existing data before we collect new data.\n",
    "-   We wait on all of the returned results"
   ]
  },
  {
   "cell_type": "code",
   "execution_count": 5,
   "metadata": {},
   "outputs": [
    {
     "name": "stdout",
     "output_type": "stream",
     "text": [
      "CPU times: user 289 ms, sys: 33.9 ms, total: 323 ms\n",
      "Wall time: 1.74 s\n"
     ]
    },
    {
     "data": {
      "text/plain": [
       "[1.5675978240585215,\n",
       " 1.5314503465639082,\n",
       " 1.5558706878320745,\n",
       " 1.0151316802995058,\n",
       " 1.1584611113280743,\n",
       " 1.0674822733123017,\n",
       " 1.2419405212851284,\n",
       " 1.0458839376699745,\n",
       " 1.3750414566619116,\n",
       " 1.6082083604212785,\n",
       " 1.145008006093465,\n",
       " 1.5291219200057653,\n",
       " 1.8857928098234216,\n",
       " 1.1173130140079894,\n",
       " 1.4511483719539382,\n",
       " 1.637451099679402,\n",
       " 1.676813677980808,\n",
       " 1.148500270939909,\n",
       " 1.0347144727918578,\n",
       " 1.54227140779637,\n",
       " 1.1434894082136462,\n",
       " 1.0562574722187548,\n",
       " 1.4869595079596218,\n",
       " 1.9322405221658676,\n",
       " 1.144302280960801,\n",
       " 1.1751693953322295,\n",
       " 1.9087098113818923,\n",
       " 1.037278779832536,\n",
       " 1.6631299637949533,\n",
       " 1.4682437365813201,\n",
       " 1.7338809604065801,\n",
       " 1.718163219634079,\n",
       " 1.0280342976971233,\n",
       " 1.799639830537381,\n",
       " 1.3231360141092448,\n",
       " 1.2850728309254706,\n",
       " 1.742201972225805,\n",
       " 1.8917593181201242,\n",
       " 1.8329548806372453]"
      ]
     },
     "execution_count": 5,
     "metadata": {},
     "output_type": "execute_result"
    }
   ],
   "source": [
    "%%time\n",
    "\n",
    "from dask.distributed import as_completed\n",
    "import operator\n",
    "\n",
    "lists = client.map(parse_file, filenames, pure=False)\n",
    "lengths = client.map(len, lists)\n",
    "\n",
    "mapping = dict(zip(lengths, lists))\n",
    "\n",
    "futures = []\n",
    "\n",
    "for future in as_completed(lengths):\n",
    "    n = future.result()\n",
    "    L = mapping[future]\n",
    "    for i in range(n):\n",
    "        new = client.submit(operator.getitem, L, i, priority=1)\n",
    "        new = client.submit(process_item, new, priority=1)\n",
    "        futures.append(new)\n",
    "        \n",
    "client.gather(futures)"
   ]
  },
  {
   "cell_type": "markdown",
   "metadata": {},
   "source": [
    "2: Use async/await to handle single file processing locally\n",
    "-----------------------------------------------------------\n",
    "\n",
    "We can also handle the concurrency here within our local process.  This requires you to understand async/await syntax, but is generally powerful and arguably simpler than the `as_completed` approach above."
   ]
  },
  {
   "cell_type": "code",
   "execution_count": 6,
   "metadata": {},
   "outputs": [],
   "source": [
    "import asyncio\n",
    "\n",
    "async def f(fn):\n",
    "    \"\"\" Handle the lifecycle of a single file \"\"\"\n",
    "    future = client.submit(parse_file, fn, pure=False)\n",
    "    length_future = client.submit(len, future)\n",
    "    length = await length_future\n",
    "    \n",
    "    futures = [client.submit(operator.getitem, future, i, priority=10) \n",
    "               for i in range(length)]\n",
    "    futures = client.map(process_item, futures, priority=10)\n",
    "    return futures\n",
    "\n",
    "async def run_all(filenames):\n",
    "    list_of_list_of_futures = await asyncio.gather(*[f(fn) for fn in filenames])\n",
    "    futures = sum(list_of_list_of_futures, [])\n",
    "    return await client.gather(futures)\n"
   ]
  },
  {
   "cell_type": "markdown",
   "metadata": {},
   "source": [
    "We now need to run this function in the same event loop as our client is running.  If we had started our client asynchronously, then we could have done this:\n",
    "\n",
    "```python\n",
    "client = await Client(asynchronous=True)\n",
    "\n",
    "await run_all(filenames)\n",
    "```\n",
    "\n",
    "However, because we started our client without the `asynchronous=True` flag the event loop is actually running in a separate thread, so we'll have to ask the client to run this for us."
   ]
  },
  {
   "cell_type": "code",
   "execution_count": 7,
   "metadata": {},
   "outputs": [
    {
     "data": {
      "text/plain": [
       "[1.570975165108224,\n",
       " 1.8580659568557079,\n",
       " 1.3204151788953595,\n",
       " 1.8011648871240769,\n",
       " 1.757017104865715,\n",
       " 1.3520615042003286,\n",
       " 1.5407584782295096,\n",
       " 1.6812843021875863,\n",
       " 1.7810339082292432,\n",
       " 1.5313208110000618,\n",
       " 1.1405073408664324,\n",
       " 1.263305192621268,\n",
       " 1.8246603663793401,\n",
       " 1.8929322665445494,\n",
       " 1.8634438223385095,\n",
       " 1.4257453240391738,\n",
       " 1.6482966349713517,\n",
       " 1.454587467920187,\n",
       " 1.6711175305846946,\n",
       " 1.3599369885086054,\n",
       " 1.518797116128043,\n",
       " 1.6519169162063911,\n",
       " 1.0198314945341993,\n",
       " 1.8370323097195829,\n",
       " 1.3406481283240281,\n",
       " 1.042194953531665,\n",
       " 1.873334338457568,\n",
       " 1.0331971145387244,\n",
       " 1.1652758041181395,\n",
       " 1.9628479299126842,\n",
       " 1.5980412815658873,\n",
       " 1.9462963612532582,\n",
       " 1.8089788187028155,\n",
       " 1.5717390511484746,\n",
       " 1.579793539594443,\n",
       " 1.7735348851353439,\n",
       " 1.696867971521924,\n",
       " 1.4501896024923089,\n",
       " 1.8553299380494832,\n",
       " 1.0004459684412395,\n",
       " 1.9952175412585385,\n",
       " 1.8341135387399505,\n",
       " 1.6672636694332434,\n",
       " 1.8519073644443016,\n",
       " 1.0191204296371281,\n",
       " 1.7895323798491534,\n",
       " 1.9031219585788384,\n",
       " 1.1515237172337947,\n",
       " 1.8346199908307412,\n",
       " 1.413871741007327,\n",
       " 1.0907397942790047,\n",
       " 1.556272793899744,\n",
       " 1.0106395856833994,\n",
       " 1.9643694291650573,\n",
       " 1.3335138779823685,\n",
       " 1.1187279955871001,\n",
       " 1.5501177416789536,\n",
       " 1.4199729772232765,\n",
       " 1.9309095685500655,\n",
       " 1.038332212828448,\n",
       " 1.7641022241353475]"
      ]
     },
     "execution_count": 7,
     "metadata": {},
     "output_type": "execute_result"
    }
   ],
   "source": [
    "client.sync(run_all, filenames)"
   ]
  },
  {
   "cell_type": "markdown",
   "metadata": {},
   "source": [
    "3: Submit tasks from tasks\n",
    "--------------------------\n",
    "\n",
    "We can also submit tasks that themselves submit more tasks.  See [documentation here](https://docs.dask.org/en/latest/futures.html#submit-tasks-from-tasks)."
   ]
  },
  {
   "cell_type": "code",
   "execution_count": 8,
   "metadata": {},
   "outputs": [
    {
     "name": "stdout",
     "output_type": "stream",
     "text": [
      "CPU times: user 283 ms, sys: 36.6 ms, total: 319 ms\n",
      "Wall time: 2.06 s\n"
     ]
    }
   ],
   "source": [
    "%%time\n",
    "\n",
    "from dask.distributed import get_client, secede, rejoin\n",
    "\n",
    "def f(fn):\n",
    "    L = parse_file(fn)\n",
    "    client = get_client()\n",
    "    \n",
    "    futures = client.map(process_item, L, priority=10)\n",
    "    secede()\n",
    "    results = client.gather(futures)\n",
    "    rejoin()\n",
    "    return results\n",
    "\n",
    "futures = client.map(f, filenames, pure=False)\n",
    "results = client.gather(futures)"
   ]
  }
 ],
 "metadata": {
  "kernelspec": {
   "display_name": "Python 3",
   "language": "python",
   "name": "python3"
  },
  "language_info": {
   "codemirror_mode": {
    "name": "ipython",
    "version": 3
   },
   "file_extension": ".py",
   "mimetype": "text/x-python",
   "name": "python",
   "nbconvert_exporter": "python",
   "pygments_lexer": "ipython3",
   "version": "3.7.6"
  }
 },
 "nbformat": 4,
 "nbformat_minor": 4
}
