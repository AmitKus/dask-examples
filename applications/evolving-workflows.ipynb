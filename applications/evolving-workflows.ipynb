{
 "cells": [
  {
   "cell_type": "markdown",
   "metadata": {},
   "source": [
    "Handle Evolving Workflows\n",
    "=========================\n",
    "\n",
    "For some workflows we don't know the extent of the computation at the outset.  We need to do some computation in order to figure out the rest of the computation that we need to do.  The computation grows and evolves as we do more work.\n",
    "\n",
    "As an example, consider a situation where you need to read many files and then based on the contents of those files, fire off additional work.  You would like to read the files in parallel, and then within each file expose more parallelism.\n",
    "\n",
    "This example goes through three ways to handle this situation using [Dask Futures](https://docs.dask.org/en/latest/futures.html)\n",
    "\n",
    "1.  Using `as_completed`\n",
    "2.  Using `async/await`\n",
    "3.  Launching tasks from tasks\n",
    "\n",
    "But first, lets run our code sequentially."
   ]
  },
  {
   "cell_type": "markdown",
   "metadata": {},
   "source": [
    "0: Sequential code\n",
    "------------------"
   ]
  },
  {
   "cell_type": "code",
   "execution_count": 1,
   "metadata": {},
   "outputs": [
    {
     "data": {
      "text/plain": [
       "['file.0.txt', 'file.1.txt', 'file.2.txt']"
      ]
     },
     "execution_count": 1,
     "metadata": {},
     "output_type": "execute_result"
    }
   ],
   "source": [
    "filenames = [\"file.{}.txt\".format(i) for i in range(10)]\n",
    "\n",
    "filenames[:3]"
   ]
  },
  {
   "cell_type": "code",
   "execution_count": 2,
   "metadata": {},
   "outputs": [],
   "source": [
    "import random, time\n",
    "\n",
    "\n",
    "def parse_file(fn: str) -> list:\n",
    "    \"\"\" Returns a list work items of unknown length \"\"\"\n",
    "    time.sleep(random.random())\n",
    "    return [random.random() for _ in range(random.randint(1, 10))]\n",
    "\n",
    "def process_item(x: float):\n",
    "    \"\"\" Process each work item \"\"\"\n",
    "    time.sleep(random.random() / 4)\n",
    "    return x + 1"
   ]
  },
  {
   "cell_type": "code",
   "execution_count": 3,
   "metadata": {},
   "outputs": [
    {
     "name": "stdout",
     "output_type": "stream",
     "text": [
      "CPU times: user 5.55 ms, sys: 649 µs, total: 6.2 ms\n",
      "Wall time: 13.2 s\n"
     ]
    }
   ],
   "source": [
    "%%time\n",
    "\n",
    "# This takes around 10-20s\n",
    "\n",
    "results = []\n",
    "\n",
    "for fn in filenames:\n",
    "    L = parse_file(fn)\n",
    "    for x in L:\n",
    "        out = process_item(x)\n",
    "        results.append(out)"
   ]
  },
  {
   "cell_type": "markdown",
   "metadata": {},
   "source": [
    "Start Dask Client\n",
    "-----------------\n",
    "\n",
    "We'll need a Dask client in order to manage dynamic workloads"
   ]
  },
  {
   "cell_type": "code",
   "execution_count": 4,
   "metadata": {},
   "outputs": [
    {
     "data": {
      "text/html": [
       "<table style=\"border: 2px solid white;\">\n",
       "<tr>\n",
       "<td style=\"vertical-align: top; border: 0px solid white\">\n",
       "<h3 style=\"text-align: left;\">Client</h3>\n",
       "<ul style=\"text-align: left; list-style: none; margin: 0; padding: 0;\">\n",
       "  <li><b>Scheduler: </b>inproc://10.20.0.45/10309/1</li>\n",
       "  <li><b>Dashboard: </b><a href='http://10.20.0.45:8787/status' target='_blank'>http://10.20.0.45:8787/status</a></li>\n",
       "</ul>\n",
       "</td>\n",
       "<td style=\"vertical-align: top; border: 0px solid white\">\n",
       "<h3 style=\"text-align: left;\">Cluster</h3>\n",
       "<ul style=\"text-align: left; list-style:none; margin: 0; padding: 0;\">\n",
       "  <li><b>Workers: </b>1</li>\n",
       "  <li><b>Cores: </b>6</li>\n",
       "  <li><b>Memory: </b>8.36 GB</li>\n",
       "</ul>\n",
       "</td>\n",
       "</tr>\n",
       "</table>"
      ],
      "text/plain": [
       "<Client: 'inproc://10.20.0.45/10309/1' processes=1 threads=6, memory=8.36 GB>"
      ]
     },
     "execution_count": 4,
     "metadata": {},
     "output_type": "execute_result"
    }
   ],
   "source": [
    "from dask.distributed import Client\n",
    "\n",
    "client = Client(processes=False, n_workers=1, threads_per_worker=6)\n",
    "client"
   ]
  },
  {
   "cell_type": "markdown",
   "metadata": {},
   "source": [
    "1: Use as_completed\n",
    "-------------------\n",
    "\n",
    "The [as_completed](https://docs.dask.org/en/latest/futures.html#distributed.as_completed) iterator lets us handle futures as they complete.  We can then submit more data on the fly.\n",
    "\n",
    "-   We submit a task for each of our filenames\n",
    "-   We also compute the length of each of the returned lists\n",
    "-   As those lengths return, we submit off a new task to get each item of that list.  We do this at higher priority, so that we process existing data before we collect new data.\n",
    "-   We wait on all of the returned results"
   ]
  },
  {
   "cell_type": "code",
   "execution_count": 5,
   "metadata": {},
   "outputs": [
    {
     "name": "stdout",
     "output_type": "stream",
     "text": [
      "CPU times: user 260 ms, sys: 23.5 ms, total: 283 ms\n",
      "Wall time: 2.01 s\n"
     ]
    },
    {
     "data": {
      "text/plain": [
       "[1.0625504807587531,\n",
       " 1.7882678889733414,\n",
       " 1.882659468672809,\n",
       " 1.2607875487622937,\n",
       " 1.0905222205681346,\n",
       " 1.8279596122202448,\n",
       " 1.6198623690710459,\n",
       " 1.871794498006287,\n",
       " 1.92566515438903,\n",
       " 1.6325886954371698,\n",
       " 1.1966603535443736,\n",
       " 1.3975654735510947,\n",
       " 1.1668441541689458,\n",
       " 1.8887256330889866,\n",
       " 1.4410119635641276,\n",
       " 1.4999854932521781,\n",
       " 1.7632958810785082,\n",
       " 1.733424903086727,\n",
       " 1.6035043232044612,\n",
       " 1.9802038346627155,\n",
       " 1.9466521319268588,\n",
       " 1.2819259309251538,\n",
       " 1.3153222163930995,\n",
       " 1.3537095893959803,\n",
       " 1.6989234791011456,\n",
       " 1.6958292671505002,\n",
       " 1.4564108530257631,\n",
       " 1.0489990633019108,\n",
       " 1.6589007703037124,\n",
       " 1.1829783567531997,\n",
       " 1.3352407337530285,\n",
       " 1.7992383745525125,\n",
       " 1.7860398885642073,\n",
       " 1.8975876525513873,\n",
       " 1.1185532779603138,\n",
       " 1.1938735870139967,\n",
       " 1.0348906282446548,\n",
       " 1.4884976532733925,\n",
       " 1.0752464679423905,\n",
       " 1.4529445634842184,\n",
       " 1.5064416039011,\n",
       " 1.7506098462615658,\n",
       " 1.4418328713191628,\n",
       " 1.1934911183799226,\n",
       " 1.1433345312686098,\n",
       " 1.1198948078173854,\n",
       " 1.990534439986992,\n",
       " 1.6627676003143947,\n",
       " 1.6207528556252304,\n",
       " 1.3476191880504167,\n",
       " 1.9647286455271045]"
      ]
     },
     "execution_count": 5,
     "metadata": {},
     "output_type": "execute_result"
    }
   ],
   "source": [
    "%%time\n",
    "\n",
    "from dask.distributed import as_completed\n",
    "import operator\n",
    "\n",
    "lists = client.map(parse_file, filenames, pure=False)\n",
    "lengths = client.map(len, lists)\n",
    "\n",
    "mapping = dict(zip(lengths, lists))\n",
    "\n",
    "futures = []\n",
    "\n",
    "for future in as_completed(lengths):\n",
    "    n = future.result()\n",
    "    L = mapping[future]\n",
    "    for i in range(n):\n",
    "        new = client.submit(operator.getitem, L, i, priority=1)\n",
    "        new = client.submit(process_item, new, priority=1)\n",
    "        futures.append(new)\n",
    "        \n",
    "client.gather(futures)"
   ]
  },
  {
   "cell_type": "markdown",
   "metadata": {},
   "source": [
    "2: Use async/await to handle single file processing locally\n",
    "-----------------------------------------------------------\n",
    "\n",
    "We can also handle the concurrency here within our local process.  This requires you to understand async/await syntax, but is generally powerful and arguably simpler than the `as_completed` approach above."
   ]
  },
  {
   "cell_type": "code",
   "execution_count": 6,
   "metadata": {},
   "outputs": [],
   "source": [
    "import asyncio\n",
    "\n",
    "async def f(fn):\n",
    "    \"\"\" Handle the lifecycle of a single file \"\"\"\n",
    "    future = client.submit(parse_file, fn, pure=False)\n",
    "    length_future = client.submit(len, future)\n",
    "    length = await length_future\n",
    "    \n",
    "    futures = [client.submit(operator.getitem, future, i, priority=10) \n",
    "               for i in range(length)]\n",
    "    futures = client.map(process_item, futures, priority=10)\n",
    "    return futures\n",
    "\n",
    "async def run_all(filenames):\n",
    "    list_of_list_of_futures = await asyncio.gather(*[f(fn) for fn in filenames])\n",
    "    futures = sum(list_of_list_of_futures, [])\n",
    "    return await client.gather(futures)\n"
   ]
  },
  {
   "cell_type": "markdown",
   "metadata": {},
   "source": [
    "We now need to run this function in the same event loop as our client is running.  If we had started our client asynchronously, then we could have done this:\n",
    "\n",
    "```python\n",
    "client = await Client(asynchronous=True)\n",
    "\n",
    "await run_all(filenames)\n",
    "```\n",
    "\n",
    "However, because we started our client without the `asynchronous=True` flag the event loop is actually running in a separate thread, so we'll have to ask the client to run this for us."
   ]
  },
  {
   "cell_type": "code",
   "execution_count": 7,
   "metadata": {},
   "outputs": [
    {
     "data": {
      "text/plain": [
       "[1.9697426558728026,\n",
       " 1.2366047075243904,\n",
       " 1.9188699034845014,\n",
       " 1.833251163859102,\n",
       " 1.636724366968267,\n",
       " 1.2797558262886333,\n",
       " 1.213260748547338,\n",
       " 1.3610217966282399,\n",
       " 1.8672077113363128,\n",
       " 1.869122489661819,\n",
       " 1.4616580708916878,\n",
       " 1.8392177322061973,\n",
       " 1.8112869574954313,\n",
       " 1.4290832550264416,\n",
       " 1.2093340522809908,\n",
       " 1.2339106663227366,\n",
       " 1.8879748881893144,\n",
       " 1.3269361994612008,\n",
       " 1.9659787726568714,\n",
       " 1.966906205164027,\n",
       " 1.2336338881948103,\n",
       " 1.044524723018807,\n",
       " 1.444700791263998,\n",
       " 1.771582547839159,\n",
       " 1.581757849644561,\n",
       " 1.733067113825895,\n",
       " 1.9631417125607329,\n",
       " 1.2164911293117038,\n",
       " 1.6119264063038279,\n",
       " 1.5128725999430377,\n",
       " 1.874487547963978,\n",
       " 1.1190248530126627,\n",
       " 1.3922233846811136,\n",
       " 1.603248188906124,\n",
       " 1.5121462560829126,\n",
       " 1.8273688865490252,\n",
       " 1.207558443200056,\n",
       " 1.752664199565895,\n",
       " 1.4964114513883366,\n",
       " 1.0485433753371312,\n",
       " 1.5070240769482393,\n",
       " 1.7252690643745643,\n",
       " 1.972715373133378,\n",
       " 1.9554893811585488,\n",
       " 1.3584921798871683,\n",
       " 1.03513407779824,\n",
       " 1.9933087705627717,\n",
       " 1.962751081381723,\n",
       " 1.377180052758748,\n",
       " 1.5513021704885903,\n",
       " 1.3436424979858923,\n",
       " 1.920119760434001,\n",
       " 1.180421710047728,\n",
       " 1.9572383288556303,\n",
       " 1.200140763901834,\n",
       " 1.677054896437546,\n",
       " 1.3935490292518158,\n",
       " 1.618310379021708,\n",
       " 1.4650736951776486,\n",
       " 1.4310912576159631,\n",
       " 1.1052909779814435,\n",
       " 1.40518235668205,\n",
       " 1.0839438771354406,\n",
       " 1.1192753554711794,\n",
       " 1.1388406664203727,\n",
       " 1.1166652817887144,\n",
       " 1.5359696147960489,\n",
       " 1.3184364165402456,\n",
       " 1.3223291476657968,\n",
       " 1.387797373547774,\n",
       " 1.9248454022126205,\n",
       " 1.8282975332313791,\n",
       " 1.4510523824464372,\n",
       " 1.3402886446786144]"
      ]
     },
     "execution_count": 7,
     "metadata": {},
     "output_type": "execute_result"
    }
   ],
   "source": [
    "client.sync(run_all, filenames)"
   ]
  },
  {
   "cell_type": "markdown",
   "metadata": {},
   "source": [
    "3: Submit tasks from tasks\n",
    "--------------------------\n",
    "\n",
    "We can also submit tasks that themselves submit more tasks.  See [documentation here](https://docs.dask.org/en/latest/futures.html#submit-tasks-from-tasks)."
   ]
  },
  {
   "cell_type": "code",
   "execution_count": 8,
   "metadata": {},
   "outputs": [
    {
     "name": "stdout",
     "output_type": "stream",
     "text": [
      "CPU times: user 237 ms, sys: 17.1 ms, total: 254 ms\n",
      "Wall time: 2.72 s\n"
     ]
    }
   ],
   "source": [
    "%%time\n",
    "\n",
    "from dask.distributed import get_client, secede, rejoin\n",
    "\n",
    "def f(fn):\n",
    "    L = parse_file(fn)\n",
    "    client = get_client()\n",
    "    \n",
    "    futures = client.map(process_item, L, priority=10)\n",
    "    secede()\n",
    "    results = client.gather(futures)\n",
    "    rejoin()\n",
    "    return results\n",
    "\n",
    "futures = client.map(f, filenames, pure=False)\n",
    "results = client.gather(futures)"
   ]
  }
 ],
 "metadata": {
  "kernelspec": {
   "display_name": "Python 3",
   "language": "python",
   "name": "python3"
  },
  "language_info": {
   "codemirror_mode": {
    "name": "ipython",
    "version": 3
   },
   "file_extension": ".py",
   "mimetype": "text/x-python",
   "name": "python",
   "nbconvert_exporter": "python",
   "pygments_lexer": "ipython3",
   "version": "3.7.6"
  }
 },
 "nbformat": 4,
 "nbformat_minor": 4
}
