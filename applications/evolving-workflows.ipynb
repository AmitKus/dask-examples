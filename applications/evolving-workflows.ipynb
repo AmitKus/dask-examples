{
 "cells": [
  {
   "cell_type": "markdown",
   "metadata": {},
   "source": [
    "Handle Evolving Workflows\n",
    "=========================\n",
    "\n",
    "For some workflows we don't know the extent of the computation at the outset.  We need to do some computation in order to figure out the rest of the computation that we need to do.  The computation grows and evolves as we do more work.\n",
    "\n",
    "As an example, consider a situation where you need to read many files and then based on the contents of those files, fire off additional work.  You would like to read the files in parallel, and then within each file expose more parallelism.\n",
    "\n",
    "This example goes through three ways to handle this situation using [Dask Futures](https://docs.dask.org/en/latest/futures.html)\n",
    "\n",
    "1.  Using `as_completed`\n",
    "2.  Using `async/await`\n",
    "3.  Launching tasks from tasks\n",
    "\n",
    "But first, lets run our code sequentially."
   ]
  },
  {
   "cell_type": "markdown",
   "metadata": {},
   "source": [
    "0: Sequential code\n",
    "------------------"
   ]
  },
  {
   "cell_type": "code",
   "execution_count": 1,
   "metadata": {},
   "outputs": [
    {
     "data": {
      "text/plain": [
       "['file.0.txt', 'file.1.txt', 'file.2.txt']"
      ]
     },
     "execution_count": 1,
     "metadata": {},
     "output_type": "execute_result"
    }
   ],
   "source": [
    "filenames = [\"file.{}.txt\".format(i) for i in range(10)]\n",
    "\n",
    "filenames[:3]"
   ]
  },
  {
   "cell_type": "code",
   "execution_count": 2,
   "metadata": {},
   "outputs": [],
   "source": [
    "import random, time\n",
    "\n",
    "\n",
    "def parse_file(fn: str) -> list:\n",
    "    \"\"\" Returns a list work items of unknown length \"\"\"\n",
    "    time.sleep(random.random())\n",
    "    return [random.random() for _ in range(random.randint(1, 10))]\n",
    "\n",
    "def process_item(x: float):\n",
    "    \"\"\" Process each work item \"\"\"\n",
    "    time.sleep(random.random() / 4)\n",
    "    return x + 1"
   ]
  },
  {
   "cell_type": "code",
   "execution_count": 3,
   "metadata": {},
   "outputs": [
    {
     "name": "stdout",
     "output_type": "stream",
     "text": [
      "CPU times: user 4.99 ms, sys: 0 ns, total: 4.99 ms\n",
      "Wall time: 11.8 s\n"
     ]
    }
   ],
   "source": [
    "%%time\n",
    "\n",
    "# This takes around 10-20s\n",
    "\n",
    "results = []\n",
    "\n",
    "for fn in filenames:\n",
    "    L = parse_file(fn)\n",
    "    for x in L:\n",
    "        out = process_item(x)\n",
    "        results.append(out)"
   ]
  },
  {
   "cell_type": "markdown",
   "metadata": {},
   "source": [
    "Start Dask Client\n",
    "-----------------\n",
    "\n",
    "We'll need a Dask client in order to manage dynamic workloads"
   ]
  },
  {
   "cell_type": "code",
   "execution_count": 4,
   "metadata": {},
   "outputs": [
    {
     "data": {
      "text/html": [
       "<table style=\"border: 2px solid white;\">\n",
       "<tr>\n",
       "<td style=\"vertical-align: top; border: 0px solid white\">\n",
       "<h3 style=\"text-align: left;\">Client</h3>\n",
       "<ul style=\"text-align: left; list-style: none; margin: 0; padding: 0;\">\n",
       "  <li><b>Scheduler: </b>inproc://10.20.0.86/10389/1</li>\n",
       "  <li><b>Dashboard: </b><a href='http://10.20.0.86:8787/status' target='_blank'>http://10.20.0.86:8787/status</a>\n",
       "</ul>\n",
       "</td>\n",
       "<td style=\"vertical-align: top; border: 0px solid white\">\n",
       "<h3 style=\"text-align: left;\">Cluster</h3>\n",
       "<ul style=\"text-align: left; list-style:none; margin: 0; padding: 0;\">\n",
       "  <li><b>Workers: </b>1</li>\n",
       "  <li><b>Cores: </b>6</li>\n",
       "  <li><b>Memory: </b>8.36 GB</li>\n",
       "</ul>\n",
       "</td>\n",
       "</tr>\n",
       "</table>"
      ],
      "text/plain": [
       "<Client: 'inproc://10.20.0.86/10389/1' processes=1 threads=6, memory=8.36 GB>"
      ]
     },
     "execution_count": 4,
     "metadata": {},
     "output_type": "execute_result"
    }
   ],
   "source": [
    "from dask.distributed import Client\n",
    "\n",
    "client = Client(processes=False, n_workers=1, threads_per_worker=6)\n",
    "client"
   ]
  },
  {
   "cell_type": "markdown",
   "metadata": {},
   "source": [
    "1: Use as_completed\n",
    "-------------------\n",
    "\n",
    "The [as_completed](https://docs.dask.org/en/latest/futures.html#distributed.as_completed) iterator lets us handle futures as they complete.  We can then submit more data on the fly.\n",
    "\n",
    "-   We submit a task for each of our filenames\n",
    "-   We also compute the length of each of the returned lists\n",
    "-   As those lengths return, we submit off a new task to get each item of that list.  We do this at higher priority, so that we process existing data before we collect new data.\n",
    "-   We wait on all of the returned results"
   ]
  },
  {
   "cell_type": "code",
   "execution_count": 5,
   "metadata": {},
   "outputs": [
    {
     "name": "stdout",
     "output_type": "stream",
     "text": [
      "CPU times: user 215 ms, sys: 23.3 ms, total: 238 ms\n",
      "Wall time: 2.01 s\n"
     ]
    },
    {
     "data": {
      "text/plain": [
       "[1.5932676971606397,\n",
       " 1.2300522927656454,\n",
       " 1.7343707569318427,\n",
       " 1.424468548981303,\n",
       " 1.0309922951822217,\n",
       " 1.7739794709828822,\n",
       " 1.1560868184008868,\n",
       " 1.3983327767858114,\n",
       " 1.9789931897985125,\n",
       " 1.2546276410611954,\n",
       " 1.5550413701792127,\n",
       " 1.3952077705886776,\n",
       " 1.3588763574654408,\n",
       " 1.6727619970224863,\n",
       " 1.5071871434108886,\n",
       " 1.380898209574088,\n",
       " 1.6901444751877777,\n",
       " 1.7949026204014313,\n",
       " 1.8199787724055487,\n",
       " 1.3993173509503254,\n",
       " 1.7010026291635545,\n",
       " 1.5950174167535698,\n",
       " 1.0944375138550178,\n",
       " 1.3472519745250022,\n",
       " 1.1755653874361678,\n",
       " 1.368770974205575,\n",
       " 1.155362078465112,\n",
       " 1.3029387361926092,\n",
       " 1.3347842851090062,\n",
       " 1.5378335371021659,\n",
       " 1.440254976615883,\n",
       " 1.8959687474509983,\n",
       " 1.8965344438031075,\n",
       " 1.6718635331103209,\n",
       " 1.3745619286000665,\n",
       " 1.4830005050820314,\n",
       " 1.7067337406961023,\n",
       " 1.6188176727642978,\n",
       " 1.610386758249006,\n",
       " 1.9054714940450719,\n",
       " 1.0222370590349499,\n",
       " 1.1199435202841017,\n",
       " 1.8610955885416396,\n",
       " 1.5590454456878788,\n",
       " 1.6958983798177028,\n",
       " 1.7847378122737367,\n",
       " 1.2245319378864723,\n",
       " 1.5946396350013439,\n",
       " 1.771159745541372,\n",
       " 1.4077612686564427,\n",
       " 1.258725988367896]"
      ]
     },
     "execution_count": 5,
     "metadata": {},
     "output_type": "execute_result"
    }
   ],
   "source": [
    "%%time\n",
    "\n",
    "from dask.distributed import as_completed\n",
    "import operator\n",
    "\n",
    "lists = client.map(parse_file, filenames, pure=False)\n",
    "lengths = client.map(len, lists)\n",
    "\n",
    "mapping = dict(zip(lengths, lists))\n",
    "\n",
    "futures = []\n",
    "\n",
    "for future in as_completed(lengths):\n",
    "    n = future.result()\n",
    "    L = mapping[future]\n",
    "    for i in range(n):\n",
    "        new = client.submit(operator.getitem, L, i, priority=1)\n",
    "        new = client.submit(process_item, new, priority=1)\n",
    "        futures.append(new)\n",
    "        \n",
    "client.gather(futures)"
   ]
  },
  {
   "cell_type": "markdown",
   "metadata": {},
   "source": [
    "2: Use async/await to handle single file processing locally\n",
    "-----------------------------------------------------------\n",
    "\n",
    "We can also handle the concurrency here within our local process.  This requires you to understand async/await syntax, but is generally powerful and arguably simpler than the `as_completed` approach above."
   ]
  },
  {
   "cell_type": "code",
   "execution_count": 6,
   "metadata": {},
   "outputs": [],
   "source": [
    "import asyncio\n",
    "\n",
    "async def f(fn):\n",
    "    \"\"\" Handle the lifecycle of a single file \"\"\"\n",
    "    future = client.submit(parse_file, fn, pure=False)\n",
    "    length_future = client.submit(len, future)\n",
    "    length = await length_future\n",
    "    \n",
    "    futures = [client.submit(operator.getitem, future, i, priority=10) \n",
    "               for i in range(length)]\n",
    "    futures = client.map(process_item, futures, priority=10)\n",
    "    return futures\n",
    "\n",
    "async def run_all(filenames):\n",
    "    list_of_list_of_futures = await asyncio.gather(*[f(fn) for fn in filenames])\n",
    "    futures = sum(list_of_list_of_futures, [])\n",
    "    return await client.gather(futures)\n"
   ]
  },
  {
   "cell_type": "markdown",
   "metadata": {},
   "source": [
    "We now need to run this function in the same event loop as our client is running.  If we had started our client asynchronously, then we could have done this:\n",
    "\n",
    "```python\n",
    "client = await Client(asynchronous=True)\n",
    "\n",
    "await run_all(filenames)\n",
    "```\n",
    "\n",
    "However, because we started our client without the `asynchronous=True` flag the event loop is actually running in a separate thread, so we'll have to ask the client to run this for us."
   ]
  },
  {
   "cell_type": "code",
   "execution_count": 7,
   "metadata": {},
   "outputs": [
    {
     "data": {
      "text/plain": [
       "[1.011942590027322,\n",
       " 1.3461347644107602,\n",
       " 1.1294350884143407,\n",
       " 1.8690214351907557,\n",
       " 1.8196961751532559,\n",
       " 1.8805240876183764,\n",
       " 1.2934092084548179,\n",
       " 1.171328479117744,\n",
       " 1.1694798991432604,\n",
       " 1.5426605663483435,\n",
       " 1.2495795959614298,\n",
       " 1.4764486124617269,\n",
       " 1.6222037004054308,\n",
       " 1.0173858497518715,\n",
       " 1.5868145422576525,\n",
       " 1.8296947039495568,\n",
       " 1.0380143797676684,\n",
       " 1.0846780951945456,\n",
       " 1.8480704443603413,\n",
       " 1.5658838577401286,\n",
       " 1.4228133740200426,\n",
       " 1.8496478186457472,\n",
       " 1.4179912287148904,\n",
       " 1.1677002859351944,\n",
       " 1.515501164902533,\n",
       " 1.7143238151662339,\n",
       " 1.184217721062523,\n",
       " 1.0374524825997349,\n",
       " 1.9637357150616361,\n",
       " 1.9116364682255536,\n",
       " 1.0975834266471027,\n",
       " 1.4873823422237107,\n",
       " 1.184398413056476,\n",
       " 1.1196525750927662,\n",
       " 1.1218102741756328,\n",
       " 1.2710192986544184,\n",
       " 1.7659090994097393,\n",
       " 1.894272312946804,\n",
       " 1.1005118423809606,\n",
       " 1.7279863586433983,\n",
       " 1.1378074590116363,\n",
       " 1.2645593801934476,\n",
       " 1.8452059154520333,\n",
       " 1.9722897705413471,\n",
       " 1.4677465809033476,\n",
       " 1.2298330792034435,\n",
       " 1.9617865543398878,\n",
       " 1.6145492780478703,\n",
       " 1.7314452968922909,\n",
       " 1.8030711547491127,\n",
       " 1.151155807334417,\n",
       " 1.047649148607486,\n",
       " 1.5767741431867537,\n",
       " 1.9985371191565817,\n",
       " 1.934323270803475,\n",
       " 1.0418729587464657,\n",
       " 1.7045334674396293,\n",
       " 1.2340145450427404,\n",
       " 1.1821990486738778,\n",
       " 1.9991386276953185,\n",
       " 1.5000059876227136,\n",
       " 1.7492145318835282,\n",
       " 1.3440697605504834]"
      ]
     },
     "execution_count": 7,
     "metadata": {},
     "output_type": "execute_result"
    }
   ],
   "source": [
    "client.sync(run_all, filenames)"
   ]
  },
  {
   "cell_type": "markdown",
   "metadata": {},
   "source": [
    "3: Submit tasks from tasks\n",
    "--------------------------\n",
    "\n",
    "We can also submit tasks that themselves submit more tasks.  See [documentation here](https://docs.dask.org/en/latest/futures.html#submit-tasks-from-tasks)."
   ]
  },
  {
   "cell_type": "code",
   "execution_count": 8,
   "metadata": {},
   "outputs": [
    {
     "name": "stdout",
     "output_type": "stream",
     "text": [
      "CPU times: user 156 ms, sys: 27.5 ms, total: 184 ms\n",
      "Wall time: 2.31 s\n"
     ]
    }
   ],
   "source": [
    "%%time\n",
    "\n",
    "from dask.distributed import get_client, secede, rejoin\n",
    "\n",
    "def f(fn):\n",
    "    L = parse_file(fn)\n",
    "    client = get_client()\n",
    "    \n",
    "    futures = client.map(process_item, L, priority=10)\n",
    "    secede()\n",
    "    results = client.gather(futures)\n",
    "    rejoin()\n",
    "    return results\n",
    "\n",
    "futures = client.map(f, filenames, pure=False)\n",
    "results = client.gather(futures)"
   ]
  }
 ],
 "metadata": {
  "kernelspec": {
   "display_name": "Python 3",
   "language": "python",
   "name": "python3"
  },
  "language_info": {
   "codemirror_mode": {
    "name": "ipython",
    "version": 3
   },
   "file_extension": ".py",
   "mimetype": "text/x-python",
   "name": "python",
   "nbconvert_exporter": "python",
   "pygments_lexer": "ipython3",
   "version": "3.7.6"
  }
 },
 "nbformat": 4,
 "nbformat_minor": 4
}
